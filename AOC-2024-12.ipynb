{
 "cells": [
  {
   "cell_type": "code",
   "execution_count": 29,
   "id": "1b850293-343d-4004-a219-3e22730fedd5",
   "metadata": {},
   "outputs": [],
   "source": [
    "!vimr 2024-12.txt"
   ]
  },
  {
   "cell_type": "code",
   "execution_count": 58,
   "id": "e6e8a827-e521-4074-a17f-eea5bfce81f2",
   "metadata": {},
   "outputs": [],
   "source": [
    "from collections import defaultdict\n",
    "\n",
    "data = \"\"\"RRRRIICCFF\n",
    "RRRRIICCCF\n",
    "VVRRRCCFFF\n",
    "VVRCCCJFFF\n",
    "VVVVCJJCFE\n",
    "VVIVCCJJEE\n",
    "VVIIICJJEE\n",
    "MIIIIIJJEE\n",
    "MIIISIJEEE\n",
    "MMMISSJEEE\"\"\"\n",
    "\n",
    "from pathlib import Path\n",
    "#data = Path('2024-12.txt').read_text()\n",
    "def make_grid(data):\n",
    "    return {(x,y):r for y,l in enumerate(data.splitlines()) for x,r in enumerate(l) }\n",
    "\n",
    "grid = make_grid(data)"
   ]
  },
  {
   "cell_type": "code",
   "execution_count": 45,
   "id": "c5d576e7-00e2-4451-a911-b85153aef88f",
   "metadata": {},
   "outputs": [],
   "source": [
    "grid_n = dict()\n",
    "\n",
    "for (y,x),r in grid.items():\n",
    "    neighbors = [n for dx,dy in ((-1,0),(1,0),(0,1),(0,-1)) if (n:=grid.get((y+dy, x+dx), None)) == r]\n",
    "    fences = 4 - len(neighbors)\n",
    "    grid_n[(y,x)] = (r, (y,x), fences)"
   ]
  },
  {
   "cell_type": "code",
   "execution_count": 87,
   "id": "8eb77d9b-b60a-4331-bca5-c2d735c0f511",
   "metadata": {},
   "outputs": [],
   "source": [
    "\n",
    "\n",
    "def make_corner_grid(grid):\n",
    "\n",
    "    grid_c = dict()\n",
    "    \n",
    "    for (y,x),r in grid.items():\n",
    "        corners = 0\n",
    "        #print(x,y,r)\n",
    "        for dy,dx in ((-1,-1),(-1,1),(1,1),(1,-1)):\n",
    "            a,b,c = grid.get((y-dy,x), None), grid.get((y-dy,x-dx), None), grid.get((y,x-dx), None)\n",
    "            if r == a == b == c:   # AB\n",
    "                pass               # RC\n",
    "                #print('inside', r, a, b,c)\n",
    "            elif r != a and r != c:\n",
    "                assert r!=c # no corner -corner regions\n",
    "                corners +=1\n",
    "                #print('outer corner', r, a, b,c)\n",
    "            elif r != a or r != c:  # a.      A.\n",
    "                pass                 # RC  or  Rc\n",
    "                #print('strait',r, a, b,c)\n",
    "            elif r == a == c and  r != b:   # Ab\n",
    "                corners += 1                # RC  inner corner\n",
    "                #print('inner corner', r, a, b,c)\n",
    "            else:\n",
    "                print('---')\n",
    "                print(a,b)\n",
    "                print(r.lower(),c)\n",
    "        \n",
    "        grid_c[(y,x)] = (r, (y,x), corners)\n",
    "    return grid_c\n",
    "grid_c = make_corner_grid(grid)"
   ]
  },
  {
   "cell_type": "code",
   "execution_count": 88,
   "id": "265ff720-7d0c-46e7-b4cb-e8ec0defb235",
   "metadata": {},
   "outputs": [
    {
     "data": {
      "text/plain": [
       "{(0, 0): 'R',\n",
       " (1, 0): 'R',\n",
       " (2, 0): 'R',\n",
       " (3, 0): 'R',\n",
       " (4, 0): 'I',\n",
       " (5, 0): 'I',\n",
       " (6, 0): 'C',\n",
       " (7, 0): 'C',\n",
       " (8, 0): 'F',\n",
       " (9, 0): 'F',\n",
       " (0, 1): 'R',\n",
       " (1, 1): 'R',\n",
       " (2, 1): 'R',\n",
       " (3, 1): 'R',\n",
       " (4, 1): 'I',\n",
       " (5, 1): 'I',\n",
       " (6, 1): 'C',\n",
       " (7, 1): 'C',\n",
       " (8, 1): 'C',\n",
       " (9, 1): 'F',\n",
       " (0, 2): 'V',\n",
       " (1, 2): 'V',\n",
       " (2, 2): 'R',\n",
       " (3, 2): 'R',\n",
       " (4, 2): 'R',\n",
       " (5, 2): 'C',\n",
       " (6, 2): 'C',\n",
       " (7, 2): 'F',\n",
       " (8, 2): 'F',\n",
       " (9, 2): 'F',\n",
       " (0, 3): 'V',\n",
       " (1, 3): 'V',\n",
       " (2, 3): 'R',\n",
       " (3, 3): 'C',\n",
       " (4, 3): 'C',\n",
       " (5, 3): 'C',\n",
       " (6, 3): 'J',\n",
       " (7, 3): 'F',\n",
       " (8, 3): 'F',\n",
       " (9, 3): 'F',\n",
       " (0, 4): 'V',\n",
       " (1, 4): 'V',\n",
       " (2, 4): 'V',\n",
       " (3, 4): 'V',\n",
       " (4, 4): 'C',\n",
       " (5, 4): 'J',\n",
       " (6, 4): 'J',\n",
       " (7, 4): 'C',\n",
       " (8, 4): 'F',\n",
       " (9, 4): 'E',\n",
       " (0, 5): 'V',\n",
       " (1, 5): 'V',\n",
       " (2, 5): 'I',\n",
       " (3, 5): 'V',\n",
       " (4, 5): 'C',\n",
       " (5, 5): 'C',\n",
       " (6, 5): 'J',\n",
       " (7, 5): 'J',\n",
       " (8, 5): 'E',\n",
       " (9, 5): 'E',\n",
       " (0, 6): 'V',\n",
       " (1, 6): 'V',\n",
       " (2, 6): 'I',\n",
       " (3, 6): 'I',\n",
       " (4, 6): 'I',\n",
       " (5, 6): 'C',\n",
       " (6, 6): 'J',\n",
       " (7, 6): 'J',\n",
       " (8, 6): 'E',\n",
       " (9, 6): 'E',\n",
       " (0, 7): 'M',\n",
       " (1, 7): 'I',\n",
       " (2, 7): 'I',\n",
       " (3, 7): 'I',\n",
       " (4, 7): 'I',\n",
       " (5, 7): 'I',\n",
       " (6, 7): 'J',\n",
       " (7, 7): 'J',\n",
       " (8, 7): 'E',\n",
       " (9, 7): 'E',\n",
       " (0, 8): 'M',\n",
       " (1, 8): 'I',\n",
       " (2, 8): 'I',\n",
       " (3, 8): 'I',\n",
       " (4, 8): 'S',\n",
       " (5, 8): 'I',\n",
       " (6, 8): 'J',\n",
       " (7, 8): 'E',\n",
       " (8, 8): 'E',\n",
       " (9, 8): 'E',\n",
       " (0, 9): 'M',\n",
       " (1, 9): 'M',\n",
       " (2, 9): 'M',\n",
       " (3, 9): 'I',\n",
       " (4, 9): 'S',\n",
       " (5, 9): 'S',\n",
       " (6, 9): 'J',\n",
       " (7, 9): 'E',\n",
       " (8, 9): 'E',\n",
       " (9, 9): 'E'}"
      ]
     },
     "execution_count": 88,
     "metadata": {},
     "output_type": "execute_result"
    }
   ],
   "source": [
    "grid"
   ]
  },
  {
   "cell_type": "code",
   "execution_count": 89,
   "id": "12db3c61-3dc2-4482-b804-ea36df3d03df",
   "metadata": {},
   "outputs": [
    {
     "data": {
      "text/plain": [
       "1930"
      ]
     },
     "execution_count": 89,
     "metadata": {},
     "output_type": "execute_result"
    }
   ],
   "source": [
    "def pick_region(start, grid_n):\n",
    "    open = {start}\n",
    "    close = set()\n",
    "    while open:\n",
    "        node = open.pop()\n",
    "        r,(y,x), fences = node\n",
    "        neighbors = {n for dx,dy in ((-1,0),(1,0),(0,1),(0,-1)) if (n:=grid_n.get((y+dy, x+dx), [None]))[0] == r}\n",
    "        neighbors = neighbors - close\n",
    "        open.update(neighbors)\n",
    "        close.add(node)\n",
    "    return close\n",
    "\n",
    "\n",
    "def price(grid_n):\n",
    "    regions = []\n",
    "    from copy import copy\n",
    "    source = set(grid_n.values())\n",
    "    while source:\n",
    "        reg = pick_region(source.pop(), grid_n)\n",
    "        source = source - reg\n",
    "        regions.append(reg)\n",
    "    l = [(next(iter(r))[0], len(r), sum(c[2] for c in r)) for r in regions]\n",
    "    l.sort()\n",
    "    return sum([a*p for _,a,p in l])\n",
    "\n",
    "price(grid_n) # 1431316"
   ]
  },
  {
   "cell_type": "code",
   "execution_count": 90,
   "id": "ef5ac021-8d86-4d4b-bfb3-882b3533e9d1",
   "metadata": {},
   "outputs": [
    {
     "data": {
      "text/plain": [
       "368"
      ]
     },
     "execution_count": 90,
     "metadata": {},
     "output_type": "execute_result"
    }
   ],
   "source": [
    "price(make_corner_grid(make_grid(\n",
    "\"\"\"AAAAAA\n",
    "   AAABBA\n",
    "   AAABBA\n",
    "   ABBAAA\n",
    "   ABBAAA\n",
    "   AAAAAA\"\"\".replace(' ','')))) # 368"
   ]
  },
  {
   "cell_type": "code",
   "execution_count": 92,
   "id": "97272b64-4ebe-47a5-ba53-8e37ba0ff623",
   "metadata": {},
   "outputs": [
    {
     "data": {
      "text/plain": [
       "236"
      ]
     },
     "execution_count": 92,
     "metadata": {},
     "output_type": "execute_result"
    }
   ],
   "source": [
    "price(make_corner_grid(make_grid(\n",
    "\"\"\"EEEEE\n",
    "EXXXX\n",
    "EEEEE\n",
    "EXXXX\n",
    "EEEEE\"\"\".replace(' ','')))) # 236"
   ]
  },
  {
   "cell_type": "code",
   "execution_count": 93,
   "id": "fa452fb7-df69-496d-b4dc-e56c07dbb9b7",
   "metadata": {},
   "outputs": [
    {
     "data": {
      "text/plain": [
       "436"
      ]
     },
     "execution_count": 93,
     "metadata": {},
     "output_type": "execute_result"
    }
   ],
   "source": [
    "price(make_corner_grid(make_grid(\n",
    "\"\"\"OOOOO\n",
    "OXOXO\n",
    "OOOOO\n",
    "OXOXO\n",
    "OOOOO\"\"\".replace(' ',''))))"
   ]
  },
  {
   "cell_type": "code",
   "execution_count": 94,
   "id": "5a94089a-3795-4c37-92e4-0cde78de8196",
   "metadata": {},
   "outputs": [
    {
     "data": {
      "text/plain": [
       "821428"
      ]
     },
     "execution_count": 94,
     "metadata": {},
     "output_type": "execute_result"
    }
   ],
   "source": [
    "\n",
    "\n",
    "\n",
    "price(make_corner_grid(make_grid(Path('2024-12.txt').read_text())))"
   ]
  },
  {
   "cell_type": "code",
   "execution_count": null,
   "id": "9aad5eef-d8a4-474d-b3ed-6188619dff81",
   "metadata": {},
   "outputs": [],
   "source": []
  }
 ],
 "metadata": {
  "kernelspec": {
   "display_name": "Python 3 (ipykernel)",
   "language": "python",
   "name": "python3"
  },
  "language_info": {
   "codemirror_mode": {
    "name": "ipython",
    "version": 3
   },
   "file_extension": ".py",
   "mimetype": "text/x-python",
   "name": "python",
   "nbconvert_exporter": "python",
   "pygments_lexer": "ipython3",
   "version": "3.12.3"
  }
 },
 "nbformat": 4,
 "nbformat_minor": 5
}
