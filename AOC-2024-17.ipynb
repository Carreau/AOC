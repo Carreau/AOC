{
 "cells": [
  {
   "cell_type": "code",
   "execution_count": 2,
   "id": "b802bfd5-017a-4269-81b6-3199dd014f0a",
   "metadata": {},
   "outputs": [],
   "source": [
    "prog = [0,1,5,4,3,0]"
   ]
  },
  {
   "cell_type": "code",
   "execution_count": 5,
   "id": "b956ca99-4b7f-4dc9-889b-e093140973f1",
   "metadata": {},
   "outputs": [
    {
     "data": {
      "text/plain": [
       "[1, 5]"
      ]
     },
     "execution_count": 5,
     "metadata": {},
     "output_type": "execute_result"
    }
   ],
   "source": [
    "prog[1:1+2]"
   ]
  },
  {
   "cell_type": "code",
   "execution_count": 152,
   "id": "d24e397d-580f-4e9d-aa1f-07d473f1ad89",
   "metadata": {},
   "outputs": [
    {
     "data": {
      "text/plain": [
       "[4, 6, 3, 5, 6, 3, 5, 2, 1, 0]"
      ]
     },
     "execution_count": 152,
     "metadata": {},
     "output_type": "execute_result"
    }
   ],
   "source": [
    "def deg_combo(val, program, A,B,C):\n",
    "    if val in (0,1,2,3):\n",
    "        return val\n",
    "    if val == 4:\n",
    "        return A\n",
    "    if val == 5:\n",
    "        return B\n",
    "    if val == 6:\n",
    "        return C\n",
    "    assert False, (val, (A,B,C))\n",
    "def machine(program, A,B,C):\n",
    "    ip = 0\n",
    "    while True:\n",
    "        if ip >= len(program):\n",
    "            return 'End'\n",
    "        opcode,instruction = program[ip:ip+2]\n",
    "        #print('Op,inst:', opcode, instruction)\n",
    "        \n",
    "        match opcode, instruction:\n",
    "\n",
    "            case 0,val: # adv\n",
    "                deg = deg_combo(val, program, A, B, C)\n",
    "                A = A // (2**deg)\n",
    "                #print(f'{ip}: adv', A,B,C)\n",
    "                ip += 2\n",
    "                continue\n",
    "            case 1, val: # bxl\n",
    "                B = B ^ val\n",
    "                #print(f'{ip}: bxl ', A,B,C)\n",
    "                ip += 2\n",
    "                continue\n",
    "            case 2, val : # bst\n",
    "                deg = deg_combo(val, program, A, B, C)\n",
    "                B = (deg % 8) & 0b111\n",
    "                #print(f'{ip} bst: ', A,B,C)\n",
    "                ip +=2\n",
    "                continue\n",
    "            case 3, val: # jnz\n",
    "                if A == 0:\n",
    "                    ip +=2\n",
    "                    #print(f'{ip}: jnz ', A,B,C)\n",
    "                else:\n",
    "                    #print(f'{ip}: jnz ', A,B,C)\n",
    "                    ip = val\n",
    "                continue\n",
    "                \n",
    "            case 4, _: #bxc\n",
    "                #print(f'{ip}: bxc', A,B,C)\n",
    "                B = B ^ C\n",
    "                ip += 2\n",
    "                continue\n",
    "            case 5, val: # out\n",
    "                deg = deg_combo(val, program, A, B, C)\n",
    "                yield deg % 8\n",
    "                #print(ip, 'out:', A,B,C)\n",
    "                ip +=2\n",
    "                continue\n",
    "            case 6, val: # bdv\n",
    "                deg = deg_combo(val, program, A, B, C)\n",
    "                B = A // (2**deg)\n",
    "                #print(f'{ip}: bdv ', A,B,C)\n",
    "                ip += 2\n",
    "                continue\n",
    "            case 7, val: # cdv\n",
    "                deg = deg_combo(val, program, A, B, C)\n",
    "                C = A // (2**deg)\n",
    "                #print(f'{ip}: cdv ', A,B,C)\n",
    "                ip += 2\n",
    "                continue\n",
    "            case _,_:\n",
    "                assert False\n",
    "                \n",
    "                \n",
    "                \n",
    "\n",
    "list(machine(prog, 729, 0, 0))\n",
    "\n",
    "\n"
   ]
  },
  {
   "cell_type": "code",
   "execution_count": 153,
   "id": "51e1774e-b544-4f2e-a835-c92f2f51ee21",
   "metadata": {},
   "outputs": [
    {
     "data": {
      "text/plain": [
       "[]"
      ]
     },
     "execution_count": 153,
     "metadata": {},
     "output_type": "execute_result"
    }
   ],
   "source": [
    "list(machine([2,6], 0, 0, 9))"
   ]
  },
  {
   "cell_type": "code",
   "execution_count": 154,
   "id": "8186acb9-7ca8-4165-ac30-0207ac1a4fd7",
   "metadata": {},
   "outputs": [
    {
     "data": {
      "text/plain": [
       "[0, 1, 2]"
      ]
     },
     "execution_count": 154,
     "metadata": {},
     "output_type": "execute_result"
    }
   ],
   "source": [
    "list(machine([5,0,5,1,5,4], 10, 0, 0)) # 0, 1,2"
   ]
  },
  {
   "cell_type": "code",
   "execution_count": 155,
   "id": "5a305cb9-d05a-41e6-8aee-e659bd97eaed",
   "metadata": {},
   "outputs": [
    {
     "data": {
      "text/plain": [
       "[4, 2, 5, 6, 7, 7, 7, 7, 3, 1, 0]"
      ]
     },
     "execution_count": 155,
     "metadata": {},
     "output_type": "execute_result"
    }
   ],
   "source": [
    "\n",
    "list(machine([0,1,5,4,3,0], 2024, 0, 0)) # 4,2,5,6,7,7,7,7,3,1,0"
   ]
  },
  {
   "cell_type": "code",
   "execution_count": 156,
   "id": "62f8526c-899e-457e-ab5b-c460ba1248ad",
   "metadata": {},
   "outputs": [],
   "source": [
    "p1 = [2,4,1,7,7,5,0,3,1,7,4,1,5,5,3,0]"
   ]
  },
  {
   "cell_type": "code",
   "execution_count": 157,
   "id": "f4f3a8ed-a70e-4ea6-b5d8-c2711915de1e",
   "metadata": {},
   "outputs": [
    {
     "data": {
      "text/plain": [
       "[1, 0, 2, 0, 5, 7, 2, 1, 3]"
      ]
     },
     "execution_count": 157,
     "metadata": {},
     "output_type": "execute_result"
    }
   ],
   "source": [
    "res = list(machine(p1, 64012472, 0, 0)) \n",
    "res"
   ]
  },
  {
   "cell_type": "code",
   "execution_count": 144,
   "id": "89cf9dee-73b7-46f0-b5fc-d14dbff1d195",
   "metadata": {},
   "outputs": [
    {
     "data": {
      "text/plain": [
       "'1,0,2,0,5,7,2,1,3'"
      ]
     },
     "execution_count": 144,
     "metadata": {},
     "output_type": "execute_result"
    }
   ],
   "source": [
    "','.join(str(x) for x in res) # not 5,7,2,3,4,4,3,6,3"
   ]
  },
  {
   "cell_type": "code",
   "execution_count": 137,
   "id": "8c4195ff-88b0-40be-bfa2-be9e4c7b2a3b",
   "metadata": {},
   "outputs": [
    {
     "name": "stdout",
     "output_type": "stream",
     "text": [
      "0 bst 64012472 0 0\n",
      "2 bxl 64012472 0 0\n",
      "4 cdv 64012472 7 0\n",
      "6 adv 64012472 7 500097\n",
      "8 bxl 8001559 7 500097\n",
      "10 bxc 8001559 0 500097\n",
      "12 out 8001559 500097 500097\n",
      "14 jnz 8001559 500097 500097\n",
      "0 bst 8001559 500097 500097\n",
      "2 bxl 8001559 7 500097\n",
      "4 cdv 8001559 0 500097\n",
      "6 adv 8001559 0 8001559\n",
      "8 bxl 1000194 0 8001559\n",
      "10 bxc 1000194 7 8001559\n",
      "12 out 1000194 8001552 8001559\n",
      "14 jnz 1000194 8001552 8001559\n",
      "0 bst 1000194 8001552 8001559\n",
      "2 bxl 1000194 2 8001559\n",
      "4 cdv 1000194 5 8001559\n",
      "6 adv 1000194 5 31256\n",
      "8 bxl 125024 5 31256\n",
      "10 bxc 125024 2 31256\n",
      "12 out 125024 31258 31256\n",
      "14 jnz 125024 31258 31256\n",
      "0 bst 125024 31258 31256\n",
      "2 bxl 125024 0 31256\n",
      "4 cdv 125024 7 31256\n",
      "6 adv 125024 7 976\n",
      "8 bxl 15628 7 976\n",
      "10 bxc 15628 0 976\n",
      "12 out 15628 976 976\n",
      "14 jnz 15628 976 976\n",
      "0 bst 15628 976 976\n",
      "2 bxl 15628 4 976\n",
      "4 cdv 15628 3 976\n",
      "6 adv 15628 3 1953\n",
      "8 bxl 1953 3 1953\n",
      "10 bxc 1953 4 1953\n",
      "12 out 1953 1957 1953\n",
      "14 jnz 1953 1957 1953\n",
      "0 bst 1953 1957 1953\n",
      "2 bxl 1953 1 1953\n",
      "4 cdv 1953 6 1953\n",
      "6 adv 1953 6 30\n",
      "8 bxl 244 6 30\n",
      "10 bxc 244 1 30\n",
      "12 out 244 31 30\n",
      "14 jnz 244 31 30\n",
      "0 bst 244 31 30\n",
      "2 bxl 244 4 30\n",
      "4 cdv 244 3 30\n",
      "6 adv 244 3 30\n",
      "8 bxl 30 3 30\n",
      "10 bxc 30 4 30\n",
      "12 out 30 26 30\n",
      "14 jnz 30 26 30\n",
      "0 bst 30 26 30\n",
      "2 bxl 30 6 30\n",
      "4 cdv 30 1 30\n",
      "6 adv 30 1 15\n",
      "8 bxl 3 1 15\n",
      "10 bxc 3 6 15\n",
      "12 out 3 9 15\n",
      "14 jnz 3 9 15\n",
      "0 bst 3 9 15\n",
      "2 bxl 3 3 15\n",
      "4 cdv 3 4 15\n",
      "6 adv 3 4 0\n",
      "8 bxl 0 4 0\n",
      "10 bxc 0 3 0\n",
      "12 out 0 3 0\n",
      "14 jnz 0 3 0\n"
     ]
    },
    {
     "data": {
      "text/plain": [
       "'1,0,2,0,5,7,2,1,3'"
      ]
     },
     "execution_count": 137,
     "metadata": {},
     "output_type": "execute_result"
    }
   ],
   "source": [
    "part1()"
   ]
  },
  {
   "cell_type": "code",
   "execution_count": null,
   "id": "c64378e7-f47c-41ce-bd84-48c08ae27d0d",
   "metadata": {},
   "outputs": [],
   "source": []
  }
 ],
 "metadata": {
  "kernelspec": {
   "display_name": "Python 3 (ipykernel)",
   "language": "python",
   "name": "python3"
  },
  "language_info": {
   "codemirror_mode": {
    "name": "ipython",
    "version": 3
   },
   "file_extension": ".py",
   "mimetype": "text/x-python",
   "name": "python",
   "nbconvert_exporter": "python",
   "pygments_lexer": "ipython3",
   "version": "3.12.3"
  }
 },
 "nbformat": 4,
 "nbformat_minor": 5
}
