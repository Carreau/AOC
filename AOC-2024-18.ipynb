{
 "cells": [
  {
   "cell_type": "code",
   "execution_count": 90,
   "id": "a0ceeafa-6b03-4081-9ea0-8beb361a2525",
   "metadata": {},
   "outputs": [],
   "source": [
    "from pathlib import Path\n",
    "data = Path('18.txt').read_text()\n",
    "data = \"\"\"5,4\n",
    "4,2\n",
    "4,5\n",
    "3,0\n",
    "2,1\n",
    "6,3\n",
    "2,4\n",
    "1,5\n",
    "0,6\n",
    "3,3\n",
    "2,6\n",
    "5,1\n",
    "1,2\n",
    "5,5\n",
    "2,5\n",
    "6,5\n",
    "1,4\n",
    "0,4\n",
    "6,4\n",
    "1,1\n",
    "6,1\n",
    "1,0\n",
    "0,5\n",
    "1,6\n",
    "2,0\"\"\"\n",
    "S = 6"
   ]
  },
  {
   "cell_type": "code",
   "execution_count": 81,
   "id": "5b1921b2-a8d1-4721-965a-3f1c2291ee1a",
   "metadata": {
    "scrolled": true
   },
   "outputs": [
    {
     "data": {
      "text/plain": [
       "([(5, 4),\n",
       "  (4, 2),\n",
       "  (4, 5),\n",
       "  (3, 0),\n",
       "  (2, 1),\n",
       "  (6, 3),\n",
       "  (2, 4),\n",
       "  (1, 5),\n",
       "  (0, 6),\n",
       "  (3, 3),\n",
       "  (2, 6),\n",
       "  (5, 1),\n",
       "  (1, 2),\n",
       "  (5, 5),\n",
       "  (2, 5),\n",
       "  (6, 5),\n",
       "  (1, 4),\n",
       "  (0, 4),\n",
       "  (6, 4),\n",
       "  (1, 1),\n",
       "  (6, 1),\n",
       "  (1, 0),\n",
       "  (0, 5),\n",
       "  (1, 6),\n",
       "  (2, 0)],\n",
       " 25)"
      ]
     },
     "execution_count": 81,
     "metadata": {},
     "output_type": "execute_result"
    }
   ],
   "source": [
    "data.splitlines()\n",
    "coord = [tuple(int(k) for k in l.split(',')) for l in data.splitlines()]\n",
    "coord, len(coord)\n",
    "\n",
    "\n"
   ]
  },
  {
   "cell_type": "code",
   "execution_count": 82,
   "id": "95aef1f1-90c3-4ba7-8336-b52cb0f5ab86",
   "metadata": {},
   "outputs": [],
   "source": [
    "from itertools import product"
   ]
  },
  {
   "cell_type": "code",
   "execution_count": 83,
   "id": "8f821cfc-3648-47c1-9e07-bc5ad27194ee",
   "metadata": {},
   "outputs": [
    {
     "data": {
      "text/plain": [
       "(70, 70)"
      ]
     },
     "execution_count": 83,
     "metadata": {},
     "output_type": "execute_result"
    }
   ],
   "source": [
    "maze = list(product(range(0,S+1), repeat=2))\n",
    "maze[-1]"
   ]
  },
  {
   "cell_type": "code",
   "execution_count": 91,
   "id": "3361be19-c41e-4552-b5fc-4624919cfb71",
   "metadata": {},
   "outputs": [],
   "source": [
    "def neighbors(pos):\n",
    "    x,y = pos\n",
    "    yield x+1, y\n",
    "    yield x-1, y\n",
    "    yield x,y+1\n",
    "    yield x, y-1\n",
    "\n",
    "def inbound(pos):\n",
    "    x,y = pos\n",
    "    return 0<=x<=S and 0<= y <= S"
   ]
  },
  {
   "cell_type": "code",
   "execution_count": 92,
   "id": "b2a8700a-347e-4394-9470-3b31e9b94892",
   "metadata": {},
   "outputs": [],
   "source": [
    "from heapq import heappush as push, heappop as pop"
   ]
  },
  {
   "cell_type": "code",
   "execution_count": 93,
   "id": "924e6918-cf26-4664-aaec-ede62090e19e",
   "metadata": {},
   "outputs": [],
   "source": [
    "from itertools import count"
   ]
  },
  {
   "cell_type": "code",
   "execution_count": null,
   "id": "6fc1d2fe-f8d8-4094-b3a4-ab411df81525",
   "metadata": {},
   "outputs": [],
   "source": []
  },
  {
   "cell_type": "code",
   "execution_count": 129,
   "id": "e7f4f73d-6632-431c-8738-8fcc27411a84",
   "metadata": {},
   "outputs": [],
   "source": [
    "global visited \n",
    "def djik(maze, blocked, start):\n",
    "    open = [(0,0,start)]\n",
    "    global visited\n",
    "    visited = dict()\n",
    "    k = 0\n",
    "    while True:\n",
    "        k+=1\n",
    "        est, score, pos = pop(open)\n",
    "        if pos in visited and visited[pos] > score:\n",
    "            visited[pos]=score\n",
    "        elif pos not in visited:\n",
    "            visited[pos]=score\n",
    "        if pos == (S, S):\n",
    "            print(pos, score)\n",
    "            return score\n",
    "        for v in [n for n in neighbors(pos) if inbound(n) and n not in blocked]:\n",
    "            if v in visited.keys():\n",
    "                continue\n",
    "            else:\n",
    "               #visited[v] = score\n",
    "               #print( score+1, v)\n",
    "               push(open, (70-v[0]+70-v[1], score+1, v))\n",
    "            \n",
    "        \n",
    "        "
   ]
  },
  {
   "cell_type": "code",
   "execution_count": 130,
   "id": "3bff98c6-f92d-4be8-a5ea-2fabe64d7115",
   "metadata": {},
   "outputs": [
    {
     "name": "stdout",
     "output_type": "stream",
     "text": [
      "(6, 6) 24\n"
     ]
    },
    {
     "data": {
      "text/plain": [
       "24"
      ]
     },
     "execution_count": 130,
     "metadata": {},
     "output_type": "execute_result"
    }
   ],
   "source": [
    "djik(maze, coord[:12], (0,0)) #380 too high"
   ]
  },
  {
   "cell_type": "code",
   "execution_count": null,
   "id": "7198b55e-19b4-4e9f-8224-daa24dcc822d",
   "metadata": {},
   "outputs": [],
   "source": []
  },
  {
   "cell_type": "code",
   "execution_count": 131,
   "id": "921767ad-9b24-45cf-912d-6560a80861fb",
   "metadata": {},
   "outputs": [
    {
     "data": {
      "text/plain": [
       "{(0, 0): 0,\n",
       " (0, 1): 1,\n",
       " (0, 2): 2,\n",
       " (0, 3): 3,\n",
       " (0, 4): 4,\n",
       " (0, 5): 5,\n",
       " (1, 4): 5,\n",
       " (1, 3): 4,\n",
       " (2, 3): 5,\n",
       " (2, 2): 6,\n",
       " (3, 2): 7,\n",
       " (3, 1): 8,\n",
       " (4, 1): 9,\n",
       " (4, 0): 10,\n",
       " (5, 0): 11,\n",
       " (6, 0): 12,\n",
       " (6, 1): 13,\n",
       " (6, 2): 14,\n",
       " (5, 2): 15,\n",
       " (5, 3): 16,\n",
       " (4, 3): 17,\n",
       " (4, 4): 18,\n",
       " (3, 4): 19,\n",
       " (3, 5): 20,\n",
       " (3, 6): 21,\n",
       " (4, 6): 22,\n",
       " (5, 6): 23,\n",
       " (6, 6): 24}"
      ]
     },
     "execution_count": 131,
     "metadata": {},
     "output_type": "execute_result"
    }
   ],
   "source": [
    "visited"
   ]
  },
  {
   "cell_type": "code",
   "execution_count": 132,
   "id": "1b763b61-27ed-41d5-b811-e04501c1ba2f",
   "metadata": {},
   "outputs": [],
   "source": [
    "import seaborn as sns"
   ]
  },
  {
   "cell_type": "code",
   "execution_count": 133,
   "id": "3221331c-6d54-43ce-a0bd-464cf808ef2f",
   "metadata": {},
   "outputs": [
    {
     "data": {
      "text/plain": [
       "<Axes: >"
      ]
     },
     "execution_count": 133,
     "metadata": {},
     "output_type": "execute_result"
    },
    {
     "data": {
      "image/png": "[encoded data removed]",
      "text/plain": [
       "<Figure size 640x480 with 2 Axes>"
      ]
     },
     "metadata": {},
     "output_type": "display_data"
    }
   ],
   "source": [
    "import numpy as np\n",
    "a = np.zeros((S+1,S+1))\n",
    "import  matplotlib.pyplot as plt\n",
    "for x,y in coord[:12]:\n",
    "    a[y,x] = None\n",
    "for (x,y),val in visited.items():\n",
    "    a[y,x] = val\n",
    "\n",
    "sns.heatmap(a, annot=True)"
   ]
  },
  {
   "cell_type": "code",
   "execution_count": 119,
   "id": "1a93eca3-2c0b-4eb7-856e-8ba1d7f52974",
   "metadata": {},
   "outputs": [
    {
     "data": {
      "text/plain": [
       "<Axes: >"
      ]
     },
     "execution_count": 119,
     "metadata": {},
     "output_type": "execute_result"
    },
    {
     "data": {
      "image/png": "[encoded data removed]",
      "text/plain": [
       "<Figure size 640x480 with 2 Axes>"
      ]
     },
     "metadata": {},
     "output_type": "display_data"
    }
   ],
   "source": []
  },
  {
   "cell_type": "code",
   "execution_count": null,
   "id": "73db87f4-8be0-4721-835d-d051e9d15a45",
   "metadata": {},
   "outputs": [],
   "source": []
  }
 ],
 "metadata": {
  "kernelspec": {
   "display_name": "Python 3 (ipykernel)",
   "language": "python",
   "name": "python3"
  },
  "language_info": {
   "codemirror_mode": {
    "name": "ipython",
    "version": 3
   },
   "file_extension": ".py",
   "mimetype": "text/x-python",
   "name": "python",
   "nbconvert_exporter": "python",
   "pygments_lexer": "ipython3",
   "version": "3.12.3"
  }
 },
 "nbformat": 4,
 "nbformat_minor": 5
}
