{
 "cells": [
  {
   "cell_type": "code",
   "execution_count": 1,
   "id": "5e6961aa-58ac-482a-90de-7c27c3d0e65b",
   "metadata": {},
   "outputs": [
    {
     "data": {
      "text/plain": [
       "array([['_', '_', '_', ..., '_', '_', '_'],\n",
       "       ['_', '#', '.', ..., '.', '.', '_'],\n",
       "       ['_', '.', '.', ..., '.', '.', '_'],\n",
       "       ...,\n",
       "       ['_', '.', '.', ..., '.', '.', '_'],\n",
       "       ['_', '.', '.', ..., '.', '.', '_'],\n",
       "       ['_', '_', '_', ..., '_', '_', '_']], dtype='<U1')"
      ]
     },
     "execution_count": 1,
     "metadata": {},
     "output_type": "execute_result"
    }
   ],
   "source": [
    "data = \"\"\"....A.....\n",
    ".........B\n",
    "..........\n",
    "..E.......\n",
    ".......#..\n",
    "..........\n",
    ".D..^.....\n",
    "........#.\n",
    "#.........\n",
    "......C...\"\"\"\n",
    "\n",
    "with open('2024-6.txt') as f:\n",
    "    data = f.read()\n",
    "from copy import copy        \n",
    "import numpy as np        \n",
    "S = len(data.splitlines())\n",
    "grid = np.array([['_']*(S+2)]+[['_']+list(s)+['_'] for s in data.splitlines()] + [['_']*(S+2)])\n",
    "grid"
   ]
  },
  {
   "cell_type": "code",
   "execution_count": 2,
   "id": "19553c69-4059-4b24-98ba-f967e140ca0f",
   "metadata": {},
   "outputs": [
    {
     "data": {
      "text/plain": [
       "(132, 132)"
      ]
     },
     "execution_count": 2,
     "metadata": {},
     "output_type": "execute_result"
    }
   ],
   "source": [
    "grid.shape"
   ]
  },
  {
   "cell_type": "code",
   "execution_count": 3,
   "id": "f911b98e-58a2-4ca8-8fd0-3761cef5aca6",
   "metadata": {},
   "outputs": [],
   "source": [
    "sy,sx = (-1,0)\n",
    "[y0],[x0] = np.where(grid == '^')\n",
    "y0,x0\n",
    "grid[y0,x0] = '.'"
   ]
  },
  {
   "cell_type": "code",
   "execution_count": 4,
   "id": "f6fb6751-dda3-4f7c-8de6-54797fdafafd",
   "metadata": {},
   "outputs": [],
   "source": [
    "import numba"
   ]
  },
  {
   "cell_type": "code",
   "execution_count": 5,
   "id": "f2674bf1-27e9-4c6d-90c2-92a3b4579c2c",
   "metadata": {},
   "outputs": [
    {
     "name": "stdout",
     "output_type": "stream",
     "text": [
      "CPU times: user 1.03 ms, sys: 51 μs, total: 1.08 ms\n",
      "Wall time: 1.1 ms\n"
     ]
    },
    {
     "data": {
      "text/plain": [
       "(False, 5278)"
      ]
     },
     "execution_count": 5,
     "metadata": {},
     "output_type": "execute_result"
    }
   ],
   "source": [
    "@numba.jit\n",
    "def check(grid, obs):\n",
    "    transition = {\n",
    "        (-1,0): ( 0, 1),              \n",
    "        ( 0,1): ( 1, 0),              \n",
    "        ( 1,0): ( 0,-1),              \n",
    "        (0,-1): (-1, 0),              \n",
    "    \n",
    "    }\n",
    "    states = set()\n",
    "    y,x,sy, sx = y0,x0, -1,0\n",
    "    k = 0\n",
    "    while (y,x,sy,sx) not in states:\n",
    "        states.add((y,x, sy,sx))\n",
    "        if grid[y+sy, x+sx] == '_':\n",
    "            return False, states\n",
    "        if grid[y+sy, x+sx] == '#' or (y+sy, x+sx) == obs:\n",
    "            sy, sx = transition[(sy,sx)]\n",
    "        else:\n",
    "            y,x = y+sy,x+sx\n",
    "    return True, states\n",
    "            \n",
    "    \n",
    "    \n",
    "\n",
    "status, states  = check(grid, (-1,-1))\n",
    "\n",
    "%time status, states  = check(grid, (-1,-1))\n",
    "status, len(states)"
   ]
  },
  {
   "cell_type": "code",
   "execution_count": 6,
   "id": "ed2e6f94-0267-4095-93fb-18d54f187adf",
   "metadata": {},
   "outputs": [
    {
     "data": {
      "text/plain": [
       "4663"
      ]
     },
     "execution_count": 6,
     "metadata": {},
     "output_type": "execute_result"
    }
   ],
   "source": [
    "ss = set([(y,x) for y,x,_,_ in states])\n",
    "len(ss)"
   ]
  },
  {
   "cell_type": "code",
   "execution_count": 7,
   "id": "31f4a261-0e96-47bf-bc43-1070c95bf8c0",
   "metadata": {},
   "outputs": [],
   "source": [
    "@numba.jit\n",
    "def part2(ss:set[tuple[int,int]], grid):\n",
    "    acc:int = 0\n",
    "    for i,att in enumerate(ss):\n",
    "        status, states  = check(grid, att)\n",
    "        if status:\n",
    "            acc+=1\n",
    "    return acc"
   ]
  },
  {
   "cell_type": "code",
   "execution_count": 8,
   "id": "b2416aea-b0a6-4c55-936f-ac0823aec797",
   "metadata": {},
   "outputs": [
    {
     "name": "stdout",
     "output_type": "stream",
     "text": [
      "CPU times: user 1.22 s, sys: 3.61 ms, total: 1.22 s\n",
      "Wall time: 1.22 s\n"
     ]
    },
    {
     "data": {
      "text/plain": [
       "1530"
      ]
     },
     "execution_count": 8,
     "metadata": {},
     "output_type": "execute_result"
    }
   ],
   "source": [
    "#part2(ss, grid)\n",
    "\n",
    "%time part2(ss, grid)"
   ]
  },
  {
   "cell_type": "code",
   "execution_count": 9,
   "id": "451d2cbd-0bf0-499a-9c90-3fa828873204",
   "metadata": {},
   "outputs": [],
   "source": [
    "from itertools import product"
   ]
  },
  {
   "cell_type": "code",
   "execution_count": 10,
   "id": "1ed62ca6-55c7-4cc7-9990-dd5312bef6f9",
   "metadata": {},
   "outputs": [
    {
     "name": "stdout",
     "output_type": "stream",
     "text": [
      "CPU times: user 5.94 s, sys: 13.5 ms, total: 5.95 s\n",
      "Wall time: 6.03 s\n"
     ]
    },
    {
     "data": {
      "text/plain": [
       "1530"
      ]
     },
     "execution_count": 10,
     "metadata": {},
     "output_type": "execute_result"
    }
   ],
   "source": [
    "%time part2(list(product(range(132), range(132))), grid)"
   ]
  },
  {
   "cell_type": "code",
   "execution_count": 30,
   "id": "96ca0bfb-8148-4ca3-8a1a-f8bdba62b61f",
   "metadata": {},
   "outputs": [
    {
     "ename": "NameError",
     "evalue": "name 'acc' is not defined",
     "output_type": "error",
     "traceback": [
      "\u001b[0;31m---------------------------------------------------------------------------\u001b[0m",
      "\u001b[0;31mNameError\u001b[0m                                 Traceback (most recent call last)",
      "Cell \u001b[0;32mIn[30], line 1\u001b[0m\n\u001b[0;32m----> 1\u001b[0m \u001b[43macc\u001b[49m\n",
      "\u001b[0;31mNameError\u001b[0m: name 'acc' is not defined"
     ]
    }
   ],
   "source": [
    "acc"
   ]
  },
  {
   "cell_type": "code",
   "execution_count": null,
   "id": "129f2ee2-5389-4b52-9adb-900249622944",
   "metadata": {},
   "outputs": [],
   "source": [
    "# part 2 , 4447 os too high. "
   ]
  },
  {
   "cell_type": "code",
   "execution_count": null,
   "id": "02636c99-1d0b-4b52-817a-14180037069f",
   "metadata": {},
   "outputs": [],
   "source": [
    "# 6721 too high, 4776 too high"
   ]
  },
  {
   "cell_type": "code",
   "execution_count": 179,
   "id": "157e079a-5d1b-439b-b2ec-10d91c6ecce5",
   "metadata": {},
   "outputs": [
    {
     "data": {
      "text/plain": [
       "4663"
      ]
     },
     "execution_count": 179,
     "metadata": {},
     "output_type": "execute_result"
    }
   ],
   "source": [
    "ss = set([(y,x) for y,x,_,_ in states])\n",
    "len(ss)"
   ]
  },
  {
   "cell_type": "code",
   "execution_count": 178,
   "id": "ea07c128-df25-4952-aa8b-ce3d86da456f",
   "metadata": {},
   "outputs": [],
   "source": [
    "gg = copy(grid)\n",
    "for y,x in set([(y,x) for y,x,_,_ in states]):\n",
    "    gg[y,x] = 'x'\n",
    "with open(f'X--out.txt','w') as f:\n",
    "    for r in gg[:]:\n",
    "        f.write(''.join(r).replace('.',' ')+'\\n')\n"
   ]
  },
  {
   "cell_type": "code",
   "execution_count": null,
   "id": "c79ae90e-7996-479c-bb4e-85b91ca1ccbc",
   "metadata": {},
   "outputs": [],
   "source": []
  }
 ],
 "metadata": {
  "kernelspec": {
   "display_name": "Python 3 (ipykernel)",
   "language": "python",
   "name": "python3"
  },
  "language_info": {
   "codemirror_mode": {
    "name": "ipython",
    "version": 3
   },
   "file_extension": ".py",
   "mimetype": "text/x-python",
   "name": "python",
   "nbconvert_exporter": "python",
   "pygments_lexer": "ipython3",
   "version": "3.12.3"
  }
 },
 "nbformat": 4,
 "nbformat_minor": 5
}
