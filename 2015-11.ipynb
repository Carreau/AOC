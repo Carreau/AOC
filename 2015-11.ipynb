{
 "cells": [
  {
   "cell_type": "code",
   "execution_count": 68,
   "id": "9eaada11-4f95-461f-8cbb-29f3d5905276",
   "metadata": {},
   "outputs": [],
   "source": [
    "data = 'cqjxjnds'"
   ]
  },
  {
   "cell_type": "code",
   "execution_count": 69,
   "id": "cf36ad58-cb27-4c81-a1c3-e667f8d559ae",
   "metadata": {},
   "outputs": [],
   "source": [
    "from string import ascii_lowercase\n",
    "from itertools import product, islice\n",
    "ixs = [ascii_lowercase.index(c) for c in data]"
   ]
  },
  {
   "cell_type": "code",
   "execution_count": 70,
   "id": "2ee82e31-cea5-4232-baa7-fefd82b2aa2f",
   "metadata": {},
   "outputs": [],
   "source": [
    "gens_root = [ascii_lowercase[ix:]+ascii_lowercase[:ix] for ix in ixs]"
   ]
  },
  {
   "cell_type": "code",
   "execution_count": 71,
   "id": "cec2e776-315c-46d5-bdaf-63b54d695f28",
   "metadata": {},
   "outputs": [],
   "source": [
    "s = 'abcdeeeefegh'\n",
    "from itertools import batched"
   ]
  },
  {
   "cell_type": "code",
   "execution_count": 72,
   "id": "7403704d-ae52-40ad-b53b-ee9deb5ab906",
   "metadata": {},
   "outputs": [
    {
     "data": {
      "text/plain": [
       "2"
      ]
     },
     "execution_count": 72,
     "metadata": {},
     "output_type": "execute_result"
    }
   ],
   "source": [
    "s.count('ee')"
   ]
  },
  {
   "cell_type": "code",
   "execution_count": 80,
   "id": "4b9b3828-d31a-4c2e-9fde-f333a9edb900",
   "metadata": {},
   "outputs": [],
   "source": [
    "def gen(start):\n",
    "    if not start:\n",
    "        return\n",
    "    else:\n",
    "        a,xs = star\n",
    "\n",
    "\n",
    "R1 = {a+b+c for (a,b,c) in zip(ascii_lowercase[:-2], ascii_lowercase[1:-1], ascii_lowercase[2:])}\n",
    "def rule_1(password):\n",
    "    for r in R1:\n",
    "        if r in password:\n",
    "            return True\n",
    "    return False\n",
    "\n",
    "def rule_2(password):\n",
    "    for c in 'iol':\n",
    "        if c in password:\n",
    "            return False\n",
    "    return True\n",
    "\n",
    "def rule_3(password):\n",
    "    m = 0\n",
    "    for c in ascii_lowercase:\n",
    "        if c+c in password:\n",
    "            m+=1\n",
    "        if m >= 2:\n",
    "            return True\n",
    "    return False"
   ]
  },
  {
   "cell_type": "code",
   "execution_count": 81,
   "id": "35d4e36b-25c9-414d-8950-a634f80e0582",
   "metadata": {},
   "outputs": [
    {
     "name": "stdout",
     "output_type": "stream",
     "text": [
      "254079 cqjxxyzz\n",
      "1679844 cqjaabcc\n",
      "2154423 cqjbbcdd\n",
      "2629678 cqjccdee\n",
      "3104933 cqjddeff\n",
      "3580188 cqjeefgg\n",
      "4055443 cqjffghh\n",
      "5590883 cqjjppqr\n",
      "5591585 cqjjpqrr\n",
      "5609136 cqjjqqrs\n",
      "5609838 cqjjqrss\n",
      "5627415 cqjjrrst\n",
      "5628117 cqjjrstt\n",
      "5645694 cqjjsstu\n",
      "5646396 cqjjstuu\n",
      "5663973 cqjjttuv\n",
      "5664675 cqjjtuvv\n",
      "5682252 cqjjuuvw\n",
      "5682954 cqjjuvww\n",
      "5700531 cqjjvvwx\n",
      "5701233 cqjjvwxx\n",
      "5718810 cqjjwwxy\n",
      "5719512 cqjjwxyy\n",
      "5737089 cqjjxxyz\n",
      "5737791 cqjjxyzz\n",
      "5791926 cqjjaabc\n",
      "5792628 cqjjabcc\n",
      "5810205 cqjjbbcd\n",
      "5810231 cqjjbcdd\n",
      "5827808 cqjjccde\n",
      "5828510 cqjjcdee\n",
      "5846087 cqjjddef\n",
      "5846789 cqjjdeff\n",
      "5864366 cqjjeefg\n",
      "5865068 cqjjefgg\n",
      "5882645 cqjjffgh\n",
      "5883347 cqjjfghh\n",
      "8333441 cqjppqrr\n",
      "8808670 cqjqqrss\n",
      "9283925 cqjrrstt\n",
      "9759180 cqjsstuu\n"
     ]
    }
   ],
   "source": [
    "\n",
    "p = None\n",
    "gen = product(*gens_root)\n",
    "\n",
    "for i,_p in enumerate(islice(gen, 10000000)):\n",
    "    p = ''.join(_p)\n",
    "    if rule_1(p) and rule_2(p) and rule_3(p):\n",
    "        print(i, p)\n"
   ]
  },
  {
   "cell_type": "code",
   "execution_count": 13,
   "id": "17b8e461-7dcc-4820-b961-4e8131cf7bda",
   "metadata": {},
   "outputs": [
    {
     "data": {
      "text/plain": [
       "('a', 'a', 'a', 'q', 'u', 'h', 'D', 'u')"
      ]
     },
     "execution_count": 13,
     "metadata": {},
     "output_type": "execute_result"
    }
   ],
   "source": [
    "rule1(pwd):\n",
    "a"
   ]
  },
  {
   "cell_type": "code",
   "execution_count": 76,
   "id": "b2f6502f-461a-440c-ab45-cc9dfe1a0d67",
   "metadata": {},
   "outputs": [
    {
     "name": "stdout",
     "output_type": "stream",
     "text": [
      "cqjxxyzz\n"
     ]
    }
   ],
   "source": [
    "import re\n",
    "\n",
    "def next_password(password):\n",
    "    while True:\n",
    "        password = re.sub(r'([a-y])(z*)$', lambda x: chr(ord(x.group(1))+1) + len(x.group(2))*\"a\", password)\n",
    "        if (\"i\" in password or \"o\" in password or \"l\" in password) or \\\n",
    "           (len(re.findall(r'([a-z])\\1', password)) < 2) or \\\n",
    "           (len([1 for x, y, z in zip(password, password[1:], password[2:])\n",
    "                   if ord(z)-ord(y) == 1 and ord(y)-ord(x) == 1]) == 0): continue\n",
    "\n",
    "        return password\n",
    "\n",
    "print(next_password(\"cqjxjnds\"))"
   ]
  },
  {
   "cell_type": "code",
   "execution_count": 77,
   "id": "6d1da8cd-bc63-4d8e-8681-65b8b051d18d",
   "metadata": {},
   "outputs": [
    {
     "name": "stdout",
     "output_type": "stream",
     "text": [
      "cqkaabcc\n"
     ]
    }
   ],
   "source": [
    "print(next_password(\"cqjxxyzz\"))"
   ]
  },
  {
   "cell_type": "code",
   "execution_count": null,
   "id": "968753f4-06e9-4c04-9e29-3839eb05f214",
   "metadata": {},
   "outputs": [],
   "source": []
  }
 ],
 "metadata": {
  "kernelspec": {
   "display_name": "Python 3 (ipykernel)",
   "language": "python",
   "name": "python3"
  },
  "language_info": {
   "codemirror_mode": {
    "name": "ipython",
    "version": 3
   },
   "file_extension": ".py",
   "mimetype": "text/x-python",
   "name": "python",
   "nbconvert_exporter": "python",
   "pygments_lexer": "ipython3",
   "version": "3.13.0"
  }
 },
 "nbformat": 4,
 "nbformat_minor": 5
}
