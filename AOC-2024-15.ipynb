{
 "cells": [
  {
   "cell_type": "code",
   "execution_count": 51,
   "id": "0a04e7da-132e-4986-98da-1fd7a944c08a",
   "metadata": {},
   "outputs": [],
   "source": [
    "data = \"\"\"##########\n",
    "#..O..O.O#\n",
    "#......O.#\n",
    "#.OO..O.O#\n",
    "#..O@..O.#\n",
    "#O#..O...#\n",
    "#O..O..O.#\n",
    "#.OO.O.OO#\n",
    "#....O...#\n",
    "##########\n",
    "\n",
    "<vv>^<v^>v>^vv^v>v<>v^v<v<^vv<<<^><<><>>v<vvv<>^v^>^<<<><<v<<<v^vv^v>^\n",
    "vvv<<^>^v^^><<>>><>^<<><^vv^^<>vvv<>><^^v>^>vv<>v<<<<v<^v>^<^^>>>^<v<v\n",
    "><>vv>v^v^<>><>>>><^^>vv>v<^^^>>v^v^<^^>v^^>v^<^v>v<>>v^v^<v>v^^<^^vv<\n",
    "<<v<^>>^^^^>>>v^<>vvv^><v<<<>^^^vv^<vvv>^>v<^^^^v<>^>vvvv><>>v^<<^^^^^\n",
    "^><^><>>><>^^<<^^v>>><^<v>^<vv>>v>>>^v><>^v><<<<v>>v<v<v>vvv>^<><<>^><\n",
    "^>><>^v<><^vvv<^^<><v<<<<<><^v<<<><<<^^<v<^^^><^>>^<v^><<<^>>^v<v^v<v^\n",
    ">^>>^v>vv>^<<^v<>><<><<v<<v><>v<^vv<<<>^^v^>^^>>><<^v>>v^v><^^>>^<>vv^\n",
    "<><^^>^^^<><vvvvv^v<v<<>^v<v>v<<^><<><<><<<^^<<<^<<>><<><^^^>^^<>^>v<>\n",
    "^^>vv<^v^v<vv>^<><v<^v>^^^>>>^^vvv^>vvv<>>>^<^>>>>>^<<^v>^vvv<>^<><<v>\n",
    "v^^>>><<^^<>>^v^<v^vv<>v^<<>^<^v^v><^<<<><<^<v><v<>vv>>v><v^<vv<>v^<<^\"\"\"\n",
    "\n",
    "from pathlib import Path\n",
    "\n",
    "data  = Path('2024-15.txt').read_text()\n",
    "\n",
    "grid, movements = data.split('\\n\\n')\n",
    "movements = ''.join(movements.splitlines())\n",
    "#grid, movements\n",
    "\n"
   ]
  },
  {
   "cell_type": "code",
   "execution_count": 52,
   "id": "e68f49e0-8b62-4ee8-a346-4c923c074cdb",
   "metadata": {},
   "outputs": [],
   "source": [
    "import numpy as np\n",
    "maze = dict()"
   ]
  },
  {
   "cell_type": "code",
   "execution_count": 53,
   "id": "92dc70cd-325d-48e3-8a5b-56e68eda733d",
   "metadata": {},
   "outputs": [],
   "source": [
    "for y,l in enumerate(grid.splitlines()):\n",
    "    for x,c in enumerate(l):\n",
    "        maze[x,y] = c\n",
    "\n",
    "S = max([u for u,_ in maze.keys()])+1"
   ]
  },
  {
   "cell_type": "code",
   "execution_count": 54,
   "id": "d2fc5f92-912e-4262-bd06-988641ea839e",
   "metadata": {},
   "outputs": [],
   "source": [
    "start = [p for p,it in maze.items() if it == '@'][0]\n",
    "dirmap = {\n",
    "'<':(-1,0),\n",
    "'>':(1,0),\n",
    "'^':(0,-1),    \n",
    "'v':(0, 1),    \n",
    "}"
   ]
  },
  {
   "cell_type": "code",
   "execution_count": 55,
   "id": "1d5e8d92-e6c5-4330-ab0d-21eb83797bfb",
   "metadata": {},
   "outputs": [
    {
     "name": "stdout",
     "output_type": "stream",
     "text": [
      "##################################################\n",
      "#...O.#...O.OO##OOO.OO#OO.#O#OOO...OOOO..#O.#OOO.#\n",
      "#O#..OO.OO.....OOOO.O..OOOOOO..O#....O.#OOOOO..O.#\n",
      "#.....O.....OO#........OO.......#.O..OO#O#O...OO.#\n",
      "#.OO.OO......O#........O............OO.#O.O...OO.#\n",
      "#OOOOO......OO..#..O...........O.........OO.O..O.#\n",
      "#.O.#...O#...O.........................OOOO.#.#..#\n",
      "#.O......#O....#.##....................OOOO#O....#\n",
      "#.O#.#O...O..O.O#OO.........O...#...O......OOOO.O#\n",
      "#...O....#O..O#OO..............OOOO...OO....OO..O#\n",
      "#O..OO.......O..............OO#O.##.OO#....#OO..O#\n",
      "#O.......O..................O#OO....O......#O#...#\n",
      "#O.O.......#O.O......O.##...#OOO.....OO..........#\n",
      "##.......O..OO......OO........O#.##....O.......O.#\n",
      "#........OO.....OO.OO#OO#O.......O#.............O#\n",
      "#O.OO.....O.....##O.O.......O...................O#\n",
      "#O........O.....OOOOOOO....OO...................##\n",
      "#O...O...OOOOO...OOO..O....#O..........OOOO.....O#\n",
      "#OO........OO#OO..O#..............#...#.###.....O#\n",
      "#OO...O....#O.#...OO...OO.O.O..........OOO......O#\n",
      "##..#.O.O..O#..O....O...OO..O.....O........OOOO..#\n",
      "##..#.O.O..OOO#O.........#.O....O.#OO......O.....#\n",
      "#O....O.OO...OO#O.O...........OO...OO#....#...O..#\n",
      "#O...#...#O.#...O#.O...........O...OOO..#....#OO.#\n",
      "#.........OO.......#.O#....O....OO.#O#...O...O.O.#\n",
      "#OOO.......#....O.........O.OO.O...O#O........OO.#\n",
      "#..#OO.....#..OO.O.O......#O.OO...OO......O...#O.#\n",
      "#.#O##...#..O.....O#.....O.#.#.....OO.....#OO....#\n",
      "#.#....#....OO.#O.....O..O.#OO..#..OO.....O....#.#\n",
      "#......O...O.OOO.....................OOOO.O..O..O#\n",
      "#.#..#O....O..O.O..OO.O##.##..O#.....O#OOO......O#\n",
      "##O..#..O.....O.#O.....#O...O.OO#..............#O#\n",
      "#O....O#OOO......O.....O....O.#O.............O.#O#\n",
      "#O...OO..#O......O........O.O..OO...........OOOOO#\n",
      "##OO...O.O....OO.....................O.#O..OOOOO##\n",
      "##O...OO#...O.OO......O#...#......OO..OO...O...OO#\n",
      "#OO.....O...O..O#..O..O..#.O.....O.....OOOO...O#.#\n",
      "#O...........O.........O........O#...O.O##....O#O#\n",
      "#O..##.....O....#........#.....OO...OO..OO.....OO#\n",
      "#....O#.............O#.........OOO...OOO........O#\n",
      "#.#.#OOO.OO.......O..O.#.#O..#....O...#.........O#\n",
      "#...#.OO..O#O........O..OO#O.O.O.OOO#........O#.O#\n",
      "#...OOOO..OO.......#OOO...O#O...O.#O#....#.#..O#.#\n",
      "#......O.#..#O.....OOO....OO#.O...............OOO#\n",
      "#.#O....O#...O......OOO#..OO...........@O.O.....O#\n",
      "#.OOO....OO.O.O..OO.#O.O....O..O.........##.O...##\n",
      "#O.O#...O##.....OOOOOOOOO...O...O#O.....O.OO.....#\n",
      "##.O##.........OOO.O#...O....OO.OO#.....O.....OOO#\n",
      "#O#O..O..#O.....OOOOOO........OOO..OO........#O..#\n",
      "##################################################\n"
     ]
    }
   ],
   "source": [
    "\n",
    "def can_move(maze, coord, dx,dy):\n",
    "    x,y = coord\n",
    "    if maze[(x+dx, y+dy)] == '#':\n",
    "        return False\n",
    "    elif maze[(x+dx, y+dy)] == '.':\n",
    "        return True\n",
    "    else:\n",
    "        return can_move(maze, (x+dx, y+dy), dx,dy)\n",
    "\n",
    "def do_move(maze, coord, dx,dy):\n",
    "    x,y = coord\n",
    "\n",
    "    if maze[(x+dx, y+dy)]=='O':\n",
    "        do_move(maze, (x+dx, y+dy), dx,dy)\n",
    "\n",
    "    assert maze[(x+dx, y+dy)] == '.', maze[(x+dx, y+dy)]\n",
    "    maze[(x+dx, y+dy)] = maze[coord]\n",
    "    maze[coord] = '.'\n",
    "    \n",
    "        \n",
    "    \n",
    "\n",
    "\n",
    "def printm(maze, X,Y):\n",
    "    for y in range(Y):\n",
    "        for x in range(X):\n",
    "            print(maze[x,y], end='')\n",
    "        print()\n",
    "from IPython.display import clear_output\n",
    "mx = {k:v for k,v in maze.items()}\n",
    "\n",
    "for d in movements:\n",
    "    x,y = [p for p,it in mx.items() if it == '@'][0]\n",
    "    dx,dy = dirmap[d]\n",
    "    if can_move(mx, (x,y), dx,dy):\n",
    "        do_move(mx, (x,y), dx,dy)\n",
    "#printm(maze, 10, 10)\n",
    "printm(mx, S, S)"
   ]
  },
  {
   "cell_type": "code",
   "execution_count": 56,
   "id": "9b45f509-d55d-4ae1-97d1-28409cc7e1b5",
   "metadata": {},
   "outputs": [
    {
     "data": {
      "text/plain": [
       "1438161"
      ]
     },
     "execution_count": 56,
     "metadata": {},
     "output_type": "execute_result"
    }
   ],
   "source": [
    "sum([(x+100*y) for (x,y),t in mx.items() if t == 'O' ])"
   ]
  },
  {
   "cell_type": "code",
   "execution_count": 57,
   "id": "f0a52fba-9c88-465c-a7de-b7cc9aacff78",
   "metadata": {},
   "outputs": [
    {
     "data": {
      "text/plain": [
       "'####'"
      ]
     },
     "execution_count": 57,
     "metadata": {},
     "output_type": "execute_result"
    }
   ],
   "source": [
    "'##'.replace('#','##')"
   ]
  },
  {
   "cell_type": "code",
   "execution_count": 58,
   "id": "500c1776-511b-4310-9874-89488fe0e5c1",
   "metadata": {},
   "outputs": [
    {
     "name": "stdout",
     "output_type": "stream",
     "text": [
      "####################################################################################################\n",
      "##......[]..##....[]........####[]....[][]..##[]....##..##..............[][]......##[]..##[][]....##\n",
      "##[]##....[][]......[]....[]..[]..........[]..[]..[]........[][]##..........[]##..[]..[][]....[]..##\n",
      "##................[]........##......[]............[]..[][]......##....[]..[]..##[]##........[]....##\n",
      "##....[]..[][]....[]....[]..##....[]..[]..[][]..[]......[]......[]............##[]..........[]....##\n",
      "##....[][]..........[]..[][]..[]##..............[]..................[]..........[]..[]..[]........##\n",
      "##..[]..##..[]..[]##............[][]................[]..[]..........[][]....[]..[]..[]..##..##[]..##\n",
      "##................##..........##..####[]........[]..[]....[][][]..............[][][]..##[]........##\n",
      "##..[]##..##......[][]..........##..............[]......[]......##[]..[]..............[][]....[][]##\n",
      "##..[]......[]....##[]......##[]....[]..................[]..[]....[][]....[]..............[]..[][]##\n",
      "##[]..[]............[]..[][]....[]..[]..............[]..[][]##[]..####......##........##[]..[]..[]##\n",
      "##..[]......[]..[][]..[]........[]....[]..[]......[]......##..[]........[][]....[]..[]##[]##[][]..##\n",
      "##..........[]..[]....##[]..........[]..[]....####[]..[]##[][]......[]......[]..[]..[]............##\n",
      "####....[]......[]....[][]..[]..[]..[]....[][]................##..####..................[]..[]....##\n",
      "##....[]......[]..[][]....[][][]..[]......##....##..................##..[]........[][]............##\n",
      "##[]........[][][]..[][]......[]####..[]..[][]....[]..[]..........[]..[]..[][][]........[]..[]..[]##\n",
      "##[]..[]....[][]..[]....[][]........................[]........[]........[]....[][]......[][]....####\n",
      "##..[]......[]..[]..[]..........[]....[]..[]......[]..##..............[][][]......................##\n",
      "##[]..[]......[]..........##....[]....##[]......[]..[]..[]........[]##......##..######..........[]##\n",
      "##..[]......[]..[]....##[]..##..[][]..............[]..[][]..[]......[]......................[]....##\n",
      "####[]..##[]........[]..##........................[]....[]....[]..........[]....[]....[][]........##\n",
      "####....##..[][]..[]..[][]..##..[]........[]......##................##................[]..[]......##\n",
      "##....[]..[][]......[]........##....[][]..[]......................[][][][]##....[][]##[]..........##\n",
      "##[][]..[]##......##....##......[]##................[]..[][][]......[][]........##[]..[][]##[][][]##\n",
      "##......[][][]........................##[]..##..@.......[]..........[]##..##..[]......[]....[]....##\n",
      "##......[]......[][]..##....[]............[]............................##[][][]............[][][]##\n",
      "##....##[][]......[]..##[]............[]....[][]..[]##......[]........[][]....[]......[]..[]##[]..##\n",
      "##..##..####......##[]................##..[]..........##[]##..[]..[][]....[][][]....##....[]......##\n",
      "##..##........##......[]....[]##[]....[][][]..........##........##............[]......[]......##..##\n",
      "##........[]........[]............[]..[]..[]....................[]..[]....[]..[]............[]....##\n",
      "##..##[][]##[]..[][]........................[]####..####[]..[]##..[]......[]##..................[]##\n",
      "####..[]..##....................##............##[][][][]..[][]..##..[]..[]..[]..........[]....##..##\n",
      "##[]..........##[][]..........[]............................##......[]..[]....[]..........[][]##..##\n",
      "##[]..[]..[]....[]##[][]..[]..[]........[]....[]............[]....[]................[][]..........##\n",
      "####[]........[]..............................................................##..[]..........[]####\n",
      "####....[]......##......[]..................[]##......##[]......[]..[][]............[][]..[]....[]##\n",
      "##[]....[][]..........[][][][]..##............[]..##[][]....[]..[]......[]..[]......[]..[]..[]##..##\n",
      "##....[]..........[]..[]................[]..........[]..........[]##........[][]####[][][]....##[]##\n",
      "##[]....####........[][][]....[]##..[]........[]..##......[]..........[]..[]..[]............[]..[]##\n",
      "##....[][]..##[]..............[]..[][]..[]##[]..[]..........[]..........[][]....[][]..[][][][]....##\n",
      "##..##..##[][]..[]....[]..[]................[]##..##......##....[]..[]..[]..##..[]....[][]..[]..[]##\n",
      "##....[]##..[][]..[]..##..........[]......[]....[][]##....[]......[]..[]##......[]..........##..[]##\n",
      "##..[][]..[][]........[]..[]....[]....##[][]..........##............##..##[][]....##..##[]..[]##..##\n",
      "##......[]........##....##............[]........[]....[]##[]......[]........[][]..............[]..##\n",
      "##..##..........[]##..............[]....[]....##[]..[][][][]....................[]..[]............##\n",
      "##..[]..[]..........[][]..[]..[]..[]....##[]..[]..[]....[]..[][]........[]........####..........####\n",
      "##[]....##..[][][]####........[]..[]....[][][][]..[]......[]....[]##....................[]........##\n",
      "####..[]####......[]..[]..........[]..[]##......[]..................##......................[][][]##\n",
      "##[]##[]..........##....[]..[][][]......[]....[][]..........[][][]........................##[]....##\n",
      "####################################################################################################\n"
     ]
    }
   ],
   "source": [
    "ngrid = grid.replace('#','##').replace('O','[]').replace('.','..').replace('@', '@.')\n",
    "print(ngrid)"
   ]
  },
  {
   "cell_type": "code",
   "execution_count": 59,
   "id": "c4d73641-e825-491f-bc4e-f1f125a92d12",
   "metadata": {},
   "outputs": [],
   "source": [
    "nmaze = dict()\n",
    "for y,l in enumerate(ngrid.splitlines()):\n",
    "    for x,c in enumerate(l):\n",
    "        nmaze[x,y] = c\n",
    "\n",
    "S = max([u for u,_ in nmaze.keys()])+1\n",
    "start = [p for p,it in nmaze.items() if it == '@'][0]"
   ]
  },
  {
   "cell_type": "code",
   "execution_count": 122,
   "id": "44c7e446-656f-473f-a17b-4c16cbb5f49d",
   "metadata": {},
   "outputs": [
    {
     "data": {
      "application/vnd.jupyter.widget-view+json": {
       "model_id": "367edcbc3c614bc9b8301946cbbbc3fd",
       "version_major": 2,
       "version_minor": 0
      },
      "text/plain": [
       "interactive(children=(IntSlider(value=0, description='n', max=2000), IntSlider(value=0, description='fine', ma…"
      ]
     },
     "metadata": {},
     "output_type": "display_data"
    }
   ],
   "source": [
    "\n",
    "def can_move(maze, coord, dx,dy, verbose=False):\n",
    "    global dint\n",
    "    if verbose:\n",
    "        print('entering debug for ',verbose, dint)\n",
    "    x,y = coord\n",
    "    if maze[coord] == '.':\n",
    "        return True\n",
    "    if maze[coord] == '#':\n",
    "        return False\n",
    "    if maze[(x+dx, y+dy)] == '#':\n",
    "        if verbose:\n",
    "            print('A wall')\n",
    "        return False\n",
    "    elif maze[(x, y)] == '.':\n",
    "        return True\n",
    "    else:\n",
    "        if verbose:\n",
    "            print('in the else, moving block')\n",
    "        if dy == 0:\n",
    "            if verbose:\n",
    "                print('Horizontal')\n",
    "            return can_move(maze, (x+dx, y+dy), dx,dy)\n",
    "        else:\n",
    "\n",
    "            assert dx == 0\n",
    "            assert dy in {-1,1}\n",
    "            if maze[coord] == '[':\n",
    "                a,b = can_move(maze, (x, y+dy), 0, dy), can_move(maze, (x+1, y+dy), 0,dy)\n",
    "                if verbose:\n",
    "                    print('[ dispatch', a,b)\n",
    "                return a and b\n",
    "            elif maze[coord] == ']':\n",
    "                a,b = can_move(maze, (x, y+dy), 0, dy) , can_move(maze, (x-1, y+dy), 0,dy)\n",
    "                if verbose:\n",
    "                    print('] dispatch', a,b)\n",
    "                return a and b\n",
    "            assert False, (dx,dy, maze[coord])\n",
    "    assert False\n",
    "                \n",
    "\n",
    "def do_move(maze, coord, dx,dy, from_other=False):\n",
    "    global dint\n",
    "    x,y = coord\n",
    "    assert maze[coord] != '#'\n",
    "    if maze[coord] == '.':\n",
    "        return \n",
    "    elif dy == 0:\n",
    "        do_move(maze, (x+dx, y), dx,0)\n",
    "    elif maze[coord] == '[':\n",
    "        do_move(maze, (x+dx, y+dy), dx,dy) # move dependant\n",
    "        if not from_other:\n",
    "            do_move(maze, (x+1, y), dx,dy, True)  # move other side\n",
    "        assert maze[(x+dx, y+dy)] == '.', maze[(x+dx, y+dy)]\n",
    "    elif maze[coord] == ']':\n",
    "        do_move(maze, (x+dx, y+dy), dx,dy) # move dependant\n",
    "        assert maze[(x+dx, y+dy)] == '.', maze[(x+dx, y+dy)]\n",
    "        if not from_other:\n",
    "            do_move(maze, (x-1, y), dx,dy, True) # Move other side\n",
    "        assert maze[(x+dx, y+dy)] == '.', maze[(x+dx, y+dy)]\n",
    "    elif maze[coord] == '@':\n",
    "        do_move(maze, (x+dx, y+dy), dx,dy)\n",
    "        assert maze[(x+dx, y+dy)] == '.', maze[(x+dx, y+dy)]\n",
    "    else:\n",
    "        assert False, (dx, maze[coord], coord)\n",
    "        \n",
    "        \n",
    "    assert maze[(x+dx, y+dy)] == '.', maze[(x+dx, y+dy)]\n",
    "    maze[(x+dx, y+dy)] = maze[coord]\n",
    "    maze[coord] = '.'\n",
    "    \n",
    "        \n",
    "from ipywidgets import interact    \n",
    "from IPython.display import clear_output\n",
    "\n",
    "\n",
    "\n",
    "@interact(n=(0,2000), fine=(-20,20))\n",
    "def debug(n:int=0, fine:int=0):\n",
    "    mx = {k:v for k,v in nmaze.items()}\n",
    "    pn = n+fine\n",
    "    for i,d in enumerate(movements[:pn]):\n",
    "        \n",
    "        x,y = [p for p,it in mx.items() if it == '@'][0]\n",
    "        dx,dy = dirmap[d]\n",
    "        if can_move(mx, (x+dx,y+dy), dx,dy):\n",
    "            do_move(mx, (x,y), dx,dy)\n",
    "\n",
    "    print(movements[max(pn-10,0):max(pn-1,0)],'|',movements[pn-1],'|', movements[max(pn,0):max(pn+10,0)])\n",
    "    printm(mx, S, S//2)\n",
    "    #return mx\n",
    "    \n",
    "None"
   ]
  },
  {
   "cell_type": "markdown",
   "id": "729ddc6c-b7cb-4752-b017-159985151725",
   "metadata": {},
   "source": [
    "```\n",
    "####################\n",
    "##[].......[].[][]##\n",
    "##[]...........[].##\n",
    "##[]........[][][]##\n",
    "##[]......[]....[]##\n",
    "##..##......[]....##\n",
    "##..[]............##\n",
    "##..@......[].[][]##\n",
    "##......[][]..[]..##\n",
    "####################\n",
    "```"
   ]
  },
  {
   "cell_type": "code",
   "execution_count": 113,
   "id": "16a2facc-282c-4be1-b8bd-7c22ad6a5f09",
   "metadata": {},
   "outputs": [
    {
     "name": "stdout",
     "output_type": "stream",
     "text": [
      "entering debug for  True 949\n"
     ]
    }
   ],
   "source": [
    "\n",
    "nmx = {k:v for k,v in nmaze.items()}\n",
    "pn = n+p*100\n",
    "for i,d in enumerate(movements[:]):\n",
    "    x,y = [p for p,it in nmx.items() if it == '@'][0]\n",
    "    dx,dy = dirmap[d]\n",
    "    if can_move(nmx, (x+dx,y+dy), dx,dy, verbose=(i==pn)):\n",
    "        #print('can move at', i, d)\n",
    "        do_move(nmx, (x,y), dx,dy)"
   ]
  },
  {
   "cell_type": "code",
   "execution_count": 114,
   "id": "5ab44d43-d999-4681-bc5c-c6fa0a42d36a",
   "metadata": {},
   "outputs": [
    {
     "data": {
      "text/plain": [
       "1437981"
      ]
     },
     "execution_count": 114,
     "metadata": {},
     "output_type": "execute_result"
    }
   ],
   "source": [
    "sum([(x+100*y) for (x,y),t in nmx.items() if t == '[' ])"
   ]
  },
  {
   "cell_type": "code",
   "execution_count": null,
   "id": "fd555626-4e85-4273-b0f5-24f008207779",
   "metadata": {},
   "outputs": [],
   "source": []
  }
 ],
 "metadata": {
  "kernelspec": {
   "display_name": "Python 3 (ipykernel)",
   "language": "python",
   "name": "python3"
  },
  "language_info": {
   "codemirror_mode": {
    "name": "ipython",
    "version": 3
   },
   "file_extension": ".py",
   "mimetype": "text/x-python",
   "name": "python",
   "nbconvert_exporter": "python",
   "pygments_lexer": "ipython3",
   "version": "3.12.3"
  }
 },
 "nbformat": 4,
 "nbformat_minor": 5
}
