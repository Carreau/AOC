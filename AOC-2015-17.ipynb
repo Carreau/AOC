{
 "cells": [
  {
   "cell_type": "code",
   "execution_count": 66,
   "id": "80e6f69b-8cf4-43d0-a43f-e40cc72957e2",
   "metadata": {},
   "outputs": [],
   "source": [
    "data = [int(x) for x in \"\"\"33\n",
    "14\n",
    "18\n",
    "20\n",
    "45\n",
    "35\n",
    "16\n",
    "35\n",
    "1\n",
    "13\n",
    "18\n",
    "13\n",
    "50\n",
    "44\n",
    "48\n",
    "6\n",
    "24\n",
    "41\n",
    "30\n",
    "42\"\"\".splitlines()]\n",
    "data = sorted(data, reverse=True)"
   ]
  },
  {
   "cell_type": "code",
   "execution_count": 67,
   "id": "f7ca70b0-b3e5-4ebf-80d0-a10482f2915f",
   "metadata": {},
   "outputs": [
    {
     "data": {
      "text/plain": [
       "[50, 48, 45, 44, 42, 41, 35, 35, 33, 30, 24, 20, 18, 18, 16, 14, 13, 13, 6, 1]"
      ]
     },
     "execution_count": 67,
     "metadata": {},
     "output_type": "execute_result"
    }
   ],
   "source": [
    "data"
   ]
  },
  {
   "cell_type": "code",
   "execution_count": 68,
   "id": "4f720e91-f069-46bc-9764-428ad78e1a6e",
   "metadata": {},
   "outputs": [
    {
     "data": {
      "text/plain": [
       "('abc', 'd', 'efg')"
      ]
     },
     "execution_count": 68,
     "metadata": {},
     "output_type": "execute_result"
    }
   ],
   "source": [
    "s = 'abcdefg'\n",
    "s[:3], s[3], s[3+1:]"
   ]
  },
  {
   "cell_type": "code",
   "execution_count": 119,
   "id": "092315e3-7475-4335-96eb-ca6214cd17ae",
   "metadata": {},
   "outputs": [],
   "source": [
    "def fill(total, jugs):\n",
    "    indent = ' '*(10 - 2*len(jugs))\n",
    "    if total == 0:\n",
    "        yield []\n",
    "    if not jugs:\n",
    "        return\n",
    "        return\n",
    "    #print(indent, 'trying', total, jugs)\n",
    "    for i in range(len(jugs)):\n",
    "        \n",
    "        a,b,c = jugs[:i], jugs[i], jugs[i+1:]\n",
    "        #print(indent, i, total,' using', b, 'from', jugs)\n",
    "        if b <= total:\n",
    "            #print(indent, 'seem fine')\n",
    "            \n",
    "            for subfill in fill(total-b, c):\n",
    "                #print(indent, 'seem we can get',total,' using', [b]+subfill)\n",
    "                yield [b]+subfill\n",
    "        else:\n",
    "            pass\n",
    "            #print(indent,'too big')\n",
    "        \n",
    "        "
   ]
  },
  {
   "cell_type": "code",
   "execution_count": 120,
   "id": "e0700990-f98c-4c56-bd8b-1bf7e75f6cfc",
   "metadata": {},
   "outputs": [],
   "source": [
    "from itertools import islice"
   ]
  },
  {
   "cell_type": "code",
   "execution_count": 124,
   "id": "6703875c-9f25-40e9-9cb7-d4eded6021c5",
   "metadata": {},
   "outputs": [
    {
     "data": {
      "text/plain": [
       "1304"
      ]
     },
     "execution_count": 124,
     "metadata": {},
     "output_type": "execute_result"
    }
   ],
   "source": [
    "len([x for x in fill(150, data)]) # 471, 652 too low."
   ]
  },
  {
   "cell_type": "code",
   "execution_count": 109,
   "id": "62ea39c7-79e0-4f32-933c-af98ad2f8aec",
   "metadata": {},
   "outputs": [],
   "source": [
    "# for k in islice(fill(150, data), 500):\n",
    "#     print(k)"
   ]
  },
  {
   "cell_type": "code",
   "execution_count": 128,
   "id": "294c1b4d-ee53-42e4-a1d4-d2ea76744d24",
   "metadata": {},
   "outputs": [],
   "source": [
    "from collections import Counter\n"
   ]
  },
  {
   "cell_type": "code",
   "execution_count": 129,
   "id": "d495691c-c458-4fbb-9335-3eb65478aa0a",
   "metadata": {},
   "outputs": [
    {
     "data": {
      "text/plain": [
       "Counter({6: 459, 7: 433, 8: 195, 5: 180, 9: 19, 4: 18})"
      ]
     },
     "execution_count": 129,
     "metadata": {},
     "output_type": "execute_result"
    }
   ],
   "source": [
    "Counter([len(x) for x in fill(150, data)]) # min for 4 is 18."
   ]
  },
  {
   "cell_type": "code",
   "execution_count": null,
   "id": "067f5d41-056a-4c4c-a57b-7803820dae77",
   "metadata": {},
   "outputs": [],
   "source": []
  }
 ],
 "metadata": {
  "kernelspec": {
   "display_name": "Python 3 (ipykernel)",
   "language": "python",
   "name": "python3"
  },
  "language_info": {
   "codemirror_mode": {
    "name": "ipython",
    "version": 3
   },
   "file_extension": ".py",
   "mimetype": "text/x-python",
   "name": "python",
   "nbconvert_exporter": "python",
   "pygments_lexer": "ipython3",
   "version": "3.13.0"
  }
 },
 "nbformat": 4,
 "nbformat_minor": 5
}
