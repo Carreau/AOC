{
 "cells": [
  {
   "cell_type": "code",
   "execution_count": 18,
   "id": "98d6f116",
   "metadata": {},
   "outputs": [
    {
     "data": {
      "text/plain": [
       "[(47847467, 207139412091014)]"
      ]
     },
     "execution_count": 18,
     "metadata": {},
     "output_type": "execute_result"
    }
   ],
   "source": [
    "time = [7,  15,   30]\n",
    "distance = [9,  40,  200]\n",
    "\n",
    "\n",
    "time=[        47,     84,     74,     67]\n",
    "distance=[   207,   1394,   1209,   1014]\n",
    "\n",
    "\n",
    "time=[        47_847_467]\n",
    "distance=[   207_139_412_091_014]\n",
    "\n",
    "races = list(zip(time, distance))\n",
    "races"
   ]
  },
  {
   "cell_type": "markdown",
   "id": "7950b92d",
   "metadata": {},
   "source": [
    "t0^2-total*t0 -d == 0\n",
    "\n",
    "de la form ax2+bx+c avec \n",
    "\n",
    "a = 1, b = -total , c=-d\n",
    "\n",
    "delta = b2-4ac\n",
    "delta = total**2+4*d\n",
    "\n",
    "root = (-total +/- sqrt(delta) ) / 2a\n"
   ]
  },
  {
   "cell_type": "code",
   "execution_count": 54,
   "id": "205a8e63",
   "metadata": {},
   "outputs": [],
   "source": [
    "from math import sqrt, ceil\n",
    "\n",
    "@numba.jit(nopython=True)\n",
    "def roots(time, distance):\n",
    "    delta = time**2-4*distance\n",
    "    return ceil(sqrt(delta))"
   ]
  },
  {
   "cell_type": "code",
   "execution_count": 66,
   "id": "acc33251",
   "metadata": {},
   "outputs": [
    {
     "name": "stdout",
     "output_type": "stream",
     "text": [
      "192 ns ± 0.325 ns per loop (mean ± std. dev. of 7 runs, 10,000,000 loops each)\n"
     ]
    }
   ],
   "source": [
    "%%timeit\n",
    "#⌊√(tmax²-4×dmax)⌋\n",
    "roots(time[0], distance[0])"
   ]
  },
  {
   "cell_type": "code",
   "execution_count": 27,
   "id": "7aba1ee5",
   "metadata": {},
   "outputs": [
    {
     "name": "stderr",
     "output_type": "stream",
     "text": [
      "<ipython-input-27-6b2f36554da9>:2: NumbaDeprecationWarning: The 'nopython' keyword argument was not supplied to the 'numba.jit' decorator. The implicit default value for this argument is currently False, but it will be changed to True in Numba 0.59.0. See https://numba.readthedocs.io/en/stable/reference/deprecation.html#deprecation-of-object-mode-fall-back-behaviour-when-using-jit for details.\n",
      "  def boat(t0, total):\n"
     ]
    }
   ],
   "source": [
    "@numba.jit\n",
    "def boat(t0, total):\n",
    "    return (total-t0)*t0"
   ]
  },
  {
   "cell_type": "code",
   "execution_count": 58,
   "id": "18c5a197",
   "metadata": {},
   "outputs": [
    {
     "data": {
      "text/plain": [
       "38220708"
      ]
     },
     "execution_count": 58,
     "metadata": {},
     "output_type": "execute_result"
    }
   ],
   "source": [
    "38220708"
   ]
  },
  {
   "cell_type": "code",
   "execution_count": 22,
   "id": "8cd4ccdf",
   "metadata": {},
   "outputs": [
    {
     "name": "stdout",
     "output_type": "stream",
     "text": [
      "CPU times: user 6.02 s, sys: 288 ms, total: 6.31 s\n",
      "Wall time: 6.31 s\n"
     ]
    },
    {
     "data": {
      "text/plain": [
       "38220708"
      ]
     },
     "execution_count": 22,
     "metadata": {},
     "output_type": "execute_result"
    }
   ],
   "source": [
    "tot = 1\n",
    "for t,d in races:\n",
    "    tot = tot*len([t0 for t0 in range(t) if boat(t0,t) > d])\n",
    "tot"
   ]
  },
  {
   "cell_type": "code",
   "execution_count": 24,
   "id": "b970cb19",
   "metadata": {},
   "outputs": [
    {
     "name": "stdout",
     "output_type": "stream",
     "text": [
      "Collecting numba\n",
      "  Using cached numba-0.58.1-cp310-cp310-macosx_11_0_arm64.whl (2.6 MB)\n",
      "Collecting llvmlite<0.42,>=0.41.0dev0\n",
      "  Using cached llvmlite-0.41.1-cp310-cp310-macosx_11_0_arm64.whl (28.8 MB)\n",
      "Collecting numpy<1.27,>=1.22\n",
      "  Downloading numpy-1.26.2-cp310-cp310-macosx_11_0_arm64.whl (14.0 MB)\n",
      "\u001b[2K     \u001b[38;2;114;156;31m━━━━━━━━━━━━━━━━━━━━━━━━━━━━━━━━━━━━━━━━\u001b[0m \u001b[32m14.0/14.0 MB\u001b[0m \u001b[31m64.2 MB/s\u001b[0m eta \u001b[36m0:00:00\u001b[0mm eta \u001b[36m0:00:01\u001b[0m[36m0:00:01\u001b[0m\n",
      "\u001b[?25hInstalling collected packages: numpy, llvmlite, numba\n",
      "Successfully installed llvmlite-0.41.1 numba-0.58.1 numpy-1.26.2\n"
     ]
    }
   ],
   "source": [
    "!pip install numba"
   ]
  },
  {
   "cell_type": "code",
   "execution_count": 28,
   "id": "49556a3e",
   "metadata": {},
   "outputs": [
    {
     "name": "stderr",
     "output_type": "stream",
     "text": [
      "<ipython-input-28-384fb512ec8e>:4: NumbaDeprecationWarning: The 'nopython' keyword argument was not supplied to the 'numba.jit' decorator. The implicit default value for this argument is currently False, but it will be changed to True in Numba 0.59.0. See https://numba.readthedocs.io/en/stable/reference/deprecation.html#deprecation-of-object-mode-fall-back-behaviour-when-using-jit for details.\n",
      "  def f():\n"
     ]
    }
   ],
   "source": [
    "import numba\n",
    "\n",
    "@numba.jit\n",
    "def f():\n",
    "    t = 47_847_467\n",
    "    d = 207_139_412_091_014\n",
    "    return len([t0 for t0 in range(47_847_467) if boat(t0,t) > 207_139_412_091_014])\n"
   ]
  },
  {
   "cell_type": "code",
   "execution_count": 30,
   "id": "195a8338",
   "metadata": {},
   "outputs": [
    {
     "name": "stdout",
     "output_type": "stream",
     "text": [
      "153 ms ± 1.7 ms per loop (mean ± std. dev. of 7 runs, 10 loops each)\n"
     ]
    }
   ],
   "source": [
    "%timeit f()"
   ]
  },
  {
   "cell_type": "code",
   "execution_count": null,
   "id": "7b617d1a",
   "metadata": {},
   "outputs": [],
   "source": []
  }
 ],
 "metadata": {
  "kernelspec": {
   "display_name": "Python 3",
   "language": "python",
   "name": "python3"
  },
  "language_info": {
   "codemirror_mode": {
    "name": "ipython",
    "version": 3
   },
   "file_extension": ".py",
   "mimetype": "text/x-python",
   "name": "python",
   "nbconvert_exporter": "python",
   "pygments_lexer": "ipython3",
   "version": "3.10.12"
  }
 },
 "nbformat": 4,
 "nbformat_minor": 5
}
