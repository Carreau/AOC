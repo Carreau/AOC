{
 "cells": [
  {
   "cell_type": "code",
   "execution_count": 1,
   "id": "27294239-fbd6-4f29-b811-f8e31f4a91dc",
   "metadata": {},
   "outputs": [],
   "source": [
    "data = '0 1 10 99 999'\n",
    "\n",
    "stones = [int(s) for s in data.split(' ')]"
   ]
  },
  {
   "cell_type": "code",
   "execution_count": 2,
   "id": "be492412-df45-4e4c-a4fe-bbb7c21a970e",
   "metadata": {},
   "outputs": [
    {
     "data": {
      "text/plain": [
       "'34'"
      ]
     },
     "execution_count": 2,
     "metadata": {},
     "output_type": "execute_result"
    }
   ],
   "source": [
    "'1234'[2:]"
   ]
  },
  {
   "cell_type": "code",
   "execution_count": 42,
   "id": "3446ca3a-c0b0-42fc-9902-0ad56b13ce0e",
   "metadata": {},
   "outputs": [],
   "source": [
    "def blink_1_stone(i):\n",
    "    assert isinstance(i, int), i\n",
    "    if i == 0:\n",
    "        yield 1\n",
    "    elif (l := len(s:=str(i))) %2 == 0:\n",
    "        yield int(s[:l//2])\n",
    "        yield int(s[l//2:])\n",
    "    else:\n",
    "        yield 2024*i\n",
    "        "
   ]
  },
  {
   "cell_type": "markdown",
   "id": "963c24a4-8d4a-4d88-b09c-d7cea61d6685",
   "metadata": {},
   "source": [
    "```\n",
    "Initial arrangement:\n",
    "125 17\n",
    "\n",
    "After 1 blink:\n",
    "253000 1 7\n",
    "\n",
    "After 2 blinks:\n",
    "253 0 2024 14168\n",
    "\n",
    "After 3 blinks:\n",
    "512072 1 20 24 28676032\n",
    "\n",
    "After 4 blinks:\n",
    "512 72 2024 2 0 2 4 2867 6032\n",
    "\n",
    "After 5 blinks:\n",
    "1036288 7 2 20 24 4048 1 4048 8096 28 67 60 32\n",
    "\n",
    "After 6 blinks:\n",
    "2097446912 14168 4048 2 0 2 4 40 48 2024 40 48 80 96 2 8 6 7 6 0 3 2\n",
    "```"
   ]
  },
  {
   "cell_type": "code",
   "execution_count": 43,
   "id": "49f5801b-232c-4b15-b267-f0d766f8ddfe",
   "metadata": {},
   "outputs": [],
   "source": [
    "def blink(stones):\n",
    "    for s in stones:\n",
    "        yield from blink_1_stone(s)"
   ]
  },
  {
   "cell_type": "code",
   "execution_count": 48,
   "id": "6d42d9a3-3df9-4bb3-8489-30908f07a269",
   "metadata": {},
   "outputs": [
    {
     "name": "stdout",
     "output_type": "stream",
     "text": [
      "[8096, 1, 8096, 16192, 16192, 1, 18216, 12144, 20, 48] ...\n",
      "CPU times: user 112 ms, sys: 3.45 ms, total: 115 ms\n",
      "Wall time: 167 ms\n"
     ]
    },
    {
     "data": {
      "text/plain": [
       "198075"
      ]
     },
     "execution_count": 48,
     "metadata": {},
     "output_type": "execute_result"
    }
   ],
   "source": [
    "%%time\n",
    "#ns = [125, 17]\n",
    "#ns = [125]\n",
    "puzz = [int(s) for s in '2701 64945 0 9959979 93 781524 620 1'.split(' ')]\n",
    "ns = puzz\n",
    "for _ in range(25):\n",
    "    ns = list(blink(ns))\n",
    "\n",
    "print(ns[:10],'...')\n",
    "len(ns)\n",
    "\n",
    "#[8096, 1, 8096, 16192, 16192, 1, 18216, 12144, 20, 48] ...\n",
    "# CPU times: user 112 ms, sys: 3.45 ms, total: 115 ms\n",
    "# Wall time: 167 ms\n",
    "198075"
   ]
  },
  {
   "cell_type": "code",
   "execution_count": 5,
   "id": "7c5ab20b-10c0-4df5-a244-75707490d7d8",
   "metadata": {
    "scrolled": true
   },
   "outputs": [
    {
     "data": {
      "text/plain": [
       "[2, 0]"
      ]
     },
     "execution_count": 5,
     "metadata": {},
     "output_type": "execute_result"
    }
   ],
   "source": [
    "list(blink([20]))"
   ]
  },
  {
   "cell_type": "code",
   "execution_count": 36,
   "id": "ae303d7e-c90c-4cc0-9ceb-f864a09a6d08",
   "metadata": {},
   "outputs": [],
   "source": [
    "from collections import defaultdict\n",
    "_cache = dict()\n",
    "_count = defaultdict(lambda:0)\n",
    "\n",
    "from functools import cache\n",
    "\n",
    "def counts(stones, depth):\n",
    "    stones = tuple(stones)\n",
    "    s = sum(count(s, depth-1) for s in stones)\n",
    "    return s\n",
    "    \n",
    "#@cache    \n",
    "def count(stone, depth):\n",
    "    if (stone, depth) in _cache:\n",
    "        _count[(stone, depth)] += 1\n",
    "        return _cache[(stone, depth)] \n",
    "    if depth == 0:\n",
    "        return 1\n",
    "    else:\n",
    "        c = counts(blink_1_stone(stone), depth)\n",
    "        _cache[(stone, depth)] = c\n",
    "        return c"
   ]
  },
  {
   "cell_type": "code",
   "execution_count": 37,
   "id": "0f6076f7-1935-4f24-8b44-7d54e15e2d08",
   "metadata": {},
   "outputs": [
    {
     "data": {
      "text/plain": [
       "235571309320764"
      ]
     },
     "execution_count": 37,
     "metadata": {},
     "output_type": "execute_result"
    }
   ],
   "source": [
    "counts(tuple(puzz), 75+1)"
   ]
  },
  {
   "cell_type": "code",
   "execution_count": 41,
   "id": "c62a2daa-ac75-4be1-a3bc-10931f1e1028",
   "metadata": {},
   "outputs": [
    {
     "name": "stdout",
     "output_type": "stream",
     "text": [
      "CPU times: user 54 μs, sys: 1 μs, total: 55 μs\n",
      "Wall time: 66.8 μs\n"
     ]
    },
    {
     "data": {
      "text/plain": [
       "81160502564915575413661356017145089189497226340195051944999003565504809246308317004725331701266135847709472092970361345918826574161777686"
      ]
     },
     "execution_count": 41,
     "metadata": {},
     "output_type": "execute_result"
    }
   ],
   "source": [
    "%time counts(tuple(puzz), 750+1)\n",
    "# CPU times: user 54 μs, sys: 1 μs, total: 55 μs\n",
    "# Wall time: 66.8 μs\n",
    "# 81160502564915575413661356017145089189497226340195051944999003565504809246308317004725331701266135847709472092970361345918826574161777686"
   ]
  },
  {
   "cell_type": "code",
   "execution_count": 39,
   "id": "a53bdb01-c3d1-4711-9372-102d10e3760c",
   "metadata": {
    "scrolled": true
   },
   "outputs": [
    {
     "data": {
      "text/plain": [
       "438"
      ]
     },
     "execution_count": 39,
     "metadata": {},
     "output_type": "execute_result"
    }
   ],
   "source": [
    "len({k for (k,_) in _count.keys()})"
   ]
  },
  {
   "cell_type": "code",
   "execution_count": 120,
   "id": "c677e014-88cf-44da-85ad-1907584ed05c",
   "metadata": {},
   "outputs": [
    {
     "data": {
      "text/plain": [
       "261738117977949"
      ]
     },
     "execution_count": 120,
     "metadata": {},
     "output_type": "execute_result"
    }
   ],
   "source": [
    "pz2 = tuple(int(x) for x in '27 01 64945 0 9959979 93 781524 620 1'.split())\n",
    "counts(tuple(pz2), 76)"
   ]
  },
  {
   "cell_type": "code",
   "execution_count": null,
   "id": "f71fdf4d-e44b-430c-bf3b-c1f39eda4213",
   "metadata": {},
   "outputs": [],
   "source": []
  }
 ],
 "metadata": {
  "kernelspec": {
   "display_name": "Python 3 (ipykernel)",
   "language": "python",
   "name": "python3"
  },
  "language_info": {
   "codemirror_mode": {
    "name": "ipython",
    "version": 3
   },
   "file_extension": ".py",
   "mimetype": "text/x-python",
   "name": "python",
   "nbconvert_exporter": "python",
   "pygments_lexer": "ipython3",
   "version": "3.12.3"
  }
 },
 "nbformat": 4,
 "nbformat_minor": 5
}
