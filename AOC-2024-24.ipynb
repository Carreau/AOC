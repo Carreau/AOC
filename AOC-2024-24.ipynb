{
 "cells": [
  {
   "cell_type": "code",
   "execution_count": 34,
   "id": "156b9950-489b-414b-aacf-e64e27c46cb8",
   "metadata": {},
   "outputs": [],
   "source": [
    "!vimr 24.txt"
   ]
  },
  {
   "cell_type": "code",
   "execution_count": 35,
   "id": "a1a48ece-1de1-4888-9955-66c83fcb22a2",
   "metadata": {},
   "outputs": [],
   "source": [
    "from pathlib import Path\n",
    "\n",
    "\n",
    "_data, _gates = \"\"\"x00: 1\n",
    "x01: 0\n",
    "x02: 1\n",
    "x03: 1\n",
    "x04: 0\n",
    "y00: 1\n",
    "y01: 1\n",
    "y02: 1\n",
    "y03: 1\n",
    "y04: 1\n",
    "\n",
    "ntg XOR fgs -> mjb\n",
    "y02 OR x01 -> tnw\n",
    "kwq OR kpj -> z05\n",
    "x00 OR x03 -> fst\n",
    "tgd XOR rvg -> z01\n",
    "vdt OR tnw -> bfw\n",
    "bfw AND frj -> z10\n",
    "ffh OR nrd -> bqk\n",
    "y00 AND y03 -> djm\n",
    "y03 OR y00 -> psh\n",
    "bqk OR frj -> z08\n",
    "tnw OR fst -> frj\n",
    "gnj AND tgd -> z11\n",
    "bfw XOR mjb -> z00\n",
    "x03 OR x00 -> vdt\n",
    "gnj AND wpb -> z02\n",
    "x04 AND y00 -> kjc\n",
    "djm OR pbm -> qhw\n",
    "nrd AND vdt -> hwm\n",
    "kjc AND fst -> rvg\n",
    "y04 OR y02 -> fgs\n",
    "y01 AND x02 -> pbm\n",
    "ntg OR kjc -> kwq\n",
    "psh XOR fgs -> tgd\n",
    "qhw XOR tgd -> z09\n",
    "pbm OR djm -> kpj\n",
    "x03 XOR y03 -> ffh\n",
    "x00 XOR y04 -> ntg\n",
    "bfw OR bqk -> z06\n",
    "nrd XOR fgs -> wpb\n",
    "frj XOR qhw -> z04\n",
    "bqk OR frj -> z07\n",
    "y03 OR x01 -> nrd\n",
    "hwm AND bqk -> z03\n",
    "tgd XOR rvg -> z12\n",
    "tnw OR pbm -> gnj\"\"\".split('\\n\\n')\n",
    "\n",
    "_data, _gates = Path('24.txt').read_text().split('\\n\\n')\n",
    "\n",
    "data = {}\n",
    "for l in _data.splitlines():\n",
    "    x,b = l.split(': ')\n",
    "    data[x] = bool(int(b))"
   ]
  },
  {
   "cell_type": "code",
   "execution_count": 36,
   "id": "6cae09eb-3923-4d94-bace-4af887cfedd7",
   "metadata": {},
   "outputs": [],
   "source": [
    "from operator import and_, or_, xor"
   ]
  },
  {
   "cell_type": "code",
   "execution_count": 37,
   "id": "a40da65c-ea1a-49d6-90e7-4db0773a9766",
   "metadata": {},
   "outputs": [
    {
     "data": {
      "text/plain": [
       "<function _operator.and_(a, b, /)>"
      ]
     },
     "execution_count": 37,
     "metadata": {},
     "output_type": "execute_result"
    }
   ],
   "source": [
    "and_"
   ]
  },
  {
   "cell_type": "code",
   "execution_count": 38,
   "id": "b8206f08-11c6-4b5a-a5ad-a56e17d9dc88",
   "metadata": {},
   "outputs": [],
   "source": [
    "gates = {}\n",
    "zs = []\n",
    "for l in _gates.splitlines():\n",
    "    rule, out = l.split(' -> ')\n",
    "    if out.startswith('z'):\n",
    "        zs.append(out)\n",
    "    gates[out] = rule.split()\n",
    "\n",
    "map = {\n",
    "    'AND': and_,\n",
    "    'OR': or_,\n",
    "    'XOR': xor\n",
    "    \n",
    "}\n",
    "\n",
    "def get(name):\n",
    "    if name in data:\n",
    "        return data[name]\n",
    "    else:\n",
    "        a,op,b = gates[name]\n",
    "        return map[op](get(a),get(b))\n",
    "    assert False"
   ]
  },
  {
   "cell_type": "code",
   "execution_count": 39,
   "id": "7f86d06c-5e54-4900-bad5-a25d1920b9c7",
   "metadata": {},
   "outputs": [
    {
     "data": {
      "text/plain": [
       "56729630917616"
      ]
     },
     "execution_count": 39,
     "metadata": {},
     "output_type": "execute_result"
    }
   ],
   "source": [
    "eval('0b'+''.join(['1' if get(z) else '0' for z in sorted(zs, reverse=True)]))"
   ]
  },
  {
   "cell_type": "code",
   "execution_count": 40,
   "id": "c902403f-1343-41e8-b65c-32eacab8140d",
   "metadata": {},
   "outputs": [
    {
     "data": {
      "text/plain": [
       "['z36',\n",
       " 'z25',\n",
       " 'z33',\n",
       " 'z34',\n",
       " 'z45',\n",
       " 'z43',\n",
       " 'z30',\n",
       " 'z05',\n",
       " 'z06',\n",
       " 'z18',\n",
       " 'z28',\n",
       " 'z39',\n",
       " 'z31',\n",
       " 'z10',\n",
       " 'z04',\n",
       " 'z44',\n",
       " 'z41',\n",
       " 'z20',\n",
       " 'z40',\n",
       " 'z07',\n",
       " 'z09',\n",
       " 'z27',\n",
       " 'z11',\n",
       " 'z17',\n",
       " 'z19',\n",
       " 'z13',\n",
       " 'z23',\n",
       " 'z32',\n",
       " 'z14',\n",
       " 'z00',\n",
       " 'z15',\n",
       " 'z38',\n",
       " 'z03',\n",
       " 'z37',\n",
       " 'z21',\n",
       " 'z01',\n",
       " 'z24',\n",
       " 'z26',\n",
       " 'z29',\n",
       " 'z12',\n",
       " 'z16',\n",
       " 'z02',\n",
       " 'z22',\n",
       " 'z35',\n",
       " 'z08',\n",
       " 'z42']"
      ]
     },
     "execution_count": 40,
     "metadata": {},
     "output_type": "execute_result"
    }
   ],
   "source": [
    "zs"
   ]
  },
  {
   "cell_type": "code",
   "execution_count": null,
   "id": "ae343f57-a662-45d5-971e-787f2395ef6d",
   "metadata": {},
   "outputs": [],
   "source": []
  }
 ],
 "metadata": {
  "kernelspec": {
   "display_name": "Python 3 (ipykernel)",
   "language": "python",
   "name": "python3"
  },
  "language_info": {
   "codemirror_mode": {
    "name": "ipython",
    "version": 3
   },
   "file_extension": ".py",
   "mimetype": "text/x-python",
   "name": "python",
   "nbconvert_exporter": "python",
   "pygments_lexer": "ipython3",
   "version": "3.12.3"
  }
 },
 "nbformat": 4,
 "nbformat_minor": 5
}
