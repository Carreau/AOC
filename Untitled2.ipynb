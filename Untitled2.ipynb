{
 "cells": [
  {
   "cell_type": "code",
   "execution_count": 1,
   "id": "f7734445-2428-4cf3-b6d8-40f1d0e53eb3",
   "metadata": {},
   "outputs": [],
   "source": [
    "def f():\n",
    "    yield 1\n",
    "    yield 2\n",
    "    yield 3\n",
    "    "
   ]
  },
  {
   "cell_type": "code",
   "execution_count": 6,
   "id": "56bfcdc1-f32d-4ba9-a80a-4c4c60840fc7",
   "metadata": {},
   "outputs": [],
   "source": [
    "def g():\n",
    "    yield 'a'\n",
    "    yield from f()\n",
    "    yield 'b'"
   ]
  },
  {
   "cell_type": "code",
   "execution_count": 7,
   "id": "b80ff16d-2785-4aa6-a266-0bc76ce27de2",
   "metadata": {},
   "outputs": [
    {
     "data": {
      "text/plain": [
       "['a', 1, 2, 3, 'b']"
      ]
     },
     "execution_count": 7,
     "metadata": {},
     "output_type": "execute_result"
    }
   ],
   "source": [
    "list(g())"
   ]
  },
  {
   "cell_type": "code",
   "execution_count": null,
   "id": "81676f03-66ce-492d-bf1f-2124ec5525f2",
   "metadata": {},
   "outputs": [],
   "source": [
    "def ma_finction():\n",
    "    ....\n",
    "    apres = yield valeur"
   ]
  },
  {
   "cell_type": "code",
   "execution_count": 23,
   "id": "67f8ccf1-d2f8-4c3d-9eb8-986b448fb374",
   "metadata": {},
   "outputs": [],
   "source": [
    "def h():\n",
    "    for i in range(100):\n",
    "        temp = yield i\n",
    "        print('temp is', temp)\n",
    "        \n",
    "    "
   ]
  },
  {
   "cell_type": "code",
   "execution_count": 26,
   "id": "668b726d-55eb-4f75-9446-ff8e90c5f0c5",
   "metadata": {},
   "outputs": [],
   "source": [
    "gen = h()"
   ]
  },
  {
   "cell_type": "code",
   "execution_count": 27,
   "id": "914c1478-5714-4212-9948-b3397b01ed0a",
   "metadata": {},
   "outputs": [
    {
     "data": {
      "text/plain": [
       "<generator object h at 0x1060c10e0>"
      ]
     },
     "execution_count": 27,
     "metadata": {},
     "output_type": "execute_result"
    }
   ],
   "source": [
    "gen"
   ]
  },
  {
   "cell_type": "code",
   "execution_count": 29,
   "id": "6a6e8efd-8c44-45b1-8d3c-6e8be969af66",
   "metadata": {},
   "outputs": [
    {
     "name": "stdout",
     "output_type": "stream",
     "text": [
      "temp is Coucou\n"
     ]
    },
    {
     "data": {
      "text/plain": [
       "1"
      ]
     },
     "execution_count": 29,
     "metadata": {},
     "output_type": "execute_result"
    }
   ],
   "source": [
    "gen.send('Coucou')"
   ]
  },
  {
   "cell_type": "code",
   "execution_count": 25,
   "id": "35459d18-bca0-4ecc-8371-05be862539a0",
   "metadata": {},
   "outputs": [
    {
     "data": {
      "text/plain": [
       "'abcdefghijklmnopqrstuvwxyzABCDEFGHIJKLMNOPQRSTUVWXYZ'"
      ]
     },
     "execution_count": 25,
     "metadata": {},
     "output_type": "execute_result"
    }
   ],
   "source": [
    "gen = h()\n",
    "import string\n",
    "string.ascii_letters\n",
    "\n",
    "for c in string.ascii_letters:\n",
    "    \n"
   ]
  },
  {
   "cell_type": "code",
   "execution_count": 17,
   "id": "b1f04e98-1f22-47e0-a0a0-3cc58177dea6",
   "metadata": {},
   "outputs": [],
   "source": [
    "def fib(a,b):\n",
    "    while True:\n",
    "        yield a\n",
    "        a,b = b, a+b"
   ]
  },
  {
   "cell_type": "code",
   "execution_count": 18,
   "id": "db3eeffa-4af1-4dae-90d0-92fee2aa7726",
   "metadata": {},
   "outputs": [],
   "source": [
    "import string"
   ]
  },
  {
   "cell_type": "code",
   "execution_count": 22,
   "id": "a9a79c44-19c8-4a65-8dab-19553c8d5872",
   "metadata": {},
   "outputs": [
    {
     "name": "stdout",
     "output_type": "stream",
     "text": [
      "-1\n",
      "1\n",
      "0\n",
      "1\n",
      "1\n",
      "2\n",
      "3\n",
      "5\n",
      "8\n",
      "13\n",
      "21\n",
      "34\n",
      "55\n",
      "89\n",
      "144\n",
      "233\n",
      "377\n",
      "610\n",
      "987\n",
      "1597\n",
      "2584\n",
      "4181\n",
      "6765\n",
      "10946\n",
      "17711\n",
      "28657\n",
      "46368\n",
      "75025\n",
      "121393\n",
      "196418\n",
      "317811\n",
      "514229\n",
      "832040\n",
      "1346269\n",
      "2178309\n",
      "3524578\n",
      "5702887\n",
      "9227465\n",
      "14930352\n",
      "24157817\n",
      "39088169\n",
      "63245986\n",
      "102334155\n",
      "165580141\n",
      "267914296\n",
      "433494437\n",
      "701408733\n",
      "1134903170\n",
      "1836311903\n",
      "2971215073\n"
     ]
    }
   ],
   "source": [
    "f = fib(-1,1)\n",
    "for i in range(50):\n",
    "    print(next(f))"
   ]
  },
  {
   "cell_type": "code",
   "execution_count": null,
   "id": "ba81acf8-0dcb-43fa-b04a-545998b3278c",
   "metadata": {},
   "outputs": [],
   "source": [
    "for i in "
   ]
  }
 ],
 "metadata": {
  "kernelspec": {
   "display_name": "Python 3 (ipykernel)",
   "language": "python",
   "name": "python3"
  },
  "language_info": {
   "codemirror_mode": {
    "name": "ipython",
    "version": 3
   },
   "file_extension": ".py",
   "mimetype": "text/x-python",
   "name": "python",
   "nbconvert_exporter": "python",
   "pygments_lexer": "ipython3",
   "version": "3.13.0"
  }
 },
 "nbformat": 4,
 "nbformat_minor": 5
}
