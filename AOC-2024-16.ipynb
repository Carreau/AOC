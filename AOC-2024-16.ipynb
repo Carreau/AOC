{
 "cells": [
  {
   "cell_type": "code",
   "execution_count": null,
   "id": "5f46681e-3174-4026-8dcd-ce87c5972629",
   "metadata": {},
   "outputs": [],
   "source": [
    "!vimr 2024-16"
   ]
  },
  {
   "cell_type": "code",
   "execution_count": null,
   "id": "d70f04ba-8aa6-40e3-8742-fe9ffabefbb2",
   "metadata": {},
   "outputs": [],
   "source": [
    "data = \"\"\"###############\n",
    "#.......#....E#\n",
    "#.#.###.#.###.#\n",
    "#.....#.#...#.#\n",
    "#.###.#####.#.#\n",
    "#.#.#.......#.#\n",
    "#.#.#####.###.#\n",
    "#...........#.#\n",
    "###.#.#####.#.#\n",
    "#...#.....#.#.#\n",
    "#.#.#.###.#.#.#\n",
    "#.....#...#.#.#\n",
    "#.###.#.#.#.#.#\n",
    "#S..#.....#...#\n",
    "###############\"\"\"\n",
    "\n",
    "from pathlib import Path\n",
    "\n",
    "data = Path('2024-16').read_text()\n",
    "\n",
    "maze = {}\n",
    "\n",
    "for y,line in enumerate(data.splitlines()):\n",
    "    for x,c in enumerate(line):\n",
    "        maze[(x,y)] = c\n",
    "maze\n",
    "\n",
    "start = [k for k,v in maze.items() if v == 'S'][0]\n",
    "start"
   ]
  },
  {
   "cell_type": "code",
   "execution_count": null,
   "id": "d2b659db-7056-4b1e-93f1-331fc21174ee",
   "metadata": {},
   "outputs": [],
   "source": [
    "pip install numba --pre"
   ]
  },
  {
   "cell_type": "code",
   "execution_count": null,
   "id": "effe6f2a-2adc-469e-96ea-b95753cd5b73",
   "metadata": {},
   "outputs": [],
   "source": [
    "import numpy as np"
   ]
  },
  {
   "cell_type": "code",
   "execution_count": 31,
   "id": "f93a072b-50b6-40e6-a00b-74c1983b69b4",
   "metadata": {},
   "outputs": [
    {
     "name": "stdout",
     "output_type": "stream",
     "text": [
      " 94438 O (135, 3))"
     ]
    }
   ],
   "source": [
    "from heapq import heappop as pop, heappush as push\n",
    "\n",
    "dirmap = { \n",
    "    'N':(( 0,-1),'E','O'),\n",
    "    'S':(( 0, 1),'E','O'),\n",
    "    'E':(( 1, 0),'N','S'),\n",
    "    'O':((-1, 0),'N','S'),\n",
    "}\n",
    "\n",
    "dd = {'E':'>',\n",
    "     'O': '<',\n",
    "      'N':'^',\n",
    "      'S':'V'\n",
    "     }\n",
    "from copy import copy\n",
    "from numba import jit\n",
    "import numba\n",
    "#@numba.jit(nopython=False)\n",
    "def explore(maze, start, dir, dirmap, dd):\n",
    "    open = [(0,start, dir, {start})]\n",
    "    minreach = {}\n",
    "    k = 0\n",
    "    reachscore = np.inf\n",
    "    alls = set()\n",
    "    while open:\n",
    "        #print(open)\n",
    "        k+=1\n",
    "        \n",
    "        #if k > 5000:\n",
    "        #    break\n",
    "        score, (x,y), dir,p = pop(open)\n",
    "        if k % 10000 == 0:\n",
    "            print('\\r',score, dir, (x,y), end='')\n",
    "        \n",
    "\n",
    "        minscore = minreach.get((x,y, dir), np.inf)\n",
    "        if score > minscore:\n",
    "            continue\n",
    "        minreach[(x,y,dir)] = score\n",
    "        if score > reachscore:\n",
    "            return alls, reachscore\n",
    "        if score == reachscore:\n",
    "            alls.update(p)\n",
    "        if maze[(x,y)] == 'E':\n",
    "            reachscore = score\n",
    "            alls.update(p)\n",
    "        else:\n",
    "            (dx,dy),ta,tb = dirmap[dir]\n",
    "            #print('should try', ta, tb)\n",
    "            pa =  (score+1000, (x,y), ta,p)\n",
    "            if pa not in open:\n",
    "                push(open,pa)\n",
    "            pb = (score+1000, (x,y), tb,p)\n",
    "            if pb not in open:\n",
    "                push(open, pb)\n",
    "            if maze[(x+dx,y+dy)] != '#':\n",
    "                p = copy(p)\n",
    "                p.add((x+dx, y+dy))\n",
    "                push(open, (score+1, (x+dx,y+dy), dir, p))\n",
    "\n",
    "best_len = 94444\n",
    "alls = explore(maze, start, 'E', dirmap, dd) # best_len = 94444\n"
   ]
  },
  {
   "cell_type": "code",
   "execution_count": 33,
   "id": "f7a516b5-dca6-46fc-bfea-d42a1697ca65",
   "metadata": {},
   "outputs": [
    {
     "name": "stdout",
     "output_type": "stream",
     "text": [
      "94444 502\n"
     ]
    }
   ],
   "source": [
    "a,b = alls\n",
    "print(b, len(a))"
   ]
  },
  {
   "cell_type": "code",
   "execution_count": 28,
   "id": "b85d701c-fb25-4985-9c56-a1bcc6d8a171",
   "metadata": {},
   "outputs": [
    {
     "data": {
      "text/plain": [
       "502"
      ]
     },
     "execution_count": 28,
     "metadata": {},
     "output_type": "execute_result"
    }
   ],
   "source": [
    "s = set()\n",
    "for ns in alls:\n",
    "    s = s.union(ns)\n",
    "len(s)"
   ]
  },
  {
   "cell_type": "code",
   "execution_count": null,
   "id": "9dcd44cd-fa2b-4c25-b8b8-4c6d20914588",
   "metadata": {},
   "outputs": [],
   "source": []
  }
 ],
 "metadata": {
  "kernelspec": {
   "display_name": "Python 3 (ipykernel)",
   "language": "python",
   "name": "python3"
  },
  "language_info": {
   "codemirror_mode": {
    "name": "ipython",
    "version": 3
   },
   "file_extension": ".py",
   "mimetype": "text/x-python",
   "name": "python",
   "nbconvert_exporter": "python",
   "pygments_lexer": "ipython3",
   "version": "3.13.0"
  }
 },
 "nbformat": 4,
 "nbformat_minor": 5
}
