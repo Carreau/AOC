{
 "cells": [
  {
   "cell_type": "code",
   "execution_count": 61,
   "id": "e4248c29-a7ea-4987-b379-92c382f6e276",
   "metadata": {},
   "outputs": [
    {
     "data": {
      "text/plain": [
       "['..#.#O##....O.O#O#O...O.....O........OO...#OO.O..O...O..O...O.....O....#O#..O#.......O.##..O....#..#',\n",
       " '.O#O.#O.O#OO..#..O....OOO#....#.O#O..OO#..O...OOO.#.O..#..O#OO.#O..O#...##.#O#..OO#O#O.....#O.O.OO.O',\n",
       " '...O..O.....#..#.O...O##.O...O...OO..#O.OO..###.OO.....##O.#.#.O.#.......O.....O...O...#.....O.#.#O.',\n",
       " '.#..O.....#..O..OO.O#.....#OOO...OO..#....OO#..O.......................O..#.#O....#.OO.#..O.......#.',\n",
       " '......O.##O......##.#.#..O.##............#.O.O.O..O#O.#.O....#....#....#OOO....O#O.O..#..#....O#..O#',\n",
       " '...O#..O...O.O#.O#O...#..O.O.....O..#..#O.#......##..OO.#....#.....###..#...#.O.#.OOO.O.....#O...#O.',\n",
       " '.#O##.#O.O.##O.##.#O....#..O..#......OOO..OO..#.#.#..#O...#O.#.#.O#O...#.#O..#.#....O........OO.....',\n",
       " '##......O##.#.......O.#..#OO....O..OO.O.O..O#.....OO..O.O....#.O................#O...#O.#...O.O....O',\n",
       " '...OO.O....##.##...##O...O..O..O#...O.#....#..O...O..#...O....#...O#OO..#.O.O.#.#O#O.O.......#.#O.#.',\n",
       " '..O...#......#.....#.#.....#...........O..O..##..#.....#.O#.......O.##.....O.OO..#..O..#..........#.',\n",
       " '.#.O...O#O#...OOO............OOO...#O#...#.....#OO.#.O..#OO.##.OOO..#O...#O#...O.O..##.#..O.O#O...O.',\n",
       " '....O...O#OO..O..O.#.....###....O#..#OO...##.#O.#.#.O.O...OO.O....#..O..O..OOO.#......O...##OOO.O...',\n",
       " '.OOO.....#.O..#..O.O..O..#O..#O#O.#..#.O.........O......#.#......O..#O.........OO#O..OOO......O#.O..',\n",
       " 'O.O.#O.....O.O..##......O#....O#.O..##.....O.#..###O.O...#O.....##..#O..#O.O.#.O.OO#....O...OO#....O',\n",
       " '.O#O..#...O.#...O......#.....O......OO...O.#...#..#.O.#..O.#...#.......#.#....O#..OO..O#O...O..O..#.',\n",
       " '.#..#...#.OOOO..#.#.O...O##O##....O..##..OO..#OO#..##.OO#.....#............O..#O....OO.#..#......#O.',\n",
       " '.....O......O..........O#...O...#.O#O...O.#...O.......O#..OOOO......O..O..#.#....O....#.O..O.###.#.O',\n",
       " '.#OO.O#..O.O#...OO...##OO.O....O.O.##O.......O.#O...OO#O#...#.OO.#.O.O..OO.O.O.#...OOO..#...O.O#.#OO',\n",
       " 'OO.#.##O..O#.O.#..O#O..#.O#.....O#..O......OOOOO#..O#.#......O.O..OO....##.##O.OO#O#.#.#......O.....',\n",
       " '.O.....O.O.#....OO.O..#..O##.#.....#.#......#..O...O.#..#..O#.O..O..##....##.O..#O....#...O#..O.#...',\n",
       " '....OO#OO..#..O..O..O#.##O.OO.O.OO.##...#..#..O........#.O......O.#OO#...........#...O#O##.......O..',\n",
       " '#.#O........O...##..........#.###.OO#O.O#.....O#.....#.OO.#..OO..#..O...O...O..OO.OO..#OO..O..##.OO.',\n",
       " '..#...O.....O.OO#OO##....#O#..#O...O#.....#O.O.O.......#...O..O.O#.O.....#O..OO#...O...O.OO.O.O....#',\n",
       " 'OO.#O..O..OOO.....O.....OOO.#........O........OO..##OOO...#.OOO..OO....#..#..........O...#..#.O#.#O.',\n",
       " '#.#O##.O#.#O#.#.OO...O.#O.......O...#O......#.#..O##......#.....O.....O##..#...#.....#..O...O......O',\n",
       " 'O.......#...O...O.#O#.O...#..O..#.OO...OO.O.#.#........#OO.#..OOO#...#O#O......O.....##.O.#..O..#.#.',\n",
       " '.#O....O...#OO..O........OO.#O...#...#O#O.O#.#...O....O.....##.#.#..#.#....##.#....#........#O...#.#',\n",
       " '.......O........#.##.........#.O#.O.....OO..O..#.OO.##.O....#..O..OO.#O#.#....O......O..O#OO........',\n",
       " '..#.O...#.....OO.O.......#...O...O##O..OO.....O.O.#.#....#....O....#O....#..#O.OO..O.#O......O...O..',\n",
       " '.......O#.O.#O....OO##.......#.....##..O.OOO...O...OO#OO#.O#....#.#.O..#O.....OO..#..OOO....O#...O#O',\n",
       " '......#.O##....O..O...O#...O#.O....O.#O#O#.O..#.O......O#......O.#O.#..#.O.......OO.#.#.O#.OO......#',\n",
       " '..#.OOOO.#...#O#......#...#OOO.....O..#...O.......#.#O.O...#.O#..O..O....##...........O....O#.O#.O..',\n",
       " '...#.#...####.#O.......O.#O....OO..O.#....OOO.....#.O..OO.#O#.O.O##O#...OO....O.O..#.OO..........##.',\n",
       " 'O.O#..........O#.........OO.....#.O....OOO.O...#.....#O....#..O.#....O#OOOO.#...#.#O.O#.OOO..OO#.O..',\n",
       " 'O......O.#....O#O..OOO##..........#OO.........#..O..O.....O..#O...##.OO.O.O........O.O...OOO......O.',\n",
       " '#.....O........#OO.###O..O....#OO.##O#OO.....OO.#O.......#.......#..O..O.........#...O....#.#...O.O.',\n",
       " '.#O....O##.O#....O.#.#..O#.#..........#........#..#O.#O...O.OOO.OO..##.#....OO.O..O#..O.#.#.......O.',\n",
       " '...O.O....O##OO#..#..#.....O..#..OO..##.O.#.............O.......#.O.........OOO#.#...OO##...#.#.....',\n",
       " 'OO.O..O......O...#.O#..##O...O.....#.##.....O##........#.OO#.O..O.....O#.......##.O.OO.O##.O........',\n",
       " '.O#..OO.#O...O...#..O.O.O..##........OO.O.....O.O#.#..OO.O...O.OO..O.O#OO..O..O.......O......OOOO...',\n",
       " '..O....#..O..OO.#.##O......#.#.........OO.....O....#..O.OO...OO.#O.#O....#........O....#O#...O#O.#.#',\n",
       " '....O...O.OOO.O...OOO....O.#....##.OO....O.O.##............O..#..OO....O....#......#....OO...O#OO..O',\n",
       " '.O.OO.....##.OOOO.#O#.......OOOO.O..#.....#O#O.........##OO.#.....O.O.#..##.O#..#O....#..O#...O..#..',\n",
       " '#....##O#.O#......O...OO.....O..O....##.O##.....O##O..OO..##O.###......#....#.#O....###.......#.....',\n",
       " '...##..O.O.#...OOO...OO#.O....OOOO....O....#O..###.#....O..OO....#.....O#O#.O.....O.....O..#..#O..##',\n",
       " '...OO.O...O.O..O..#.#OO..O#..OOO....#.O..#O#.###..O##..#.#..#....O....OOOO....#O.#.....O#O.....##...',\n",
       " '.........#...O..O#.O#..#..OO..O..#...#......#..OO..O..O.O..OO.O.....O.................O...O#.#O.....',\n",
       " '#.##...O.......#.#O#.....##O#.#..O.O.......#..O......O..O#.OOO#..O..OO#...O.O..O.#O.#.....##..OOOO.#',\n",
       " '.O...O...###..OOOO.#.##.O.#..#O#.O.#O.#.O#O#......#.O.#OO.##.....O...O#.O##.#..#...OO..O...O..##...O',\n",
       " '..##......O.#OO......#.O...#.......O##.........#.O.#....O...O....#O...O#O#.OO#.O...OO..O#....O.OO..O',\n",
       " '.........#...#.O..#.#........##.O.....O.#...##.#.#.O##...##..OO...#.........#..O.....O...O....#.O...',\n",
       " '.O.OO.#..O.OO..OO..O........O#.#O..O..O...#O.##.......#..#.....#O#..O....O.OOOOO#...O..#......O.....',\n",
       " '...O..O....#O...O......#.OOO.#.#......O##O#..##O..OO#O.....O..#.#...O.O##O.OO.OO...........O..###...',\n",
       " '....#.O..#..O#O.....#.OO.....##O....O#....#...O..OO.O...##..O.#O...OO.#..OO.#O.O.O..OOOO......O..O#.',\n",
       " 'O.#.....#...O#O..O##....#......#.O.O.....O#....#........##.O...O...O..#.....#O....O..O....#.#...#...',\n",
       " '....O...O...O.OO.O##......#.......O.#....#.....#O.O...O#O.####.##..........#.#OO...........#.O.O#...',\n",
       " '#.......#...O#.O..#O...#..#.#..O..###.OO.#..O.#..#..O#....###O...O..#..#......#O#.OO#.....#O#.......',\n",
       " '.....#..#..O#.#.#O.....O..O...O.O#....OO......#O#..#O....#.#O#....O##.O.....#O...........O...O.O.#..',\n",
       " '.#OO##.......O....OO.OO.....O.O.....OO.........#.#O.O.O.O.OO......#O...#O#.....OO.OO.O.O.#..#..#..#.',\n",
       " '.O...OOO#O..O.##.....#.#O#O.O.#O.....#.OO#.O...#O....OO..#...OO#.O.....O...O....O..O#...##.OO##..O.O',\n",
       " '#.#.#...O........O##.#....#.....#..........O.#...O.....##O....#...OO..##......#...OO.O#OO......O.O..',\n",
       " '......#...O..##...O........O#.......#.......OO.##..#...#..#.....#...O#.#O........O#.O...............',\n",
       " '...O..O....OOO...#.......O..OOO##.O.O#....#O..O.#O#...O.#.O..O.O#O..#...O..O.O.OO.O.#..#O..#O#..#..#',\n",
       " 'O.O..O#..O...O...O.O....##..OO#..O#.#OO##...OO..#OO....#..#..O.........O..O....#.#...OO#.#..O....O#.',\n",
       " '.#.##.#..O.O#....#....#O..#O.O....O...#.#.OO..O.OO..#.#O..OOOO#..O..##O.#..O##O..O......#.O..O..O..O',\n",
       " 'O#OO..O.....O...O...#...#...#.....O...#.O...#.#O...O..O.###......#O.........#O..........O..OOO..O.O.',\n",
       " '..#.#.O.....O....#....O..#.OO......O#.....O....O#.#.#...#O.O#OO..........#..#.O....O........O..O..O#',\n",
       " '..#........##O#O.#....#O.O....OOO..#.O.....#OO.O...#....O#...##O#.O...O.#OO#.O.OO#..OO.....OO..#O...',\n",
       " '...OO.#O#.#O.......OO#.O..O..OO...O..##O.#O.......#...#.O..O##O...O..O#.#....OO.###...#..O#...O..O..',\n",
       " '.O#O#....#.....###..#.#..#...#O...#..O#.....##.OO.....OO...O....#O.O........##...O.....OO#O.....#...',\n",
       " '#.....OOO..#....O.O..........#.......O...#....O.O...O........O...#O##.O.O#OO....#.#..O.O.##........O',\n",
       " 'O..OO...#OO.#O........#...O#OO#..O....#......OOO..OOO#...OO.O....##..#...O#...#.#..#O..O...##..##.#.',\n",
       " 'OO..#O#..O...#......#.#.#O#.....#..OO......OO#.OO..#.....O...O#....#O..O...#O...#.OO.##.###.....O..O',\n",
       " '.#.O......#...OO##.#.......O...O.......O#..O#...#..O#..O#O#..O.#O..OO.O..O.#..O..O#......O....O.....',\n",
       " '#..#O#O.#.O...O...#...#.#.#.#O....O.O..#O........O#..#.#...O.O.##.....O.O.O....OO..OO.....##.#O..O..',\n",
       " '...#......O#...#..O#O.O...#..OOO....#O#...#.....#..O#....#O......#.O..O.#O.......O#..O.#......O.O...',\n",
       " '..O.....O...O.....O#...#..#OO..##O.O.........OO...##.O.#..#.##O.O.O#..O#.#.#OO#......O#..#.#.O#O#.O.',\n",
       " '##..OO.O..##O..O...O.O.....#.O#.O.OO....#..##O.O.##.O.#....#......O........##.....OOO.O.#.###....O#O',\n",
       " '..OO..O.OO..#..O....O..O.###.#..#..#..#......OO#O#..#.#.#.OO#.#...O.....#..O#...............#....O..',\n",
       " '.#O.O..#...#.#OO..O.........O.##.#.....OOO.O.O.......OO##.##.OO.#......OO..O.O...#.....O...#O.#.O.O.',\n",
       " '.O.O#O...O.O#O.O..O.O.O.O..O.O.O...O.#.#....#....#..O.#O.#........#.#...O.......#...O..O...O..#O...O',\n",
       " '..O...O.O...O.#..........#O.O..........#......O...#OO..O..O##..O......O...#.O...O..#......OO..O....O',\n",
       " '..#........#..O..O..#...#O...O.O...##....O..#O.#.#.#......O#.O....##O...O.OO.#...O.OOO.#..OOO...O...',\n",
       " '..OO..O#...O..O#O..O.##...#.O.#O###.O#...O.###...O....O...#...#..#.#....#...O..O....O...####O.#OOO.O',\n",
       " '.O....#.#O#.O.#.#.........O#.#..#.O.....O####.O.OO.O.O#O..O......O.#.OO.O.......OOO..#........OO..#O',\n",
       " '#O....#...O..O.#..O.O#.O..OO#OO.O#..#.#....#.O...#..#O#.O.O.O...O#.O#...#O..O..O..O.O...#.#.#O....O#',\n",
       " '#.....##...O.O..OO..O#.....O...........#.....#O#O......O..OO.....##..#...#O..#.O.........O.....O....',\n",
       " '#...#.#O#O..O...OO.O.O.O..#O..##..O..OO.....#OO.#.#....#.....O.#....#....#...#O....O.#.##..#O.O..#..',\n",
       " 'O.##....O..O.#.OO.....#..OO#..#.OO.....#O..OOO#.......#.#....O....#.....OO....#.OO.....#.#..O...O.#.',\n",
       " '..O...O#..O..#...OO.......#O.O.OO..OO.O...O.O.O.#..#OOO.#.....O....O..OO........#.....O.O#.O.O##....',\n",
       " '....O..#.#O...#.O....#O.OO.#..#.O...##..#......#OO..#....#....#.O..#OO#.#...O..O..O#.O.O#...O##...OO',\n",
       " '.O.O....#...O#.O.......#.O........#..OO.#O...O##O......#.O.OOO......#OO.O.O..O###..#.O..OO.O.O.O....',\n",
       " 'O.......#..O#......O.O#..O...O..O..O..O#..##....................O.#...........##....#..##.#...#O.###',\n",
       " '..O...O.......O....O..OO..O.#......#.......O#O.....#..##..O.O#.....O...O.#OO....O.#.O.O.#O.#..OO..O#',\n",
       " '#OOO....O.....O..O.O.....OO.OOO..#O.O..O..#O.#.....#.O...OO.O.......#..#O...O.....O.#...O#...O...OO.',\n",
       " 'O.#..O..OO.OO#O....#.O.......O....O....#..O...O.....OOOOO#.#...O#.#O.O..OO#O.O.......#.....O...O.OO.',\n",
       " '.O#O.O....O.#OO##......O.......O#.#..##...O......#.#........#O..#.##..#.O.....#..OO..#..#.O.#.O...#O',\n",
       " '.OO....#..O..O#.O.#O.........O.....#OOO............OOO..#.....#...#.O..##.OO....##...O#O....OO#.#.O#',\n",
       " '...O.##.....###......O#...O.......#.#...#.......O.....###..OOO...O.O..O..O#.O....#O....#.#.......O.#',\n",
       " 'OO#....##..O.#......#OO..#....#.#.O.........#.OOO....OO.###....O#.#..#O.O.O..#...OO#.OO#.....O#O#...']"
      ]
     },
     "execution_count": 61,
     "metadata": {},
     "output_type": "execute_result"
    }
   ],
   "source": [
    "data_test =\"\"\"O....#....\n",
    "O.OO#....#\n",
    ".....##...\n",
    "OO.#O....O\n",
    ".O.....O#.\n",
    "O.#..O.#.#\n",
    "..O..#O..O\n",
    ".......O..\n",
    "#....###..\n",
    "#OO..#....\"\"\".splitlines()\n",
    "\n",
    "from pathlib import Path\n",
    "data_real = Path('2024-14-input.txt').read_text().splitlines()\n",
    "data_real"
   ]
  },
  {
   "cell_type": "code",
   "execution_count": 146,
   "id": "47713bf9-e663-4b8f-a137-24b27e2d7503",
   "metadata": {},
   "outputs": [],
   "source": [
    "@numba.jit(nopython=True)\n",
    "def transpose(data):\n",
    "    lot = tuple([tuple(x) for x in data])\n",
    "    return [''.join(x) for x in zip(*lot)]"
   ]
  },
  {
   "cell_type": "code",
   "execution_count": 147,
   "id": "f039d4e4-e7aa-4fdf-8c8d-e22f8555e2a4",
   "metadata": {},
   "outputs": [
    {
     "data": {
      "text/plain": [
       "('a', 'b', 'c')"
      ]
     },
     "execution_count": 147,
     "metadata": {},
     "output_type": "execute_result"
    }
   ],
   "source": [
    "tuple('abc')"
   ]
  },
  {
   "cell_type": "code",
   "execution_count": 149,
   "id": "1db9a1cd-d40b-4b05-8b32-58d31482b5ea",
   "metadata": {},
   "outputs": [
    {
     "ename": "TypingError",
     "evalue": "Failed in nopython mode pipeline (step: nopython frontend)\n\u001b[1m\u001b[1m\u001b[1mNo implementation of function Function(<class 'tuple'>) found for signature:\n \n >>> tuple(list(UniTuple(int64 x 100))<iv=None>)\n \nThere are 2 candidate implementations:\n\u001b[1m      - Of which 2 did not match due to:\n      Overload of function 'tuple': File: numba/core/typing/builtins.py: Line 572.\n        With argument(s): '(list(UniTuple(int64 x 100))<iv=None>)':\u001b[0m\n\u001b[1m       No match.\u001b[0m\n\u001b[0m\n\u001b[0m\u001b[1mDuring: resolving callee type: Function(<class 'tuple'>)\u001b[0m\n\u001b[0m\u001b[1mDuring: typing of call at /var/folders/7x/x6hsdv257b3_ml15w4czp2rc0000gn/T/ipykernel_58358/1260436465.py (3)\n\u001b[0m\n\u001b[1m\nFile \"../../../../var/folders/7x/x6hsdv257b3_ml15w4czp2rc0000gn/T/ipykernel_58358/1260436465.py\", line 3:\u001b[0m\n\u001b[1m<source missing, REPL/exec in use?>\u001b[0m\n",
     "output_type": "error",
     "traceback": [
      "\u001b[0;31m---------------------------------------------------------------------------\u001b[0m",
      "\u001b[0;31mTypingError\u001b[0m                               Traceback (most recent call last)",
      "Cell \u001b[0;32mIn[149], line 1\u001b[0m\n\u001b[0;32m----> 1\u001b[0m tr \u001b[38;5;241m=\u001b[39m \u001b[48;5;39mtranspose\u001b[49m\u001b[48;5;39m(\u001b[49m\u001b[48;5;39m[\u001b[49m\u001b[38;5;28;48;5;39mtuple\u001b[39;49m\u001b[48;5;39m(\u001b[49m\u001b[48;5;39mx\u001b[49m\u001b[38;5;241;48;5;39m.\u001b[39;49m\u001b[48;5;39mencode\u001b[49m\u001b[48;5;39m(\u001b[49m\u001b[48;5;39m)\u001b[49m\u001b[48;5;39m)\u001b[49m\u001b[48;5;39m \u001b[49m\u001b[38;5;28;48;5;39;01mfor\u001b[39;49;00m\u001b[48;5;39m \u001b[49m\u001b[48;5;39mx\u001b[49m\u001b[48;5;39m \u001b[49m\u001b[38;5;129;48;5;39;01min\u001b[39;49;00m\u001b[48;5;39m \u001b[49m\u001b[48;5;39mdata_real\u001b[49m\u001b[48;5;39m]\u001b[49m\u001b[48;5;39m)\u001b[49m\n",
      "File \u001b[0;32m~/miniforge3/envs/papyri/lib/python3.11/site-packages/numba/core/dispatcher.py:468\u001b[0m, in \u001b[0;36m_DispatcherBase._compile_for_args\u001b[0;34m(self, *args, **kws)\u001b[0m\n\u001b[1;32m    464\u001b[0m         msg \u001b[38;5;241m=\u001b[39m (\u001b[38;5;124mf\u001b[39m\u001b[38;5;124m\"\u001b[39m\u001b[38;5;132;01m{\u001b[39;00m\u001b[38;5;28mstr\u001b[39m(e)\u001b[38;5;241m.\u001b[39mrstrip()\u001b[38;5;132;01m}\u001b[39;00m\u001b[38;5;124m \u001b[39m\u001b[38;5;130;01m\\n\u001b[39;00m\u001b[38;5;130;01m\\n\u001b[39;00m\u001b[38;5;124mThis error may have been caused \u001b[39m\u001b[38;5;124m\"\u001b[39m\n\u001b[1;32m    465\u001b[0m                \u001b[38;5;124mf\u001b[39m\u001b[38;5;124m\"\u001b[39m\u001b[38;5;124mby the following argument(s):\u001b[39m\u001b[38;5;130;01m\\n\u001b[39;00m\u001b[38;5;132;01m{\u001b[39;00margs_str\u001b[38;5;132;01m}\u001b[39;00m\u001b[38;5;130;01m\\n\u001b[39;00m\u001b[38;5;124m\"\u001b[39m)\n\u001b[1;32m    466\u001b[0m         e\u001b[38;5;241m.\u001b[39mpatch_message(msg)\n\u001b[0;32m--> 468\u001b[0m     \u001b[48;5;39merror_rewrite\u001b[49m\u001b[48;5;39m(\u001b[49m\u001b[48;5;39me\u001b[49m\u001b[48;5;39m,\u001b[49m\u001b[48;5;39m \u001b[49m\u001b[38;5;124;48;5;39m'\u001b[39;49m\u001b[38;5;124;48;5;39mtyping\u001b[39;49m\u001b[38;5;124;48;5;39m'\u001b[39;49m\u001b[48;5;39m)\u001b[49m\n\u001b[1;32m    469\u001b[0m \u001b[38;5;28;01mexcept\u001b[39;00m errors\u001b[38;5;241m.\u001b[39mUnsupportedError \u001b[38;5;28;01mas\u001b[39;00m e:\n\u001b[1;32m    470\u001b[0m     \u001b[38;5;66;03m# Something unsupported is present in the user code, add help info\u001b[39;00m\n\u001b[1;32m    471\u001b[0m     error_rewrite(e, \u001b[38;5;124m'\u001b[39m\u001b[38;5;124munsupported_error\u001b[39m\u001b[38;5;124m'\u001b[39m)\n",
      "File \u001b[0;32m~/miniforge3/envs/papyri/lib/python3.11/site-packages/numba/core/dispatcher.py:409\u001b[0m, in \u001b[0;36m_DispatcherBase._compile_for_args.<locals>.error_rewrite\u001b[0;34m(e, issue_type)\u001b[0m\n\u001b[1;32m    407\u001b[0m     \u001b[38;5;28;01mraise\u001b[39;00m e\n\u001b[1;32m    408\u001b[0m \u001b[38;5;28;01melse\u001b[39;00m:\n\u001b[0;32m--> 409\u001b[0m     \u001b[38;5;28;01mraise\u001b[39;00m e\u001b[38;5;241m.\u001b[39mwith_traceback(\u001b[38;5;28;01mNone\u001b[39;00m)\n",
      "\u001b[0;31mTypingError\u001b[0m: Failed in nopython mode pipeline (step: nopython frontend)\n\u001b[1m\u001b[1m\u001b[1mNo implementation of function Function(<class 'tuple'>) found for signature:\n \n >>> tuple(list(UniTuple(int64 x 100))<iv=None>)\n \nThere are 2 candidate implementations:\n\u001b[1m      - Of which 2 did not match due to:\n      Overload of function 'tuple': File: numba/core/typing/builtins.py: Line 572.\n        With argument(s): '(list(UniTuple(int64 x 100))<iv=None>)':\u001b[0m\n\u001b[1m       No match.\u001b[0m\n\u001b[0m\n\u001b[0m\u001b[1mDuring: resolving callee type: Function(<class 'tuple'>)\u001b[0m\n\u001b[0m\u001b[1mDuring: typing of call at /var/folders/7x/x6hsdv257b3_ml15w4czp2rc0000gn/T/ipykernel_58358/1260436465.py (3)\n\u001b[0m\n\u001b[1m\nFile \"../../../../var/folders/7x/x6hsdv257b3_ml15w4czp2rc0000gn/T/ipykernel_58358/1260436465.py\", line 3:\u001b[0m\n\u001b[1m<source missing, REPL/exec in use?>\u001b[0m\n"
     ]
    }
   ],
   "source": [
    "tr = transpose([tuple(x.encode()) for x in data_real])"
   ]
  },
  {
   "cell_type": "code",
   "execution_count": 63,
   "id": "b4383d63-3edd-4889-b5e2-51db6a8c9050",
   "metadata": {},
   "outputs": [],
   "source": [
    "def partition_all(str, needle):\n",
    "    if needle in str:\n",
    "        a,b,c = str.partition(needle)\n",
    "        return a,b, *partition_all(c, needle) \n",
    "    else:\n",
    "        return [str]"
   ]
  },
  {
   "cell_type": "code",
   "execution_count": 76,
   "id": "c62ce6cc-dc32-4b1c-a5a6-4688e43f7b7a",
   "metadata": {},
   "outputs": [],
   "source": [
    "each_sorted = [[''.join(sorted(u, reverse=True))  for u in partition_all(x, '#')] for x in tr]\n",
    "res = transpose([''.join(k) for k in each_sorted])"
   ]
  },
  {
   "cell_type": "code",
   "execution_count": 77,
   "id": "97061dca-ee2e-4d79-a092-c9d2f15ccb25",
   "metadata": {},
   "outputs": [
    {
     "data": {
      "text/plain": [
       "111979"
      ]
     },
     "execution_count": 77,
     "metadata": {},
     "output_type": "execute_result"
    }
   ],
   "source": [
    "sum([(len(res)-i)*line.count('O') for i,line in enumerate(res)])"
   ]
  },
  {
   "cell_type": "code",
   "execution_count": 115,
   "id": "8b821f77-837e-47d1-a434-98c822ec57cf",
   "metadata": {},
   "outputs": [],
   "source": [
    "import numba"
   ]
  },
  {
   "cell_type": "code",
   "execution_count": 128,
   "id": "38197327-e483-4111-80a1-64048cccc0fc",
   "metadata": {},
   "outputs": [],
   "source": [
    "@numba.jit(nopython=True)\n",
    "def id(x):\n",
    "    return x\n",
    "\n",
    "@numba.jit(nopython=True)\n",
    "def roll_dir(data, dir):\n",
    "    DIR_CONF= {\n",
    "        'N':(transpose, True),\n",
    "        'S':(transpose, False),\n",
    "        'E':(id, False), \n",
    "        'W':(id, True),\n",
    "    }\n",
    "    fmap, rev = DIR_CONF[dir]\n",
    "    tr = fmap(data)\n",
    "    each_sorted = [[''.join(sorted(u, reverse=rev))  for u in partition_all(x, '#')] for x in tr]\n",
    "    rolled = [''.join(k) for k in each_sorted]\n",
    "    return fmap(rolled)"
   ]
  },
  {
   "cell_type": "code",
   "execution_count": null,
   "id": "6f166773-39a7-48c4-b397-cd1624d06f21",
   "metadata": {},
   "outputs": [],
   "source": []
  },
  {
   "cell_type": "code",
   "execution_count": 129,
   "id": "a7bd9019-4cd1-4755-99bd-3232e064a2c9",
   "metadata": {},
   "outputs": [],
   "source": [
    "@numba.jit(nopython=True)\n",
    "def cycle(data):\n",
    "    for d in 'NWSE':\n",
    "        data = roll_dir(data, d)\n",
    "    return data"
   ]
  },
  {
   "cell_type": "code",
   "execution_count": 130,
   "id": "3003e9df-d08f-40da-817a-123bc9235f09",
   "metadata": {},
   "outputs": [],
   "source": [
    "N = 1_000_000_000"
   ]
  },
  {
   "cell_type": "code",
   "execution_count": 131,
   "id": "279f9699-6383-4e1f-ba0d-1a42279c3eb7",
   "metadata": {},
   "outputs": [],
   "source": [
    "@numba.jit(nopython=True)\n",
    "def f():\n",
    "    dd = data_real\n",
    "    for i in range(1_000):\n",
    "        dd = cycle(dd)"
   ]
  },
  {
   "cell_type": "code",
   "execution_count": 132,
   "id": "8acd14e4-530b-45e8-b090-0e19bbf4e1f8",
   "metadata": {},
   "outputs": [
    {
     "ename": "TypingError",
     "evalue": "Failed in nopython mode pipeline (step: nopython frontend)\n\u001b[1m\u001b[1m\u001b[1m\u001b[1mFailed in nopython mode pipeline (step: nopython frontend)\n\u001b[1m\u001b[1m\u001b[1m\u001b[1mFailed in nopython mode pipeline (step: nopython frontend)\n\u001b[1mUntyped global name 'transpose':\u001b[0m \u001b[1m\u001b[1mCannot determine Numba type of <class 'function'>\u001b[0m\n\u001b[1m\nFile \"../../../../var/folders/7x/x6hsdv257b3_ml15w4czp2rc0000gn/T/ipykernel_58358/2676638936.py\", line 8:\u001b[0m\n\u001b[1m<source missing, REPL/exec in use?>\u001b[0m\n\u001b[0m\n\u001b[0m\u001b[1mDuring: resolving callee type: type(CPUDispatcher(<function roll_dir at 0x130468fe0>))\u001b[0m\n\u001b[0m\u001b[1mDuring: typing of call at /var/folders/7x/x6hsdv257b3_ml15w4czp2rc0000gn/T/ipykernel_58358/729761636.py (4)\n\u001b[0m\n\u001b[0m\u001b[1mDuring: resolving callee type: type(CPUDispatcher(<function roll_dir at 0x130468fe0>))\u001b[0m\n\u001b[0m\u001b[1mDuring: typing of call at /var/folders/7x/x6hsdv257b3_ml15w4czp2rc0000gn/T/ipykernel_58358/729761636.py (4)\n\u001b[0m\n\u001b[1m\nFile \"../../../../var/folders/7x/x6hsdv257b3_ml15w4czp2rc0000gn/T/ipykernel_58358/729761636.py\", line 4:\u001b[0m\n\u001b[1m<source missing, REPL/exec in use?>\u001b[0m\n\n\u001b[0m\u001b[1mDuring: resolving callee type: type(CPUDispatcher(<function cycle at 0x130936200>))\u001b[0m\n\u001b[0m\u001b[1mDuring: typing of call at /var/folders/7x/x6hsdv257b3_ml15w4czp2rc0000gn/T/ipykernel_58358/3257066243.py (5)\n\u001b[0m\n\u001b[0m\u001b[1mDuring: resolving callee type: type(CPUDispatcher(<function cycle at 0x130936200>))\u001b[0m\n\u001b[0m\u001b[1mDuring: typing of call at /var/folders/7x/x6hsdv257b3_ml15w4czp2rc0000gn/T/ipykernel_58358/3257066243.py (5)\n\u001b[0m\n\u001b[1m\nFile \"../../../../var/folders/7x/x6hsdv257b3_ml15w4czp2rc0000gn/T/ipykernel_58358/3257066243.py\", line 5:\u001b[0m\n\u001b[1m<source missing, REPL/exec in use?>\u001b[0m\n",
     "output_type": "error",
     "traceback": [
      "\u001b[0;31m---------------------------------------------------------------------------\u001b[0m",
      "\u001b[0;31mTypingError\u001b[0m                               Traceback (most recent call last)",
      "Cell \u001b[0;32mIn[132], line 1\u001b[0m\n\u001b[0;32m----> 1\u001b[0m \u001b[48;5;39mf\u001b[49m\u001b[48;5;39m(\u001b[49m\u001b[48;5;39m)\u001b[49m\n",
      "File \u001b[0;32m~/miniforge3/envs/papyri/lib/python3.11/site-packages/numba/core/dispatcher.py:468\u001b[0m, in \u001b[0;36m_DispatcherBase._compile_for_args\u001b[0;34m(self, *args, **kws)\u001b[0m\n\u001b[1;32m    464\u001b[0m         msg \u001b[38;5;241m=\u001b[39m (\u001b[38;5;124mf\u001b[39m\u001b[38;5;124m\"\u001b[39m\u001b[38;5;132;01m{\u001b[39;00m\u001b[38;5;28mstr\u001b[39m(e)\u001b[38;5;241m.\u001b[39mrstrip()\u001b[38;5;132;01m}\u001b[39;00m\u001b[38;5;124m \u001b[39m\u001b[38;5;130;01m\\n\u001b[39;00m\u001b[38;5;130;01m\\n\u001b[39;00m\u001b[38;5;124mThis error may have been caused \u001b[39m\u001b[38;5;124m\"\u001b[39m\n\u001b[1;32m    465\u001b[0m                \u001b[38;5;124mf\u001b[39m\u001b[38;5;124m\"\u001b[39m\u001b[38;5;124mby the following argument(s):\u001b[39m\u001b[38;5;130;01m\\n\u001b[39;00m\u001b[38;5;132;01m{\u001b[39;00margs_str\u001b[38;5;132;01m}\u001b[39;00m\u001b[38;5;130;01m\\n\u001b[39;00m\u001b[38;5;124m\"\u001b[39m)\n\u001b[1;32m    466\u001b[0m         e\u001b[38;5;241m.\u001b[39mpatch_message(msg)\n\u001b[0;32m--> 468\u001b[0m     \u001b[48;5;39merror_rewrite\u001b[49m\u001b[48;5;39m(\u001b[49m\u001b[48;5;39me\u001b[49m\u001b[48;5;39m,\u001b[49m\u001b[48;5;39m \u001b[49m\u001b[38;5;124;48;5;39m'\u001b[39;49m\u001b[38;5;124;48;5;39mtyping\u001b[39;49m\u001b[38;5;124;48;5;39m'\u001b[39;49m\u001b[48;5;39m)\u001b[49m\n\u001b[1;32m    469\u001b[0m \u001b[38;5;28;01mexcept\u001b[39;00m errors\u001b[38;5;241m.\u001b[39mUnsupportedError \u001b[38;5;28;01mas\u001b[39;00m e:\n\u001b[1;32m    470\u001b[0m     \u001b[38;5;66;03m# Something unsupported is present in the user code, add help info\u001b[39;00m\n\u001b[1;32m    471\u001b[0m     error_rewrite(e, \u001b[38;5;124m'\u001b[39m\u001b[38;5;124munsupported_error\u001b[39m\u001b[38;5;124m'\u001b[39m)\n",
      "File \u001b[0;32m~/miniforge3/envs/papyri/lib/python3.11/site-packages/numba/core/dispatcher.py:409\u001b[0m, in \u001b[0;36m_DispatcherBase._compile_for_args.<locals>.error_rewrite\u001b[0;34m(e, issue_type)\u001b[0m\n\u001b[1;32m    407\u001b[0m     \u001b[38;5;28;01mraise\u001b[39;00m e\n\u001b[1;32m    408\u001b[0m \u001b[38;5;28;01melse\u001b[39;00m:\n\u001b[0;32m--> 409\u001b[0m     \u001b[38;5;28;01mraise\u001b[39;00m e\u001b[38;5;241m.\u001b[39mwith_traceback(\u001b[38;5;28;01mNone\u001b[39;00m)\n",
      "\u001b[0;31mTypingError\u001b[0m: Failed in nopython mode pipeline (step: nopython frontend)\n\u001b[1m\u001b[1m\u001b[1m\u001b[1mFailed in nopython mode pipeline (step: nopython frontend)\n\u001b[1m\u001b[1m\u001b[1m\u001b[1mFailed in nopython mode pipeline (step: nopython frontend)\n\u001b[1mUntyped global name 'transpose':\u001b[0m \u001b[1m\u001b[1mCannot determine Numba type of <class 'function'>\u001b[0m\n\u001b[1m\nFile \"../../../../var/folders/7x/x6hsdv257b3_ml15w4czp2rc0000gn/T/ipykernel_58358/2676638936.py\", line 8:\u001b[0m\n\u001b[1m<source missing, REPL/exec in use?>\u001b[0m\n\u001b[0m\n\u001b[0m\u001b[1mDuring: resolving callee type: type(CPUDispatcher(<function roll_dir at 0x130468fe0>))\u001b[0m\n\u001b[0m\u001b[1mDuring: typing of call at /var/folders/7x/x6hsdv257b3_ml15w4czp2rc0000gn/T/ipykernel_58358/729761636.py (4)\n\u001b[0m\n\u001b[0m\u001b[1mDuring: resolving callee type: type(CPUDispatcher(<function roll_dir at 0x130468fe0>))\u001b[0m\n\u001b[0m\u001b[1mDuring: typing of call at /var/folders/7x/x6hsdv257b3_ml15w4czp2rc0000gn/T/ipykernel_58358/729761636.py (4)\n\u001b[0m\n\u001b[1m\nFile \"../../../../var/folders/7x/x6hsdv257b3_ml15w4czp2rc0000gn/T/ipykernel_58358/729761636.py\", line 4:\u001b[0m\n\u001b[1m<source missing, REPL/exec in use?>\u001b[0m\n\n\u001b[0m\u001b[1mDuring: resolving callee type: type(CPUDispatcher(<function cycle at 0x130936200>))\u001b[0m\n\u001b[0m\u001b[1mDuring: typing of call at /var/folders/7x/x6hsdv257b3_ml15w4czp2rc0000gn/T/ipykernel_58358/3257066243.py (5)\n\u001b[0m\n\u001b[0m\u001b[1mDuring: resolving callee type: type(CPUDispatcher(<function cycle at 0x130936200>))\u001b[0m\n\u001b[0m\u001b[1mDuring: typing of call at /var/folders/7x/x6hsdv257b3_ml15w4czp2rc0000gn/T/ipykernel_58358/3257066243.py (5)\n\u001b[0m\n\u001b[1m\nFile \"../../../../var/folders/7x/x6hsdv257b3_ml15w4czp2rc0000gn/T/ipykernel_58358/3257066243.py\", line 5:\u001b[0m\n\u001b[1m<source missing, REPL/exec in use?>\u001b[0m\n"
     ]
    }
   ],
   "source": [
    "f()"
   ]
  },
  {
   "cell_type": "code",
   "execution_count": null,
   "id": "a2ee659e-0193-41b8-807f-e85cff5692d9",
   "metadata": {},
   "outputs": [],
   "source": []
  }
 ],
 "metadata": {
  "kernelspec": {
   "display_name": "Python 3 (ipykernel)",
   "language": "python",
   "name": "python3"
  },
  "language_info": {
   "codemirror_mode": {
    "name": "ipython",
    "version": 3
   },
   "file_extension": ".py",
   "mimetype": "text/x-python",
   "name": "python",
   "nbconvert_exporter": "python",
   "pygments_lexer": "ipython3",
   "version": "3.11.0"
  }
 },
 "nbformat": 4,
 "nbformat_minor": 5
}
