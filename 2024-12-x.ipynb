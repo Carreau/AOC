{
 "cells": [
  {
   "cell_type": "code",
   "execution_count": 2,
   "id": "37b388f7-b33e-47d2-a3d9-d4d923292732",
   "metadata": {},
   "outputs": [],
   "source": [
    "data = \"\"\"RRRRIICCFF\n",
    "RRRRIICCCF\n",
    "VVRRRCCFFF\n",
    "VVRCCCJFFF\n",
    "VVVVCJJCFE\n",
    "VVIVCCJJEE\n",
    "VVIIICJJEE\n",
    "MIIIIIJJEE\n",
    "MIIISIJEEE\n",
    "MMMISSJEEE\"\"\"\n",
    "\n",
    "grid = {(y,x):s for y,line in enumerate(data.splitlines()) for x,s in enumerate(line)}"
   ]
  },
  {
   "cell_type": "code",
   "execution_count": 23,
   "id": "23a15b3f-9dbc-466f-8507-1bc06c467b00",
   "metadata": {},
   "outputs": [],
   "source": [
    "import numpy as np"
   ]
  },
  {
   "cell_type": "code",
   "execution_count": 27,
   "id": "4359fa29-b4a9-4c76-aa20-fb2c5031bf62",
   "metadata": {},
   "outputs": [
    {
     "data": {
      "text/plain": [
       "False"
      ]
     },
     "execution_count": 27,
     "metadata": {},
     "output_type": "execute_result"
    }
   ],
   "source": [
    "type(np.int64(1)) is int"
   ]
  },
  {
   "cell_type": "code",
   "execution_count": 22,
   "id": "511c80fe-f466-4ccc-be98-04d0e0184144",
   "metadata": {},
   "outputs": [
    {
     "data": {
      "text/plain": [
       "[{(2, 0),\n",
       "  (2, 1),\n",
       "  (3, 0),\n",
       "  (3, 1),\n",
       "  (4, 0),\n",
       "  (4, 1),\n",
       "  (4, 2),\n",
       "  (4, 3),\n",
       "  (5, 0),\n",
       "  (5, 1),\n",
       "  (5, 3),\n",
       "  (6, 0),\n",
       "  (6, 1)},\n",
       " {(4, 9),\n",
       "  (5, 8),\n",
       "  (5, 9),\n",
       "  (6, 8),\n",
       "  (6, 9),\n",
       "  (7, 8),\n",
       "  (7, 9),\n",
       "  (8, 7),\n",
       "  (8, 8),\n",
       "  (8, 9),\n",
       "  (9, 7),\n",
       "  (9, 8),\n",
       "  (9, 9)},\n",
       " {(0, 8),\n",
       "  (0, 9),\n",
       "  (1, 9),\n",
       "  (2, 7),\n",
       "  (2, 8),\n",
       "  (2, 9),\n",
       "  (3, 7),\n",
       "  (3, 8),\n",
       "  (3, 9),\n",
       "  (4, 8)},\n",
       " {(0, 6),\n",
       "  (0, 7),\n",
       "  (1, 6),\n",
       "  (1, 7),\n",
       "  (1, 8),\n",
       "  (2, 5),\n",
       "  (2, 6),\n",
       "  (3, 3),\n",
       "  (3, 4),\n",
       "  (3, 5),\n",
       "  (4, 4),\n",
       "  (5, 4),\n",
       "  (5, 5),\n",
       "  (6, 5)},\n",
       " {(3, 6),\n",
       "  (4, 5),\n",
       "  (4, 6),\n",
       "  (5, 6),\n",
       "  (5, 7),\n",
       "  (6, 6),\n",
       "  (6, 7),\n",
       "  (7, 6),\n",
       "  (7, 7),\n",
       "  (8, 6),\n",
       "  (9, 6)},\n",
       " {(7, 0), (8, 0), (9, 0), (9, 1), (9, 2)},\n",
       " {(8, 4), (9, 4), (9, 5)},\n",
       " {(0, 0),\n",
       "  (0, 1),\n",
       "  (0, 2),\n",
       "  (0, 3),\n",
       "  (1, 0),\n",
       "  (1, 1),\n",
       "  (1, 2),\n",
       "  (1, 3),\n",
       "  (2, 2),\n",
       "  (2, 3),\n",
       "  (2, 4),\n",
       "  (3, 2)},\n",
       " {(5, 2),\n",
       "  (6, 2),\n",
       "  (6, 3),\n",
       "  (6, 4),\n",
       "  (7, 1),\n",
       "  (7, 2),\n",
       "  (7, 3),\n",
       "  (7, 4),\n",
       "  (7, 5),\n",
       "  (8, 1),\n",
       "  (8, 2),\n",
       "  (8, 3),\n",
       "  (8, 5),\n",
       "  (9, 3)},\n",
       " {(0, 4), (0, 5), (1, 4), (1, 5)},\n",
       " {(4, 7)}]"
      ]
     },
     "execution_count": 22,
     "metadata": {},
     "output_type": "execute_result"
    }
   ],
   "source": [
    "def find_region(start, grid):\n",
    "    open = {start}\n",
    "    close  = set()\n",
    "    while open:\n",
    "        y,x = open.pop()\n",
    "        current = grid[(y,x)]\n",
    "        close.add((y,x))\n",
    "        neighs = [(y+dy,x+dx)  for dy,dx in ((-1,0),(1,0),(0,1),(0,-1)) if (n:=grid.get((y+dy,x+dx), None)) == current ]\n",
    "        open = open.union(set(neighs)) - close\n",
    "    return close\n",
    "\n",
    "regs = []\n",
    "search = set(grid.keys())\n",
    "while search:\n",
    "    start = search.pop()\n",
    "    reg = find_region(start, grid)\n",
    "    search = search - reg\n",
    "    regs.append(reg)\n",
    "regs"
   ]
  },
  {
   "cell_type": "code",
   "execution_count": null,
   "id": "6c8c5d39-7a0b-4a34-ae5a-e279caa869ae",
   "metadata": {},
   "outputs": [],
   "source": []
  }
 ],
 "metadata": {
  "kernelspec": {
   "display_name": "Python 3 (ipykernel)",
   "language": "python",
   "name": "python3"
  },
  "language_info": {
   "codemirror_mode": {
    "name": "ipython",
    "version": 3
   },
   "file_extension": ".py",
   "mimetype": "text/x-python",
   "name": "python",
   "nbconvert_exporter": "python",
   "pygments_lexer": "ipython3",
   "version": "3.13.0"
  }
 },
 "nbformat": 4,
 "nbformat_minor": 5
}
