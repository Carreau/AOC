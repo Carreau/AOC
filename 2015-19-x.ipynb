{
 "cells": [
  {
   "cell_type": "code",
   "execution_count": 1,
   "id": "5bd7829b-71bb-4c90-9b18-1072423e0f0b",
   "metadata": {},
   "outputs": [],
   "source": [
    "data = \"\"\"Al => ThF\n",
    "Al => ThRnFAr\n",
    "B => BCa\n",
    "B => TiB\n",
    "B => TiRnFAr\n",
    "Ca => CaCa\n",
    "Ca => PB\n",
    "Ca => PRnFAr\n",
    "Ca => SiRnFYFAr\n",
    "Ca => SiRnMgAr\n",
    "Ca => SiTh\n",
    "F => CaF\n",
    "F => PMg\n",
    "F => SiAl\n",
    "H => CRnAlAr\n",
    "H => CRnFYFYFAr\n",
    "H => CRnFYMgAr\n",
    "H => CRnMgYFAr\n",
    "H => HCa\n",
    "H => NRnFYFAr\n",
    "H => NRnMgAr\n",
    "H => NTh\n",
    "H => OB\n",
    "H => ORnFAr\n",
    "Mg => BF\n",
    "Mg => TiMg\n",
    "N => CRnFAr\n",
    "N => HSi\n",
    "O => CRnFYFAr\n",
    "O => CRnMgAr\n",
    "O => HP\n",
    "O => NRnFAr\n",
    "O => OTi\n",
    "P => CaP\n",
    "P => PTi\n",
    "P => SiRnFAr\n",
    "Si => CaSi\n",
    "Th => ThCa\n",
    "Ti => BP\n",
    "Ti => TiTi\n",
    "e => HF\n",
    "e => NAl\n",
    "e => OMg\n",
    "\n",
    "CRnCaSiRnBSiRnFArTiBPTiTiBFArPBCaSiThSiRnTiBPBPMgArCaSiRnTiMgArCaSiThCaSiRnFArRnSiRnFArTiTiBFArCaCaSiRnSiThCaCaSiRnMgArFYSiRnFYCaFArSiThCaSiThPBPTiMgArCaPRnSiAlArPBCaCaSiRnFYSiThCaRnFArArCaCaSiRnPBSiRnFArMgYCaCaCaCaSiThCaCaSiAlArCaCaSiRnPBSiAlArBCaCaCaCaSiThCaPBSiThPBPBCaSiRnFYFArSiThCaSiRnFArBCaCaSiRnFYFArSiThCaPBSiThCaSiRnPMgArRnFArPTiBCaPRnFArCaCaCaCaSiRnCaCaSiRnFYFArFArBCaSiThFArThSiThSiRnTiRnPMgArFArCaSiThCaPBCaSiRnBFArCaCaPRnCaCaPMgArSiRnFYFArCaSiThRnPBPMgAr\"\"\""
   ]
  },
  {
   "cell_type": "code",
   "execution_count": null,
   "id": "1a7f6fe4-4eb4-45d8-a420-ec4b9b64ac86",
   "metadata": {},
   "outputs": [],
   "source": [
    "import re\n",
    "split = lambda s:re.findall('[A-Z][a-z]?', s)\n",
    "lines = data.splitlines()\n",
    "*_reac, _, mol = lines\n",
    "\n",
    "forward = dict()\n",
    "backward = dict()\n",
    "\n",
    "for l in _reac:\n",
    "    r, comp = l.split(' => ')\n",
    "    forward.setdefault(r, []).append(split(comp))\n",
    "    backward[comp] = r\n",
    "forward,backward\n"
   ]
  },
  {
   "cell_type": "code",
   "execution_count": 61,
   "id": "aa5b3a67-f4d4-43e5-b709-3f2b074bfccf",
   "metadata": {},
   "outputs": [],
   "source": [
    "def settify(f):\n",
    "    def _inner(*args, **kwargs):\n",
    "        return set(f(*args, **kwargs))\n",
    "    return _inner\n",
    "\n",
    "@settify\n",
    "def iter_all(molecule):\n",
    "    molecule = list(molecule)\n",
    "    for i in range(len(molecule)):\n",
    "        if molecule[i] in forward:\n",
    "            for rep in forward[molecule[i]]:\n",
    "                assert isinstance(rep, list)\n",
    "                yield tuple(molecule[:i]+rep+molecule[i+1:])"
   ]
  },
  {
   "cell_type": "markdown",
   "id": "679574ac-addc-41fe-a1cf-380ea08a52ac",
   "metadata": {},
   "source": [
    "If one of these is in a molecule, then this section is terminal\n"
   ]
  },
  {
   "cell_type": "code",
   "execution_count": 176,
   "id": "2281cdb6-fbf2-46d1-82c8-c37abbb2e51f",
   "metadata": {},
   "outputs": [
    {
     "data": {
      "text/plain": [
       "{'Ar', 'C', 'Rn', 'Y'}"
      ]
     },
     "execution_count": 176,
     "metadata": {},
     "output_type": "execute_result"
    }
   ],
   "source": [
    "terminal = {atom for k in backward.keys() for atom in split(k)} - set(backward.values())\n",
    "terminal"
   ]
  },
  {
   "cell_type": "code",
   "execution_count": 180,
   "id": "7b113e5c-6f96-4254-84ad-3744a1b20981",
   "metadata": {},
   "outputs": [
    {
     "data": {
      "text/plain": [
       "[['C', 'Rn', 'Ar'],\n",
       " ['C', 'Rn', 'Ar'],\n",
       " ['C', 'Rn', 'Ar'],\n",
       " ['C', 'Rn', 'Y', 'Ar'],\n",
       " ['C', 'Rn', 'Y', 'Ar'],\n",
       " ['C', 'Rn', 'Y', 'Ar'],\n",
       " ['C', 'Rn', 'Y', 'Y', 'Ar'],\n",
       " ['Rn', 'Ar'],\n",
       " ['Rn', 'Ar'],\n",
       " ['Rn', 'Ar'],\n",
       " ['Rn', 'Ar'],\n",
       " ['Rn', 'Ar'],\n",
       " ['Rn', 'Ar'],\n",
       " ['Rn', 'Ar'],\n",
       " ['Rn', 'Ar'],\n",
       " ['Rn', 'Y', 'Ar'],\n",
       " ['Rn', 'Y', 'Ar']]"
      ]
     },
     "execution_count": 180,
     "metadata": {},
     "output_type": "execute_result"
    }
   ],
   "source": [
    "list(sorted([[t for t in split(k) if t in terminal] for k in backward.keys() if set(split(k)).intersection(terminal)]))"
   ]
  },
  {
   "cell_type": "code",
   "execution_count": 182,
   "id": "1f913e19-f9a4-482d-b9fe-7dd8bfb193c4",
   "metadata": {},
   "outputs": [
    {
     "data": {
      "text/plain": [
       "['C',\n",
       " 'Rn',\n",
       " 'Rn',\n",
       " 'Rn',\n",
       " 'Ar',\n",
       " 'Ar',\n",
       " 'Rn',\n",
       " 'Ar',\n",
       " 'Rn',\n",
       " 'Ar',\n",
       " 'Rn',\n",
       " 'Ar',\n",
       " 'Rn',\n",
       " 'Rn',\n",
       " 'Ar',\n",
       " 'Ar',\n",
       " 'Rn',\n",
       " 'Rn',\n",
       " 'Ar',\n",
       " 'Y',\n",
       " 'Rn',\n",
       " 'Y',\n",
       " 'Ar',\n",
       " 'Ar',\n",
       " 'Rn',\n",
       " 'Ar',\n",
       " 'Rn',\n",
       " 'Y',\n",
       " 'Rn',\n",
       " 'Ar',\n",
       " 'Ar',\n",
       " 'Rn',\n",
       " 'Rn',\n",
       " 'Ar',\n",
       " 'Y',\n",
       " 'Ar',\n",
       " 'Rn',\n",
       " 'Ar',\n",
       " 'Rn',\n",
       " 'Y',\n",
       " 'Ar',\n",
       " 'Rn',\n",
       " 'Ar',\n",
       " 'Rn',\n",
       " 'Y',\n",
       " 'Ar',\n",
       " 'Rn',\n",
       " 'Ar',\n",
       " 'Rn',\n",
       " 'Ar',\n",
       " 'Rn',\n",
       " 'Ar',\n",
       " 'Rn',\n",
       " 'Rn',\n",
       " 'Y',\n",
       " 'Ar',\n",
       " 'Ar',\n",
       " 'Ar',\n",
       " 'Rn',\n",
       " 'Rn',\n",
       " 'Ar',\n",
       " 'Ar',\n",
       " 'Rn',\n",
       " 'Ar',\n",
       " 'Rn',\n",
       " 'Ar',\n",
       " 'Rn',\n",
       " 'Y',\n",
       " 'Ar',\n",
       " 'Rn',\n",
       " 'Ar']"
      ]
     },
     "execution_count": 182,
     "metadata": {},
     "output_type": "execute_result"
    }
   ],
   "source": [
    "[atom for atom in split(mol) if atom in terminal]"
   ]
  },
  {
   "cell_type": "code",
   "execution_count": 62,
   "id": "dd623c9e-0a3b-4487-934d-dcdad1854be3",
   "metadata": {},
   "outputs": [
    {
     "data": {
      "text/plain": [
       "509"
      ]
     },
     "execution_count": 62,
     "metadata": {},
     "output_type": "execute_result"
    }
   ],
   "source": [
    "len(iter_all(split(mol)))"
   ]
  },
  {
   "cell_type": "code",
   "execution_count": 284,
   "id": "94c4ca12-9460-46c3-b1eb-955e20dfd735",
   "metadata": {},
   "outputs": [],
   "source": [
    "start = ['e']\n",
    "seen = set(start)\n",
    "for i in range(2):\n",
    "    s2 = set()\n",
    "    for s in start:\n",
    "        s2 = s2.union(iter_all(s))\n",
    "    seen.update(s2)\n",
    "    start = s2\n"
   ]
  },
  {
   "cell_type": "code",
   "execution_count": 285,
   "id": "2d5338bd-6a4b-4f10-bd2b-c009ba99a957",
   "metadata": {},
   "outputs": [
    {
     "name": "stdout",
     "output_type": "stream",
     "text": [
      "CRnAlArF\n",
      "CRnFArAl\n",
      "CRnFYFArMg\n",
      "CRnFYFYFArF\n",
      "CRnFYMgArF\n",
      "CRnMgArMg\n",
      "CRnMgYFArF\n",
      "HCaF\n",
      "HPMg\n",
      "HSiAl\n",
      "NRnFArMg\n",
      "NRnFYFArF\n",
      "NRnMgArF\n",
      "NThF\n",
      "NThRnFAr\n",
      "OBF\n",
      "ORnFArF\n",
      "OTiMg\n"
     ]
    }
   ],
   "source": [
    "for s in sorted(start):\n",
    "    print(''.join(s))"
   ]
  },
  {
   "cell_type": "code",
   "execution_count": 40,
   "id": "a0d4ab05-a4c3-43c9-bf97-9c9b8698ca1f",
   "metadata": {},
   "outputs": [
    {
     "data": {
      "text/plain": [
       "({'B', 'C', 'Ca', 'H', 'N', 'O', 'P', 'Si', 'Th', 'Ti'},\n",
       " {'Al', 'Ar', 'B', 'Ca', 'F', 'Mg', 'P', 'Si', 'Th', 'Ti'})"
      ]
     },
     "execution_count": 40,
     "metadata": {},
     "output_type": "execute_result"
    }
   ],
   "source": [
    "allk = [split(k) for k in backward.keys()]\n",
    "\n",
    "allstart = {k[0] for k in allk}\n",
    "allend = {k[-1] for k in allk}\n",
    "allstart, allend\n"
   ]
  },
  {
   "cell_type": "code",
   "execution_count": null,
   "id": "ce283963-0de5-47b6-a479-f16361185cfe",
   "metadata": {},
   "outputs": [],
   "source": []
  },
  {
   "cell_type": "code",
   "execution_count": 88,
   "id": "6a6285f3-63a6-4bd6-87a1-a63de9b9cdd6",
   "metadata": {},
   "outputs": [
    {
     "data": {
      "text/plain": [
       "{'ThRnFAr': 'Al',\n",
       " 'TiRnFAr': 'B',\n",
       " 'PRnFAr': 'Ca',\n",
       " 'SiRnFYFAr': 'Ca',\n",
       " 'SiRnMgAr': 'Ca',\n",
       " 'CRnAlAr': 'H',\n",
       " 'CRnFYFYFAr': 'H',\n",
       " 'CRnFYMgAr': 'H',\n",
       " 'CRnMgYFAr': 'H',\n",
       " 'NRnFYFAr': 'H',\n",
       " 'NRnMgAr': 'H',\n",
       " 'ORnFAr': 'H',\n",
       " 'CRnFAr': 'N',\n",
       " 'CRnFYFAr': 'O',\n",
       " 'CRnMgAr': 'O',\n",
       " 'NRnFAr': 'O',\n",
       " 'SiRnFAr': 'P'}"
      ]
     },
     "execution_count": 88,
     "metadata": {},
     "output_type": "execute_result"
    }
   ],
   "source": [
    "short_keys = [k for k in allk if len(k) == 2]\n",
    "long_keys = [k for k in allk if len(k) > 2]\n",
    "long_keys_2 = [k for k in long_keys if k[1:-1] not in allk]\n",
    "must_reduce = {k:v for k,v in backward.items() if split(k) in long_keys_2}\n",
    "must_reduce"
   ]
  },
  {
   "cell_type": "code",
   "execution_count": 90,
   "id": "14e2c049-2a37-463e-9eb3-fe8d4bc63cf2",
   "metadata": {},
   "outputs": [
    {
     "data": {
      "text/plain": [
       "'abxxxxx'"
      ]
     },
     "execution_count": 90,
     "metadata": {},
     "output_type": "execute_result"
    }
   ],
   "source": [
    "'abcxccc'.replace('c', 'x')"
   ]
  },
  {
   "cell_type": "code",
   "execution_count": 86,
   "id": "2f8a331c-fa49-4626-8b1a-b83d0eb4e9d0",
   "metadata": {},
   "outputs": [
    {
     "data": {
      "text/plain": [
       "[['Rn', 'F'],\n",
       " ['Rn', 'F'],\n",
       " ['Rn', 'F'],\n",
       " ['Rn', 'F', 'Y', 'F'],\n",
       " ['Rn', 'Mg'],\n",
       " ['Rn', 'Al'],\n",
       " ['Rn', 'F', 'Y', 'F', 'Y', 'F'],\n",
       " ['Rn', 'F', 'Y', 'Mg'],\n",
       " ['Rn', 'Mg', 'Y', 'F'],\n",
       " ['Rn', 'F', 'Y', 'F'],\n",
       " ['Rn', 'Mg'],\n",
       " ['Rn', 'F'],\n",
       " ['Rn', 'F'],\n",
       " ['Rn', 'F', 'Y', 'F'],\n",
       " ['Rn', 'Mg'],\n",
       " ['Rn', 'F'],\n",
       " ['Rn', 'F']]"
      ]
     },
     "execution_count": 86,
     "metadata": {},
     "output_type": "execute_result"
    }
   ],
   "source": [
    "long_keys_2"
   ]
  },
  {
   "cell_type": "code",
   "execution_count": 42,
   "id": "9d67d91d-1ac3-40a7-bda0-2e5c4295be4a",
   "metadata": {},
   "outputs": [
    {
     "data": {
      "text/plain": [
       "{'Al', 'Ar', 'F', 'Mg'}"
      ]
     },
     "execution_count": 42,
     "metadata": {},
     "output_type": "execute_result"
    }
   ],
   "source": [
    "allend - allstart"
   ]
  },
  {
   "cell_type": "code",
   "execution_count": 110,
   "id": "a3b9d616-e49f-4719-b9bb-9a53e182e8c1",
   "metadata": {},
   "outputs": [],
   "source": [
    "def force_reduce(mol):\n",
    "    for mr,mv in must_reduce.items():\n",
    "        mol = mol.replace(mr,mv)\n",
    "    return mol"
   ]
  },
  {
   "cell_type": "code",
   "execution_count": null,
   "id": "be79998b-51e9-4af2-b4f5-d28b61ab2c5b",
   "metadata": {},
   "outputs": [],
   "source": [
    "'abcdef'[::-1]."
   ]
  },
  {
   "cell_type": "code",
   "execution_count": 309,
   "id": "779ba459-d30b-42a9-ba60-a8bac333d5fe",
   "metadata": {},
   "outputs": [
    {
     "data": {
      "text/plain": [
       "['SiRn',\n",
       " 'SiRn',\n",
       " 'SiRn',\n",
       " 'SiRn',\n",
       " 'SiRn',\n",
       " 'ArRn',\n",
       " 'SiRn',\n",
       " 'SiRn',\n",
       " 'SiRn',\n",
       " 'SiRn',\n",
       " 'aPRn',\n",
       " 'SiRn',\n",
       " 'CaRn',\n",
       " 'SiRn',\n",
       " 'SiRn',\n",
       " 'SiRn',\n",
       " 'SiRn',\n",
       " 'SiRn',\n",
       " 'SiRn',\n",
       " 'SiRn',\n",
       " 'ArRn',\n",
       " 'aPRn',\n",
       " 'SiRn',\n",
       " 'SiRn',\n",
       " 'SiRn',\n",
       " 'TiRn',\n",
       " 'SiRn',\n",
       " 'aPRn',\n",
       " 'SiRn',\n",
       " 'ThRn']"
      ]
     },
     "execution_count": 309,
     "metadata": {},
     "output_type": "execute_result"
    }
   ],
   "source": [
    "re.findall('..Rn', mol)"
   ]
  },
  {
   "cell_type": "code",
   "execution_count": 339,
   "id": "874fdd1e-e903-43a2-9eca-0383789f5839",
   "metadata": {},
   "outputs": [
    {
     "data": {
      "text/plain": [
       "['CaSiRnBSiRnFArTiBPTiTiBFArPBCaSiThSiRnTiBPBPMgArCaSiRnTiMgArCaSiThCaSiRnFArRnSiRnFArTiTiBFArCaCaSiRnSiThCaCaSiRnMgArFYSiRnFYCaFArSiThCaSiThPBPTiMgArCaPRnSiAlArPBCaCaSiRnFYSiThCaRnFArArCaCaSiRnPBSiRnFArMgYCaCaCaCaSiThCaCaSiAlArCaCaSiRnPBSiAlArBCaCaCaCaSiThCaPBSiThPBPBCaSiRnFYFArSiThCaSiRnFArBCaCaSiRnFYFArSiThCaPBSiThCaSiRnPMgArRnFArPTiBCaPRnFArCaCaCaCaSiRnCaCaSiRnFYFArFArBCaSiThFArThSiThSiRnTiRnPMgArFArCaSiThCaPBCaSiRnBFArCaCaPRnCaCaPMgArSiRnFYFArCaSiThRnPBPMgAr',\n",
       " 'SiRnBSiRnFArTiBPTiTiBFArPBCaSiThSiRnTiBPBPMgArCaSiRnTiMgArCaSiThCaSiRnFArRnSiRnFArTiTiBFArCaCaSiRnSiThCaCaSiRnMgArFYSiRnFYCaFArSiThCaSiThPBPTiMgArCaPRnSiAlArPBCaCaSiRnFYSiThCaRnFArArCaCaSiRnPBSiRnFArMgYCaCaCaCaSiThCaCaSiAlArCaCaSiRnPBSiAlArBCaCaCaCaSiThCaPBSiThPBPBCaSiRnFYFArSiThCaSiRnFArBCaCaSiRnFYFArSiThCaPBSiThCaSiRnPMgArRnFArPTiBCaPRnFArCaCaCaCaSiRnCaCaSiRnFYFArFArBCaSiThFArThSiThSiRnTiRnPMgArFArCaSiThCaPBCaSiRnBFArCaCaPRnCaCaPMgArSiRnFYFArCaSiThRnPBPMgAr']"
      ]
     },
     "execution_count": 339,
     "metadata": {},
     "output_type": "execute_result"
    }
   ],
   "source": [
    "@settify\n",
    "def reduce_ar_molecule(mol:str):\n",
    "    \"\"\"\n",
    "    All Ar reduction are with Ar at the end of the reduction; so we _know_, that no reaction after an Ar must be independant, \n",
    "    at least until the reduction does not return a submolecule that does not finish in Ar.\n",
    "    \"\"\"\n",
    "    \n",
    "    ar_cut = mol.index('Ar')+2\n",
    "    \n",
    "        \n",
    "    \n",
    "    \n",
    "    for i in range(ar_cut):\n",
    "        start, end = mol[:i],mol[i:]\n",
    "        for k,v in backward.items():\n",
    "                if end.startswith(k):\n",
    "                    newm = start + v+ end[len(k):]\n",
    "                    yield newm\n",
    "\n",
    "\n",
    "@settify\n",
    "def _iter_reduce(sub):\n",
    "    yield sub\n",
    "    for i in range(len(sub)):\n",
    "        start, end = sub[:i],sub[i:]\n",
    "        for k,v in backward.items():\n",
    "            if end.startswith(k):\n",
    "                newm = start + v+ end[len(k):]\n",
    "                yield newm\n",
    "    \n",
    "\n",
    "\n",
    "\n",
    "\n",
    "def reduce_next_rn(mol:str):\n",
    "\n",
    "    prev, rest = mol.split('Rn', maxsplit=1)\n",
    "    return list(x+'Rn'+rest for x in _iter_reduce(prev))\n",
    "\n",
    "reduce_next_rn(mol[3:])\n",
    "\n",
    "\n",
    "\n"
   ]
  },
  {
   "cell_type": "code",
   "execution_count": 434,
   "id": "cfa45f21-200d-42c0-967c-98384ad25980",
   "metadata": {},
   "outputs": [],
   "source": [
    "lmol = split(mol)"
   ]
  },
  {
   "cell_type": "code",
   "execution_count": 450,
   "id": "a0aaadc8-290e-468c-935c-d4eebef358f5",
   "metadata": {},
   "outputs": [
    {
     "data": {
      "text/plain": [
       "['Rn', 'Ca', 'Si', 'Rn']"
      ]
     },
     "execution_count": 450,
     "metadata": {},
     "output_type": "execute_result"
    }
   ],
   "source": [
    "lmol[1:5]"
   ]
  },
  {
   "cell_type": "code",
   "execution_count": 452,
   "id": "67d42036-ca6c-471a-a1b2-9f5eac89f018",
   "metadata": {},
   "outputs": [
    {
     "name": "stdout",
     "output_type": "stream",
     "text": [
      "4 7 9 ['Rn', 'B', 'Si', 'Rn', 'F', 'Ar']\n",
      "46 48 50 ['Rn', 'Si', 'Rn', 'F', 'Ar']\n",
      "59 65 67 ['Rn', 'Si', 'Th', 'Ca', 'Ca', 'Si', 'Rn', 'Mg', 'Ar']\n",
      "99 105 107 ['Rn', 'F', 'Y', 'Si', 'Th', 'Ca', 'Rn', 'F', 'Ar']\n",
      "112 116 118 ['Rn', 'P', 'B', 'Si', 'Rn', 'F', 'Ar']\n",
      "209 213 217 ['Rn', 'Ca', 'Ca', 'Si', 'Rn', 'F', 'Y', 'F', 'Ar']\n",
      "230 232 235 ['Rn', 'Ti', 'Rn', 'P', 'Mg', 'Ar']\n"
     ]
    }
   ],
   "source": [
    "ll = list([(i,l)  for (i,l) in enumerate(lmol) if l in ['Ar','Rn']])\n",
    "for (ia,a),(ib,b),(ic,c) in zip(ll[:-2], ll[1:-1],ll[2:]):\n",
    "    if (a,b,c) == ('Rn','Rn', 'Ar'):\n",
    "        print(ia,ib,ic, lmol[ia:ic+1])\n"
   ]
  },
  {
   "cell_type": "code",
   "execution_count": 432,
   "id": "11432902-8e73-4d02-aab9-8f0c137069fc",
   "metadata": {},
   "outputs": [
    {
     "data": {
      "text/plain": [
       "['Rn',\n",
       " {'CaSi', 'Si'},\n",
       " 'Rn',\n",
       " {'BSi'},\n",
       " 'Rn',\n",
       " {'F'},\n",
       " 'Ar',\n",
       " 'TiBPTiTiBF',\n",
       " 'Ar',\n",
       " 'Rn',\n",
       " {'BCaF',\n",
       "  'BCaPMg',\n",
       "  'BF',\n",
       "  'BPBF',\n",
       "  'BPBPMg',\n",
       "  'BPMg',\n",
       "  'BPTiMg',\n",
       "  'Mg',\n",
       "  'TiBCaF',\n",
       "  'TiBCaPMg',\n",
       "  'TiBF',\n",
       "  'TiBPBF',\n",
       "  'TiBPBPMg',\n",
       "  'TiBPMg',\n",
       "  'TiBPTiMg',\n",
       "  'TiMg',\n",
       "  'TiTiBF',\n",
       "  'TiTiBPMg',\n",
       "  'TiTiMg',\n",
       "  'TiTiTiMg'},\n",
       " 'Ar',\n",
       " 'Rn',\n",
       " {'Mg', 'TiMg'},\n",
       " 'Ar',\n",
       " 'Rn',\n",
       " {'F'},\n",
       " 'Ar',\n",
       " 'Rn',\n",
       " {'Si'},\n",
       " 'Rn',\n",
       " {'F'},\n",
       " 'Ar',\n",
       " 'TiTiBF',\n",
       " 'Ar',\n",
       " 'Rn',\n",
       " {'CaCaCaSi', 'CaCaSi', 'CaSi', 'Si', 'SiThCaCaSi', 'SiThCaSi', 'SiThSi'},\n",
       " 'Rn',\n",
       " {'Mg'},\n",
       " 'Ar',\n",
       " 'Rn',\n",
       " {'FYCaF', 'FYF'},\n",
       " 'Ar',\n",
       " 'SiThCaSiThPBPTiMg',\n",
       " 'Ar',\n",
       " 'Rn',\n",
       " {'F', 'SiAl'},\n",
       " 'Ar',\n",
       " 'Rn',\n",
       " {'FYCa', 'FYCaCa', 'FYSiTh', 'FYSiThCa'},\n",
       " 'Rn',\n",
       " {'F'},\n",
       " 'Ar',\n",
       " 'Ar',\n",
       " 'Rn',\n",
       " {'CaSi', 'PBSi', 'Si'},\n",
       " 'Rn',\n",
       " {'F'},\n",
       " 'Ar',\n",
       " 'MgYCaCaCaCaSiThCaCaSiAl',\n",
       " 'Ar',\n",
       " 'Rn',\n",
       " {'CaF', 'CaSiAl', 'F', 'PBF', 'PBSiAl', 'PMg', 'SiAl'},\n",
       " 'Ar',\n",
       " 'Rn',\n",
       " {'FYF'},\n",
       " 'Ar',\n",
       " 'Rn',\n",
       " {'F'},\n",
       " 'Ar',\n",
       " 'Rn',\n",
       " {'FYF'},\n",
       " 'Ar',\n",
       " 'Rn',\n",
       " {'F', 'PMg'},\n",
       " 'Ar',\n",
       " 'Rn',\n",
       " {'F'},\n",
       " 'Ar',\n",
       " 'Rn',\n",
       " {'F'},\n",
       " 'Ar',\n",
       " 'Rn',\n",
       " {'CaCaSi', 'CaSi', 'Si'},\n",
       " 'Rn',\n",
       " {'FYF'},\n",
       " 'Ar',\n",
       " 'F',\n",
       " 'Ar',\n",
       " 'BCaSiThF',\n",
       " 'Ar',\n",
       " 'Rn',\n",
       " {'Ti'},\n",
       " 'Rn',\n",
       " {'F', 'PMg'},\n",
       " 'Ar',\n",
       " 'F',\n",
       " 'Ar',\n",
       " 'Rn',\n",
       " {'BF', 'Mg'},\n",
       " 'Ar',\n",
       " 'Rn',\n",
       " {'CaCaF', 'CaCaPMg', 'CaF', 'CaPMg', 'F', 'PMg'},\n",
       " 'Ar',\n",
       " 'Rn',\n",
       " {'FYF'},\n",
       " 'Ar',\n",
       " 'Rn',\n",
       " {'CaF', 'CaPMg', 'F', 'PBF', 'PBPMg', 'PMg', 'PTiMg'},\n",
       " <re.Match object; span=(466, 468), match='Ar'>]"
      ]
     },
     "execution_count": 432,
     "metadata": {},
     "output_type": "execute_result"
    }
   ],
   "source": [
    "rnar = list(re.finditer('Rn|Ar', mol))\n",
    "\n",
    "\n",
    "def _iter_reduce_to_one(sub):\n",
    "    yield sub\n",
    "    for i in range(len(sub)):\n",
    "        start, end = sub[:i],sub[i:]\n",
    "        for k,v in backward.items():\n",
    "            if end.startswith(k):\n",
    "                newm = start + v+ end[len(k):]\n",
    "                yield from _iter_reduce_to_one(newm)\n",
    "\n",
    "seq = []\n",
    "for a,b in zip(rnar[:-1], rnar[1:]):\n",
    "    seq.append(a.group())\n",
    "    \n",
    "    if a.group() == b.group() == 'Rn':\n",
    "        span = mol[a.span()[1]:b.span()[0]]\n",
    "        \n",
    "        seq.append(set(_iter_reduce_to_one(span)))\n",
    "    if a.group() == 'Rn' and b.group() == 'Ar':\n",
    "        span = mol[a.span()[1]:b.span()[0]]\n",
    "        #print('Rn|'+ span+'Ar')\n",
    "        seq.append((set(_iter_reduce_to_one(span))))\n",
    "    if a.group() == 'Ar' and b.group() == 'Ar':\n",
    "        span = mol[a.span()[1]:b.span()[0]]\n",
    "        if span:\n",
    "            seq.append(span)\n",
    "\n",
    "seq.append(b)\n",
    "seq\n",
    "\n",
    "\n",
    "\n",
    "for i in range(len(seq)-4):\n",
    "    a,b,c,d = seq[i],seq[i+1], seq[i+2], seq[i+3]\n",
    "    #if b == 'Rn' and d == 'Ar' and (a != 'Ar') and len(c) == 1:\n",
    "    #print(a,b,c,d)\n",
    "seq    "
   ]
  },
  {
   "cell_type": "code",
   "execution_count": 351,
   "id": "13f45672-40d3-4d05-98dc-b084a094dbe4",
   "metadata": {},
   "outputs": [
    {
     "name": "stdout",
     "output_type": "stream",
     "text": [
      " --    1:  2 molecules (462, 466) , Min Ar at 15  int:0--\n",
      " --    2:  6 molecules (460, 462) , Min Ar at 21  int:0--\n",
      " --    3: 16 molecules (458, 462) , Min Ar at 19  int:0--\n",
      " --    4: 25 molecules (456, 462) , Min Ar at 17  int:0--\n",
      " --    5: 26 molecules (454, 460) , Min Ar at 15  int:0--\n",
      " --    6: 20 molecules (454, 458) , Min Ar at 15  int:0--\n",
      " --    7: 12 molecules (452, 456) , Min Ar at 13  int:0--\n",
      " --    8:  6 molecules (452, 454) , Min Ar at 13  int:0--\n",
      " --    9:  3 molecules (450, 452) , Min Ar at 11  int:0--\n",
      " --   10:  2 molecules (446, 450) , Min Ar at 11  int:0--\n",
      " --   11:  9 molecules (444, 446) , Min Ar at 27  int:0--\n",
      " --   12: 33 molecules (442, 446) , Min Ar at 25  int:0--\n",
      " --   13: 68 molecules (440, 446) , Min Ar at 23  int:0--\n",
      " --   14: 94 molecules (438, 444) , Min Ar at 21  int:0--\n",
      " --   15: 98 molecules (436, 442) , Min Ar at 19  int:0--\n",
      " --   16: 85 molecules (434, 440) , Min Ar at 17  int:0--\n",
      " --   17: 67 molecules (432, 438) , Min Ar at 15  int:0--\n",
      " --   18: 54 molecules (426, 436) , Min Ar at 15  int:0--\n",
      " --   19: 51 molecules (420, 434) , Min Ar at 13  int:0--\n",
      " --   20: 59 molecules (414, 432) , Min Ar at 13  int:0--\n",
      " --   21: 83 molecules (412, 430) , Min Ar at 11  int:0--\n",
      " --   22: 123 molecules (410, 428) , Min Ar at 11  int:0--\n",
      " --   23: 179 molecules (408, 422) , Min Ar at 15  int:0--\n",
      " --   24: 246 molecules (406, 420) , Min Ar at 13  int:0--\n",
      " --   25: 307 molecules (404, 418) , Min Ar at 13  int:0--\n",
      " --   26: 351 molecules (398, 416) , Min Ar at 11  int:0--\n",
      " --   27: 387 molecules (396, 410) , Min Ar at 18  int:0--\n",
      " --   28: 449 molecules (389, 408) , Min Ar at 16  int:0--\n",
      " --   29: 584 molecules (387, 406) , Min Ar at 14  int:0--\n",
      " --   30: 884 molecules (385, 404) , Min Ar at 12  int:0--\n",
      " --   31: 1593 molecules (383, 402) , Min Ar at 12  int:0--\n",
      " --   32: 3237 molecules (381, 400) , Min Ar at 10  int:0--\n",
      " --   33: 6616 molecules (379, 394) , Min Ar at 13  int:0--\n",
      " --   34: 12619 molecules (377, 390) , Min Ar at 13  int:0--\n",
      " --   35: 21872 molecules (375, 388) , Min Ar at 13  int:0--\n"
     ]
    }
   ],
   "source": [
    "    \n",
    "\n",
    "@settify\n",
    "def reduce_molecule_set(mols):\n",
    "    for m in mols:\n",
    "        if split(m[:10])[1] in 'Rn':\n",
    "            yield from reduce_ar_molecule(m)\n",
    "        else:\n",
    "            yield from m[:3]+reduce_next_rn(m)\n",
    "mset = {mol}\n",
    "seen = set()\n",
    "for it in range(35):\n",
    "    mset = reduce_molecule_set(mset)\n",
    "    intersect = seen.intersection(mset)\n",
    "    sarl = [m.index('Ar')+2 for m in mset]\n",
    "    seen.update(mset)\n",
    "    print(f\" -- {it+1: 4}:{len(mset): 3} molecules {min(len(x) for x in mset), max(len(x) for x in mset)} , Min Ar at {min(sarl)}  int:{len(intersect)}--\")"
   ]
  },
  {
   "cell_type": "code",
   "execution_count": 381,
   "id": "46b96177-26c4-46c2-abb4-c7ea35c54492",
   "metadata": {},
   "outputs": [],
   "source": [
    "# for m in sorted(mset):\n",
    "#    ar_cut = m.index('Ar')+2\n",
    "   \n",
    "#    print(m[:ar_cut])"
   ]
  },
  {
   "cell_type": "code",
   "execution_count": 382,
   "id": "637b439c-07b0-4637-910d-8793b82c3559",
   "metadata": {},
   "outputs": [
    {
     "data": {
      "text/plain": [
       "{'Th': set(),\n",
       " 'F': set(),\n",
       " 'Rn': set(),\n",
       " 'Ar': set(),\n",
       " 'B': set(),\n",
       " 'Ca': set(),\n",
       " 'Ti': set(),\n",
       " 'P': set(),\n",
       " 'Si': set(),\n",
       " 'Y': set(),\n",
       " 'Mg': set(),\n",
       " 'Al': set(),\n",
       " 'C': set(),\n",
       " 'H': set(),\n",
       " 'N': set(),\n",
       " 'O': set()}"
      ]
     },
     "execution_count": 382,
     "metadata": {},
     "output_type": "execute_result"
    }
   ],
   "source": [
    "atom_index  = {atom:set() for k in backward.keys() for atom in split(k)}\n",
    "atom_index"
   ]
  },
  {
   "cell_type": "code",
   "execution_count": 383,
   "id": "422d0534-4d66-484f-81b0-ee6562613e82",
   "metadata": {},
   "outputs": [
    {
     "data": {
      "text/plain": [
       "{'Th': {0, 1},\n",
       " 'F': {1, 2, 4},\n",
       " 'Rn': {1},\n",
       " 'Ar': {3, 5, 7},\n",
       " 'B': {0, 1},\n",
       " 'Ca': {0, 1},\n",
       " 'Ti': {0, 1},\n",
       " 'P': {0, 1},\n",
       " 'Si': {0, 1},\n",
       " 'Y': {3},\n",
       " 'Mg': {1, 2, 4},\n",
       " 'Al': {1, 2},\n",
       " 'C': {0},\n",
       " 'H': {0},\n",
       " 'N': {0},\n",
       " 'O': {0}}"
      ]
     },
     "execution_count": 383,
     "metadata": {},
     "output_type": "execute_result"
    }
   ],
   "source": [
    "for k in backward.keys():\n",
    "    key = split(k)\n",
    "    for at in key:\n",
    "        atom_index[at].add(key.index(at))\n",
    "atom_index"
   ]
  },
  {
   "cell_type": "code",
   "execution_count": 408,
   "id": "1c1c77e4-155b-41d9-908a-5a9a2744099b",
   "metadata": {},
   "outputs": [
    {
     "name": "stdout",
     "output_type": "stream",
     "text": [
      "ThRnFAr   ,      Al\n",
      "TiRnFAr   ,       B\n",
      "PRnFAr    ,      Ca\n",
      "SiRnFYFAr ,      Ca\n",
      "SiRnMgAr  ,      Ca\n",
      "CRnAlAr   ,       H\n",
      "CRnFYFYFAr,       H\n",
      "CRnFYMgAr ,       H\n",
      "CRnMgYFAr ,       H\n",
      "NRnFYFAr  ,       H\n",
      "NRnMgAr   ,       H\n",
      "ORnFAr    ,       H\n",
      "CRnFAr    ,       N\n",
      "CRnFYFAr  ,       O\n",
      "CRnMgAr   ,       O\n",
      "NRnFAr    ,       O\n",
      "SiRnFAr   ,       P\n"
     ]
    }
   ],
   "source": [
    "for k,v in backward.items():\n",
    "    if \"Rn\" not in k:\n",
    "        continue\n",
    "    print(f\"{k:<10}, {v:>7}\")"
   ]
  },
  {
   "cell_type": "code",
   "execution_count": 384,
   "id": "42fb9159-8d52-4824-ae41-40d74f24304a",
   "metadata": {},
   "outputs": [
    {
     "name": "stdout",
     "output_type": "stream",
     "text": [
      "ThF       ,      Al\n",
      "ThRnFAr   ,      Al\n",
      "BCa       ,       B\n",
      "TiB       ,       B\n",
      "TiRnFAr   ,       B\n",
      "CaCa      ,      Ca\n",
      "PB        ,      Ca\n",
      "PRnFAr    ,      Ca\n",
      "SiRnFYFAr ,      Ca\n",
      "SiRnMgAr  ,      Ca\n",
      "SiTh      ,      Ca\n",
      "CaF       ,       F\n",
      "PMg       ,       F\n",
      "SiAl      ,       F\n",
      "CRnAlAr   ,       H\n",
      "CRnFYFYFAr,       H\n",
      "CRnFYMgAr ,       H\n",
      "CRnMgYFAr ,       H\n",
      "HCa       ,       H\n",
      "NRnFYFAr  ,       H\n",
      "NRnMgAr   ,       H\n",
      "NTh       ,       H\n",
      "OB        ,       H\n",
      "ORnFAr    ,       H\n",
      "BF        ,      Mg\n",
      "TiMg      ,      Mg\n",
      "CRnFAr    ,       N\n",
      "HSi       ,       N\n",
      "CRnFYFAr  ,       O\n",
      "CRnMgAr   ,       O\n",
      "HP        ,       O\n",
      "NRnFAr    ,       O\n",
      "OTi       ,       O\n",
      "CaP       ,       P\n",
      "PTi       ,       P\n",
      "SiRnFAr   ,       P\n",
      "CaSi      ,      Si\n",
      "ThCa      ,      Th\n",
      "BP        ,      Ti\n",
      "TiTi      ,      Ti\n",
      "HF        ,       e\n",
      "NAl       ,       e\n",
      "OMg       ,       e\n"
     ]
    }
   ],
   "source": [
    "for k,v in backward.items():\n",
    "    print(f\"{k:<10}, {v:>7}\")"
   ]
  },
  {
   "cell_type": "code",
   "execution_count": 211,
   "id": "93f9acef-24b0-403d-aba9-3ac0d49167ad",
   "metadata": {},
   "outputs": [
    {
     "name": "stdout",
     "output_type": "stream",
     "text": [
      "0:1 molecules (468, 468), Min Ar at 25\n",
      "1:86 molecules (391, 400), Min Ar at 25\n"
     ]
    },
    {
     "ename": "ValueError",
     "evalue": "min() iterable argument is empty",
     "output_type": "error",
     "traceback": [
      "\u001b[0;31m---------------------------------------------------------------------------\u001b[0m",
      "\u001b[0;31mValueError\u001b[0m                                Traceback (most recent call last)",
      "Cell \u001b[0;32mIn[211], line 18\u001b[0m\n\u001b[1;32m     16\u001b[0m lens \u001b[38;5;241m=\u001b[39m [\u001b[38;5;28mlen\u001b[39m(x) \u001b[38;5;28;01mfor\u001b[39;00m x \u001b[38;5;129;01min\u001b[39;00m mols]\n\u001b[1;32m     17\u001b[0m sarl \u001b[38;5;241m=\u001b[39m [m\u001b[38;5;241m.\u001b[39mindex(\u001b[38;5;124m'\u001b[39m\u001b[38;5;124mAr\u001b[39m\u001b[38;5;124m'\u001b[39m)\u001b[38;5;241m+\u001b[39m\u001b[38;5;241m2\u001b[39m \u001b[38;5;28;01mfor\u001b[39;00m m \u001b[38;5;129;01min\u001b[39;00m mset]\n\u001b[0;32m---> 18\u001b[0m \u001b[38;5;28mprint\u001b[39m(\u001b[38;5;124mf\u001b[39m\u001b[38;5;124m\"\u001b[39m\u001b[38;5;132;01m{\u001b[39;00mit\u001b[38;5;132;01m}\u001b[39;00m\u001b[38;5;124m:\u001b[39m\u001b[38;5;132;01m{\u001b[39;00m\u001b[38;5;28mlen\u001b[39m(mols)\u001b[38;5;132;01m}\u001b[39;00m\u001b[38;5;124m molecules \u001b[39m\u001b[38;5;132;01m{\u001b[39;00m\u001b[38;5;28;43mmin\u001b[39;49m\u001b[43m(\u001b[49m\u001b[43mlens\u001b[49m\u001b[43m)\u001b[49m,\u001b[38;5;250m \u001b[39m\u001b[38;5;28mmax\u001b[39m(lens)\u001b[38;5;132;01m}\u001b[39;00m\u001b[38;5;124m, Min Ar at \u001b[39m\u001b[38;5;132;01m{\u001b[39;00m\u001b[38;5;28mmin\u001b[39m(sarl)\u001b[38;5;132;01m}\u001b[39;00m\u001b[38;5;124m\"\u001b[39m)\n\u001b[1;32m     19\u001b[0m mols \u001b[38;5;241m=\u001b[39m red(\u001b[38;5;28mlist\u001b[39m(mols)[:\u001b[38;5;241m10\u001b[39m])\n\u001b[1;32m     20\u001b[0m \u001b[38;5;66;03m#print(f'{len(mols)} generated')\u001b[39;00m\n",
      "\u001b[0;31mValueError\u001b[0m: min() iterable argument is empty"
     ]
    }
   ],
   "source": [
    "# @settify\n",
    "# def red(mols):\n",
    "#     for i in range(len(mol)):\n",
    "#             start, end = mol[:i],mol[i:]\n",
    "            \n",
    "#             for k,v in backward.items():\n",
    "#                 if end.startswith(k):\n",
    "#                     newm = start + v+ end[len(k):]\n",
    "#                     yield force_reduce(newm)\n",
    "\n",
    "\n",
    "# mols = [mol]\n",
    "# # mols = ['CRnSiRnTiBSiRnSiRnTiTiBFArFYPMgArSiRnCaFArRnPTiMgArSiRnSiAlYCaCaSiThPBPRnSiAlArPMgArCaSiThCaSiRnFArBPTiTiRnCaSiAlArCaPBCaFArSiRnTiMgArPMgYMgArSiRnSiRnMgArPMgArTiMg']\n",
    "# seen = set()\n",
    "# for it in range(250):\n",
    "#     lens = [len(x) for x in mols]\n",
    "#     \n",
    "#     print(f\"{it}:{len(mols)} molecules {min(lens), max(lens)}\")\n",
    "#     mols = red(list(mols)[:10])\n",
    "#     #print(f'{len(mols)} generated')\n",
    "#     mols = mols - seen\n",
    "#     #print(f'{len(mols)} non duplicates')\n",
    "#     seen.update(mols)\n",
    "#     if 'e' in mols:\n",
    "#         print('DONE in it:', it+1)\n",
    "#         break"
   ]
  },
  {
   "cell_type": "code",
   "execution_count": 115,
   "id": "909ab232-d5fe-45fe-b48d-1c1f3986dbee",
   "metadata": {},
   "outputs": [],
   "source": [
    "# 164 is way too low\n",
    "n = next(iter(mols))"
   ]
  },
  {
   "cell_type": "code",
   "execution_count": 157,
   "id": "196911bb-7b6a-4d9d-b8f5-a7188b7327c7",
   "metadata": {},
   "outputs": [
    {
     "data": {
      "text/plain": [
       "['CRnCaSiRnBSiRnFAr',\n",
       " 'TiBPTiTiBFAr',\n",
       " 'PBCaSiThSiRnTiBPBPMgAr',\n",
       " 'CaSiRnTiMgAr',\n",
       " 'CaSiThCaSiRnFAr',\n",
       " 'RnSiRnFAr',\n",
       " 'TiTiBFAr',\n",
       " 'CaCaSiRnSiThCaCaSiRnMgAr',\n",
       " 'FYSiRnFYCaFAr',\n",
       " 'SiThCaSiThPBPTiMgAr',\n",
       " 'CaPRnSiAlAr',\n",
       " 'PBCaCaSiRnFYSiThCaRnFAr',\n",
       " 'Ar',\n",
       " 'CaCaSiRnPBSiRnFAr',\n",
       " 'MgYCaCaCaCaSiThCaCaSiAlAr',\n",
       " 'CaCaSiRnPBSiAlAr',\n",
       " 'BCaCaCaCaSiThCaPBSiThPBPBCaSiRnFYFAr',\n",
       " 'SiThCaSiRnFAr',\n",
       " 'BCaCaSiRnFYFAr',\n",
       " 'SiThCaPBSiThCaSiRnPMgAr',\n",
       " 'RnFAr',\n",
       " 'PTiBCaPRnFAr',\n",
       " 'CaCaCaCaSiRnCaCaSiRnFYFAr',\n",
       " 'FAr',\n",
       " 'BCaSiThFAr',\n",
       " 'ThSiThSiRnTiRnPMgAr',\n",
       " 'FAr',\n",
       " 'CaSiThCaPBCaSiRnBFAr',\n",
       " 'CaCaPRnCaCaPMgAr',\n",
       " 'SiRnFYFAr',\n",
       " 'CaSiThRnPBPMgAr',\n",
       " '']"
      ]
     },
     "execution_count": 157,
     "metadata": {},
     "output_type": "execute_result"
    }
   ],
   "source": [
    "ms = [mol]\n",
    "while True:        \n",
    "    if 'Ar' not in ms[-1]:\n",
    "        break\n",
    "    ind = ms[-1].index('Ar')\n",
    "    mx = ms[-1]\n",
    "    ms = ms[:-1] + [mx[:ind+2], mx[ind+2:]]\n",
    "\n",
    "ms"
   ]
  },
  {
   "cell_type": "code",
   "execution_count": 407,
   "id": "a4f9b096-193c-4474-9509-6c0e1490a42d",
   "metadata": {
    "scrolled": true
   },
   "outputs": [
    {
     "data": {
      "text/plain": [
       "{'ThF': 'Al',\n",
       " 'ThRnFAr': 'Al',\n",
       " 'BCa': 'B',\n",
       " 'TiB': 'B',\n",
       " 'TiRnFAr': 'B',\n",
       " 'CaCa': 'Ca',\n",
       " 'PB': 'Ca',\n",
       " 'PRnFAr': 'Ca',\n",
       " 'SiRnFYFAr': 'Ca',\n",
       " 'SiRnMgAr': 'Ca',\n",
       " 'SiTh': 'Ca',\n",
       " 'CaF': 'F',\n",
       " 'PMg': 'F',\n",
       " 'SiAl': 'F',\n",
       " 'CRnAlAr': 'H',\n",
       " 'CRnFYFYFAr': 'H',\n",
       " 'CRnFYMgAr': 'H',\n",
       " 'CRnMgYFAr': 'H',\n",
       " 'HCa': 'H',\n",
       " 'NRnFYFAr': 'H',\n",
       " 'NRnMgAr': 'H',\n",
       " 'NTh': 'H',\n",
       " 'OB': 'H',\n",
       " 'ORnFAr': 'H',\n",
       " 'BF': 'Mg',\n",
       " 'TiMg': 'Mg',\n",
       " 'CRnFAr': 'N',\n",
       " 'HSi': 'N',\n",
       " 'CRnFYFAr': 'O',\n",
       " 'CRnMgAr': 'O',\n",
       " 'HP': 'O',\n",
       " 'NRnFAr': 'O',\n",
       " 'OTi': 'O',\n",
       " 'CaP': 'P',\n",
       " 'PTi': 'P',\n",
       " 'SiRnFAr': 'P',\n",
       " 'CaSi': 'Si',\n",
       " 'ThCa': 'Th',\n",
       " 'BP': 'Ti',\n",
       " 'TiTi': 'Ti',\n",
       " 'HF': 'e',\n",
       " 'NAl': 'e',\n",
       " 'OMg': 'e'}"
      ]
     },
     "execution_count": 407,
     "metadata": {},
     "output_type": "execute_result"
    }
   ],
   "source": [
    "backward"
   ]
  },
  {
   "cell_type": "code",
   "execution_count": 186,
   "id": "223eb801-36dd-4b49-9d98-5f78f948cd6f",
   "metadata": {},
   "outputs": [
    {
     "data": {
      "text/plain": [
       "{('C', 'Rn', 'F', 'Ar', 'R', 'n', 'F', 'Y', 'F', 'A', 'r'),\n",
       " ('H', 'Si', 'R', 'n', 'F', 'Y', 'F', 'A', 'r'),\n",
       " ('N', 'R', 'n', 'Ca', 'F', 'Y', 'F', 'A', 'r'),\n",
       " ('N', 'R', 'n', 'F', 'Y', 'Ca', 'F', 'A', 'r'),\n",
       " ('N', 'R', 'n', 'F', 'Y', 'P', 'Mg', 'A', 'r'),\n",
       " ('N', 'R', 'n', 'F', 'Y', 'Si', 'Al', 'A', 'r'),\n",
       " ('N', 'R', 'n', 'P', 'Mg', 'Y', 'F', 'A', 'r'),\n",
       " ('N', 'R', 'n', 'Si', 'Al', 'Y', 'F', 'A', 'r')}"
      ]
     },
     "execution_count": 186,
     "metadata": {},
     "output_type": "execute_result"
    }
   ],
   "source": [
    "iter_all('NRnFYFAr')"
   ]
  },
  {
   "cell_type": "code",
   "execution_count": null,
   "id": "b7d955a0-f40e-4f5d-9da1-94d5c8b67b84",
   "metadata": {},
   "outputs": [],
   "source": []
  }
 ],
 "metadata": {
  "kernelspec": {
   "display_name": "Python 3 (ipykernel)",
   "language": "python",
   "name": "python3"
  },
  "language_info": {
   "codemirror_mode": {
    "name": "ipython",
    "version": 3
   },
   "file_extension": ".py",
   "mimetype": "text/x-python",
   "name": "python",
   "nbconvert_exporter": "python",
   "pygments_lexer": "ipython3",
   "version": "3.12.7"
  }
 },
 "nbformat": 4,
 "nbformat_minor": 5
}
