{
 "cells": [
  {
   "cell_type": "code",
   "execution_count": 1,
   "id": "c284a1c7-c930-4c36-b726-a1d441e3e45c",
   "metadata": {},
   "outputs": [],
   "source": [
    "data = \"\"\"789\n",
    "456\n",
    "123\n",
    ".0A\"\"\"\n",
    "\n",
    "data_robot = \"\"\".^A\n",
    "<v>\"\"\"\n",
    "\n",
    "\n",
    "def parse(data):\n",
    "\n",
    "    direct = {}\n",
    "    for (y,l) in  enumerate(data.splitlines()):\n",
    "        for (x,c) in enumerate(l):\n",
    "            if c == '.':\n",
    "                continue\n",
    "            direct[(x,y)] = c\n",
    "    return tuple((k,v) for k,v in direct.items())\n",
    "keypad = parse(data)\n",
    "rob = parse(data_robot)\n",
    "\n"
   ]
  },
  {
   "cell_type": "code",
   "execution_count": 2,
   "id": "1df4afa0-0492-4fbe-a635-5e926a2294ca",
   "metadata": {},
   "outputs": [],
   "source": [
    "from heapq import heappush as push, heappop as pop"
   ]
  },
  {
   "cell_type": "code",
   "execution_count": 3,
   "id": "f206c37e-b9f1-4b18-8510-33e57a12b9cf",
   "metadata": {},
   "outputs": [],
   "source": [
    "from functools import cache"
   ]
  },
  {
   "cell_type": "code",
   "execution_count": 4,
   "id": "9720feda-1e10-4f52-8f0a-903897b76248",
   "metadata": {},
   "outputs": [
    {
     "data": {
      "text/plain": [
       "{0: 1}"
      ]
     },
     "execution_count": 4,
     "metadata": {},
     "output_type": "execute_result"
    }
   ],
   "source": [
    "dict([(0,1)])"
   ]
  },
  {
   "cell_type": "code",
   "execution_count": 5,
   "id": "91c5530f-ef23-4c19-973d-cb509a1e3a67",
   "metadata": {},
   "outputs": [],
   "source": [
    "@cache\n",
    "def all_path(fmap, start, end):\n",
    "    map = dict(fmap)\n",
    "    revmap = {v:k for k,v in map.items()}\n",
    "    dir= {\n",
    "        \"^\":(0,-1),\n",
    "        \"v\":(0,1,),\n",
    "        \">\":(1,0),\n",
    "        \"<\":(-1,0),\n",
    "    }\n",
    "    open = [(0, start, '')]\n",
    "    minscore = float('inf')\n",
    "    paths = []\n",
    "    while open:\n",
    "        score, n, seq = pop(open)\n",
    "        import time\n",
    "        time.sleep(0.01)        \n",
    "        score = len(seq)\n",
    "        (x,y) = revmap[n]\n",
    "        if score > minscore:\n",
    "            return paths\n",
    "        if n == end:\n",
    "            paths.append(seq)\n",
    "            minscore = len(seq)\n",
    "            continue\n",
    "        neigh = [(x+dx, y+dy, d) for d,(dx,dy) in dir.items()]\n",
    "        #print(neigh)\n",
    "        for (nx,ny, d) in neigh:\n",
    "            if (nx, ny) in map:\n",
    "                push(open, (score +1, map[(nx,ny)], seq+d))\n",
    "    return []\n",
    "            \n",
    "            \n",
    "        "
   ]
  },
  {
   "cell_type": "code",
   "execution_count": 6,
   "id": "1fbba548-4a8e-40be-94b5-7bd35cc6206e",
   "metadata": {},
   "outputs": [
    {
     "data": {
      "text/plain": [
       "(((0, 0), '7'),\n",
       " ((1, 0), '8'),\n",
       " ((2, 0), '9'),\n",
       " ((0, 1), '4'),\n",
       " ((1, 1), '5'),\n",
       " ((2, 1), '6'),\n",
       " ((0, 2), '1'),\n",
       " ((1, 2), '2'),\n",
       " ((2, 2), '3'),\n",
       " ((1, 3), '0'),\n",
       " ((2, 3), 'A'))"
      ]
     },
     "execution_count": 6,
     "metadata": {},
     "output_type": "execute_result"
    }
   ],
   "source": [
    "keypad"
   ]
  },
  {
   "cell_type": "code",
   "execution_count": 19,
   "id": "cc958687-5daa-4a4d-84ff-7c2a2f6d1ef4",
   "metadata": {},
   "outputs": [
    {
     "data": {
      "text/plain": [
       "['>>vv', '>v>v', '>vv>', 'v>>v', 'v>v>']"
      ]
     },
     "execution_count": 19,
     "metadata": {},
     "output_type": "execute_result"
    }
   ],
   "source": [
    "all_path(keypad, '4', 'A')"
   ]
  },
  {
   "cell_type": "code",
   "execution_count": 20,
   "id": "d5ed751b-0d8b-413e-837d-0633c9c6f0f2",
   "metadata": {},
   "outputs": [
    {
     "data": {
      "text/plain": [
       "['<']"
      ]
     },
     "execution_count": 20,
     "metadata": {},
     "output_type": "execute_result"
    }
   ],
   "source": [
    "all_path(rob, 'A', '^')"
   ]
  },
  {
   "cell_type": "code",
   "execution_count": 21,
   "id": "5efc370d-7ab0-41f1-be76-f7f556198985",
   "metadata": {},
   "outputs": [],
   "source": []
  },
  {
   "cell_type": "code",
   "execution_count": 28,
   "id": "6e4a5686-c81e-4df0-bc8f-9536dacf4eab",
   "metadata": {},
   "outputs": [],
   "source": [
    "from itertools import pairwise"
   ]
  },
  {
   "cell_type": "code",
   "execution_count": 118,
   "id": "9f659220-ad49-4d64-97d8-aeb26e4a7341",
   "metadata": {},
   "outputs": [
    {
     "name": "stdout",
     "output_type": "stream",
     "text": [
      "\n",
      "Final keypad: <^\n",
      "Level 1 <v<A>^A>A\n",
      "Level 2 ((<v<AA>^A)A<AA(vAA<^A>A)A)A>^A>A\n",
      "\n",
      "Final keypad: ^<\n",
      "Level 1 <Av<A>>^A\n",
      "Level 2 <Av<A(vAA(<v<A>^A>A,<Av<A>>^A)A>A)A\n"
     ]
    }
   ],
   "source": [
    "target = '029A'\n",
    "target = '2'\n",
    "for source, target in pairwise(iter('A'+target)):\n",
    "    for a in all_path(keypad, source, target):\n",
    "        print('\\nFinal keypad:', a)\n",
    "        l1 = shortest(a, rob)\n",
    "        print('Level 1', l1)\n",
    "        print('Level 2', shortest(a, rob,2 ))"
   ]
  },
  {
   "cell_type": "markdown",
   "id": "327777a1-a5bc-451b-8a15-bf417c98a278",
   "metadata": {},
   "source": [
    "First: \n",
    "`<vA<AA>>^AvAA<^A>A<v<A>>^AvA^A<vA>^A<v<A>^A>AAvA^A<v<A>A>^AAAvA<^A>A`"
   ]
  },
  {
   "cell_type": "code",
   "execution_count": null,
   "id": "3c331f27-fa05-48e7-846a-9c391b409a07",
   "metadata": {},
   "outputs": [],
   "source": [
    "<vA<AA>>^AvAA<^A>A<v<A>>^AvA^A<vA>^A<v<A>^A>AAvA^A<v<A>A>^AAAvA<^A>A\n",
    "v<<A>>^A<A>AvA<^AA>A<vAAA>^A\n",
    "<A^A>^^AvvvA"
   ]
  },
  {
   "cell_type": "code",
   "execution_count": 110,
   "id": "1704ed67-06a2-4f24-a331-b0d37b8eb377",
   "metadata": {},
   "outputs": [],
   "source": [
    "@cache\n",
    "def shortest(seq, using, depth=0):\n",
    "    #print('looking for depth', depth, 'seq', seq)\n",
    "    assert not seq.startswith('A')\n",
    "    assert 'A' not in seq\n",
    "    acc = ''\n",
    "    for source, target in pairwise(iter('A'+seq+'A')):\n",
    "        if source == target:\n",
    "            acc += 'A'\n",
    "            continue\n",
    "        all = all_path(using, source, target)\n",
    "        if len(all) == 1:\n",
    "          acc += all[0]\n",
    "        elif depth == 0:\n",
    "            if all:\n",
    "                acc+=all[0]\n",
    "            #print([len(a) for a in all])\n",
    "        else:\n",
    "            if all:\n",
    "                possibles = [shortest(a, using,depth-1) for a in all]\n",
    "                \n",
    "                lens = [len(s) for s in possibles]\n",
    "                minlen = min(lens)\n",
    "                remind= [s for s in possibles if len(s) == minlen]\n",
    "                acc += '(' + ','.join(remind) + ')'\n",
    "            else:\n",
    "                print('nothin from', source, 'to', target)\n",
    "            \n",
    "        acc +='A'\n",
    "    return acc\n",
    "            \n",
    "    \n",
    "    "
   ]
  },
  {
   "cell_type": "code",
   "execution_count": 66,
   "id": "80bdbef0-9a87-4ed9-bffb-69c65baf2b10",
   "metadata": {},
   "outputs": [
    {
     "name": "stdout",
     "output_type": "stream",
     "text": [
      "looking for depth 1 seq >^^\n",
      "looking for depth 0 seq <^\n",
      "[3, 3]\n",
      "<v<A>^A>A\n",
      "looking for depth 0 seq ^<\n",
      "[3, 3]\n",
      "<Av<A>>^A\n"
     ]
    },
    {
     "data": {
      "text/plain": [
       "'vAAA>A'"
      ]
     },
     "execution_count": 66,
     "metadata": {},
     "output_type": "execute_result"
    }
   ],
   "source": [
    "shortest('>^^', rob, 1)"
   ]
  },
  {
   "cell_type": "markdown",
   "id": "d5dbbd84-6d00-4d7d-8a6a-40f6ebd74136",
   "metadata": {},
   "source": [
    "```\n",
    "< to move the arm from A (its initial position) to 0.\n",
    "A to push the 0 button.\n",
    "^A to move the arm to the 2 button and push it.\n",
    ">^^A to move the arm to the 9 button and push it.\n",
    "vvvA to move the arm to the A button and push it.\n",
    "```"
   ]
  },
  {
   "cell_type": "code",
   "execution_count": null,
   "id": "76990ed4-6c86-46f3-95ab-621c8ac55bb5",
   "metadata": {},
   "outputs": [],
   "source": []
  }
 ],
 "metadata": {
  "kernelspec": {
   "display_name": "Python 3 (ipykernel)",
   "language": "python",
   "name": "python3"
  },
  "language_info": {
   "codemirror_mode": {
    "name": "ipython",
    "version": 3
   },
   "file_extension": ".py",
   "mimetype": "text/x-python",
   "name": "python",
   "nbconvert_exporter": "python",
   "pygments_lexer": "ipython3",
   "version": "3.12.3"
  }
 },
 "nbformat": 4,
 "nbformat_minor": 5
}
