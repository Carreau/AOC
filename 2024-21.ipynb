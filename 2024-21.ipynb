{
 "cells": [
  {
   "cell_type": "code",
   "execution_count": 1,
   "id": "c284a1c7-c930-4c36-b726-a1d441e3e45c",
   "metadata": {},
   "outputs": [],
   "source": [
    "data = \"\"\"789\n",
    "456\n",
    "123\n",
    ".0A\"\"\"\n",
    "\n",
    "data_robot = \"\"\".^A\n",
    "<v>\"\"\"\n",
    "\n",
    "\n",
    "def parse(data):\n",
    "\n",
    "    direct = {}\n",
    "    for (y,l) in  enumerate(data.splitlines()):\n",
    "        for (x,c) in enumerate(l):\n",
    "            if c == '.':\n",
    "                continue\n",
    "            direct[(x,y)] = c\n",
    "    return tuple((k,v) for k,v in direct.items())\n",
    "keypad = parse(data)\n",
    "rob = parse(data_robot)\n",
    "\n"
   ]
  },
  {
   "cell_type": "markdown",
   "id": "514c125c-b14c-4a0f-b5f9-5a4653c131c4",
   "metadata": {},
   "source": [
    "```\n",
    "789\n",
    "456\n",
    "123\n",
    ".0A\n",
    "```\n",
    "\n",
    "```\n",
    " ^A\n",
    "<v>\n",
    "```\n"
   ]
  },
  {
   "cell_type": "code",
   "execution_count": 2,
   "id": "1df4afa0-0492-4fbe-a635-5e926a2294ca",
   "metadata": {},
   "outputs": [],
   "source": [
    "from heapq import heappush as push, heappop as pop"
   ]
  },
  {
   "cell_type": "code",
   "execution_count": 3,
   "id": "f206c37e-b9f1-4b18-8510-33e57a12b9cf",
   "metadata": {},
   "outputs": [],
   "source": [
    "from functools import cache"
   ]
  },
  {
   "cell_type": "code",
   "execution_count": 4,
   "id": "9720feda-1e10-4f52-8f0a-903897b76248",
   "metadata": {},
   "outputs": [
    {
     "data": {
      "text/plain": [
       "{0: 1}"
      ]
     },
     "execution_count": 4,
     "metadata": {},
     "output_type": "execute_result"
    }
   ],
   "source": [
    "dict([(0,1)])"
   ]
  },
  {
   "cell_type": "code",
   "execution_count": 332,
   "id": "91c5530f-ef23-4c19-973d-cb509a1e3a67",
   "metadata": {},
   "outputs": [],
   "source": [
    "@cache\n",
    "def all_path(fmap, start, end):\n",
    "    map = dict(fmap)\n",
    "    revmap = {v:k for k,v in map.items()}\n",
    "    dir= {\n",
    "        \"^\":(0,-1),\n",
    "        \"v\":(0, 1,),\n",
    "        \">\":(1,0),\n",
    "        \"<\":(-1,0),\n",
    "    }\n",
    "    open = [(0, start, '')]\n",
    "    minscore = float('inf')\n",
    "    paths = []\n",
    "    while open:\n",
    "        #print(open)\n",
    "        score, n, seq = pop(open)        \n",
    "        score = len(seq)\n",
    "        (x,y) = revmap[n]\n",
    "        if score > minscore:\n",
    "            return paths\n",
    "        if n == end:\n",
    "            paths.append(seq)\n",
    "            minscore = len(seq)\n",
    "            continue\n",
    "        neigh = [(x+dx, y+dy, d) for d,(dx,dy) in dir.items()]\n",
    "        #print('N of', start, neigh)\n",
    "        for (nx,ny, d) in neigh:\n",
    "            if (nx, ny) in map:\n",
    "                #print('N ', nx,ny, d,  'in map')\n",
    "                push(open, (score +1, map[(nx,ny)], seq+d))\n",
    "            else:\n",
    "                pass\n",
    "                #print('N ', nx,ny, d,  'not in map')\n",
    "                \n",
    "    return paths\n",
    "            \n",
    "            \n",
    "        "
   ]
  },
  {
   "cell_type": "code",
   "execution_count": 333,
   "id": "19ba01a4-cbb5-42e9-9ff4-715bbc7702cc",
   "metadata": {},
   "outputs": [
    {
     "data": {
      "text/plain": [
       "['>']"
      ]
     },
     "execution_count": 333,
     "metadata": {},
     "output_type": "execute_result"
    }
   ],
   "source": [
    "all_path(rob, '<','v')"
   ]
  },
  {
   "cell_type": "code",
   "execution_count": 334,
   "id": "72052eee-c2f2-4deb-8265-f1a52147bb60",
   "metadata": {},
   "outputs": [
    {
     "name": "stdout",
     "output_type": "stream",
     "text": [
      "v v ['']\n",
      "v ^ ['^']\n",
      "v < ['<']\n",
      "v > ['>']\n",
      "v A ['>^', '^>']\n",
      "^ v ['v']\n",
      "^ ^ ['']\n",
      "^ < ['v<']\n",
      "^ > ['>v', 'v>']\n",
      "^ A ['>']\n",
      "< v ['>']\n",
      "< ^ ['>^']\n",
      "< < ['']\n",
      "< > ['>>']\n",
      "< A ['>>^', '>^>']\n",
      "> v ['<']\n",
      "> ^ ['<^', '^<']\n",
      "> < ['<<']\n",
      "> > ['']\n",
      "> A ['^']\n",
      "A v ['<v', 'v<']\n",
      "A ^ ['<']\n",
      "A < ['<v<', 'v<<']\n",
      "A > ['v']\n",
      "A A ['']\n"
     ]
    }
   ],
   "source": [
    "from itertools import product\n",
    "for i,j in  product('v^<>A',repeat=2):\n",
    "    print(i,j, all_path(rob, i,j))"
   ]
  },
  {
   "cell_type": "code",
   "execution_count": 335,
   "id": "27516d7d-594b-48e5-a483-59f7525ae998",
   "metadata": {},
   "outputs": [
    {
     "data": {
      "text/plain": [
       "['>']"
      ]
     },
     "execution_count": 335,
     "metadata": {},
     "output_type": "execute_result"
    }
   ],
   "source": [
    "all_path(rob, '<', 'v')"
   ]
  },
  {
   "cell_type": "code",
   "execution_count": 336,
   "id": "1fbba548-4a8e-40be-94b5-7bd35cc6206e",
   "metadata": {},
   "outputs": [
    {
     "data": {
      "text/plain": [
       "(((0, 0), '7'),\n",
       " ((1, 0), '8'),\n",
       " ((2, 0), '9'),\n",
       " ((0, 1), '4'),\n",
       " ((1, 1), '5'),\n",
       " ((2, 1), '6'),\n",
       " ((0, 2), '1'),\n",
       " ((1, 2), '2'),\n",
       " ((2, 2), '3'),\n",
       " ((1, 3), '0'),\n",
       " ((2, 3), 'A'))"
      ]
     },
     "execution_count": 336,
     "metadata": {},
     "output_type": "execute_result"
    }
   ],
   "source": [
    "keypad"
   ]
  },
  {
   "cell_type": "code",
   "execution_count": 337,
   "id": "cc958687-5daa-4a4d-84ff-7c2a2f6d1ef4",
   "metadata": {},
   "outputs": [
    {
     "data": {
      "text/plain": [
       "['>>vv', '>v>v', '>vv>', 'v>>v', 'v>v>']"
      ]
     },
     "execution_count": 337,
     "metadata": {},
     "output_type": "execute_result"
    }
   ],
   "source": [
    "all_path(keypad, '4', 'A')"
   ]
  },
  {
   "cell_type": "code",
   "execution_count": 338,
   "id": "d5ed751b-0d8b-413e-837d-0633c9c6f0f2",
   "metadata": {},
   "outputs": [
    {
     "data": {
      "text/plain": [
       "['<']"
      ]
     },
     "execution_count": 338,
     "metadata": {},
     "output_type": "execute_result"
    }
   ],
   "source": [
    "all_path(rob, 'A', '^')"
   ]
  },
  {
   "cell_type": "code",
   "execution_count": null,
   "id": "5efc370d-7ab0-41f1-be76-f7f556198985",
   "metadata": {},
   "outputs": [],
   "source": []
  },
  {
   "cell_type": "code",
   "execution_count": 339,
   "id": "6e4a5686-c81e-4df0-bc8f-9536dacf4eab",
   "metadata": {},
   "outputs": [],
   "source": [
    "from itertools import pairwise"
   ]
  },
  {
   "cell_type": "code",
   "execution_count": 354,
   "id": "9f659220-ad49-4d64-97d8-aeb26e4a7341",
   "metadata": {},
   "outputs": [
    {
     "name": "stdout",
     "output_type": "stream",
     "text": [
      "On keypad: 0\n",
      "   < -> < +A\n",
      "   > -> > +A\n",
      " Level 3 robot should type (18, '__A<AA___AvAA__A>A')\n",
      "---\n",
      "On keypad: 2\n",
      " Level 3 robot should type (12, '___A___AvA^A')\n",
      "---\n",
      "On keypad: 9\n",
      " ^ -> ^ +A\n",
      " Level 3 robot should type (20, '__A__A(___A>^A>A,<Av<A___A)AvA^A')\n",
      " Level 3 robot should type (28, '___A___A(vA<A__A,__A>A^A)(___A>^A>A,<Av<A___A)vA^A')\n",
      " ^ -> ^ +A\n",
      " Level 3 robot should type (20, '___A___AA(vA<A__A,__A>A^A)<A>A')\n",
      "---\n",
      "On keypad: A\n",
      " v -> v +A\n",
      " v -> v +A\n",
      " Level 3 robot should type (18, '(___A>A__A,__A<A___A)AA(vA__A>A,<A__A^A)')\n",
      "---\n"
     ]
    }
   ],
   "source": [
    "target = '029A'\n",
    "target = '029A'\n",
    "for source, target in pairwise(iter('A'+target)):\n",
    "    print('On keypad:', target)\n",
    "\n",
    "    l3s = []\n",
    "    for a in all_path(keypad, source, target):\n",
    "        #l0 = a+'A'\n",
    "        #print(' Level 1 robot should type', a +'A', 'to type final sequence')\n",
    "        #l2 = shortest(a, rob, 0, 0)\n",
    "        #print(' Level 2 robot should type', l2)\n",
    "        #print()\n",
    "        l3 = shortest(a, rob, 0, 1)\n",
    "        print(' Level 3 robot should type', l3)\n",
    "        #print()\n",
    "    l3s.append(l3)\n",
    "    print('---')\n",
    "       "
   ]
  },
  {
   "cell_type": "code",
   "execution_count": 347,
   "id": "7d195ec9-929a-4241-944a-6d67c9c2e5cf",
   "metadata": {},
   "outputs": [
    {
     "data": {
      "text/plain": [
       "['<', '>', '^', 'v']"
      ]
     },
     "execution_count": 347,
     "metadata": {},
     "output_type": "execute_result"
    }
   ],
   "source": [
    "sorted('>^v<')"
   ]
  },
  {
   "cell_type": "markdown",
   "id": "327777a1-a5bc-451b-8a15-bf417c98a278",
   "metadata": {},
   "source": [
    "First: \n",
    "```\n",
    "         0    2        9|       A\n",
    "     <   A| ^ A| >  ^^ A|  vvv  A\n",
    "  v<<A>>^A|<A>A|vA<^AA>A|<vAAA>^A\n",
    "```\n",
    "```\n",
    "                 0|           2|                   9|                 A\n",
    "         <       A|       ^   A|     >        ^^   A|        vvv      A\n",
    "  v <<   A >>  ^ A|   <   A > A|  v  A   <  ^ AA > A|   < v  AAA >  ^ A\n",
    "<vA<AA>>^AvAA<^A>A|<v<A>>^AvA^A|<vA>^A<v<A>^A>AAvA^A|<v<A>A>^AAAvA<^A>A\n",
    "\n",
    "```"
   ]
  },
  {
   "cell_type": "markdown",
   "id": "4db94cad-a4cb-406d-a292-9b01a04b7264",
   "metadata": {},
   "source": [
    "<vA<AA>>^AvAA<^A>A<v<A>>^AvA^A<vA>^A<v<A>^A>AAvA^A<v<A>A>^AAAvA<^A>A\n",
    "v<<A>>^A<A>AvA<^AA>A<vAAA>^A\n",
    "<A^A>^^AvvvA"
   ]
  },
  {
   "cell_type": "code",
   "execution_count": 351,
   "id": "1704ed67-06a2-4f24-a331-b0d37b8eb377",
   "metadata": {},
   "outputs": [],
   "source": [
    "#@cache\n",
    "def shortest(seq, using, depth=0, maxdepth=0):\n",
    "    \"\"\"\n",
    "    given a sequence `seq`,  compute the various way the \n",
    "    robots can type it, asuming we start at A, and end at A.\n",
    "\n",
    "    \"\"\"\n",
    "    assert depth <= maxdepth, seq\n",
    "    indent = '  '* depth\n",
    "    #print(indent,'at depth', depth, f'searching shortest way to type A: {seq} :A')\n",
    "    #print('looking for depth', depth, 'seq', seq)\n",
    "    assert not seq.startswith('A')\n",
    "    assert 'A' not in seq\n",
    "    acc = ''\n",
    "    llen = 0\n",
    "    for source, target in pairwise(iter('A'+seq+'A')):\n",
    "        # if acc :\n",
    "        #     assert acc.endswith(('A', 'A)')), acc\n",
    "        if source == target:\n",
    "            print(f\"{indent} {source} -> {target} +A\")\n",
    "            acc += 'A'\n",
    "            llen +=1\n",
    "            \n",
    "            continue\n",
    "        all = all_path(using, source, target)\n",
    "        #print(f\"{indent} There are {len(all)} ways to go from {source} to {target} :{all}\")\n",
    "        if not all:\n",
    "            assert False, (using, source, target)\n",
    "        #if len(all) == 1:\n",
    "        #  print(f'{indent} only one way to do {source} -> {target} : {all[0]}')\n",
    "        #  acc += next(iter(all))+'A'\n",
    "        if depth == maxdepth:\n",
    "            mlen = min([len(a) for a in all])\n",
    "            all = [a for a in all if len(a) == mlen]\n",
    "            if len(all) == 1:\n",
    "                delta = next(iter(all))\n",
    "                acc += delta+'A'\n",
    "                llen += len(delta)+1\n",
    "            else:\n",
    "                 \n",
    "                \n",
    "                #acc += '['+','.join(all)+']'+'A'\n",
    "                acc +='_'*len(all[0])+'A'\n",
    "                llen += len(all[0]) + 1\n",
    "        else:\n",
    "            if all:\n",
    "                possibles = [shortest(a, using,depth+1, maxdepth) for a in all]\n",
    "                #print(f'{indent} possibilities for {seq} {source} {target}', possibles)\n",
    "                \n",
    "                lens = [i for i,s in possibles]\n",
    "                minlen = min(lens)\n",
    "                remind= [s for i,s in possibles if i == minlen]\n",
    "                #print(f'{indent} reduced for {seq} {source} {target}', remind)\n",
    "                if len(remind) == 1:\n",
    "                    acc += next(iter(remind))\n",
    "                    llen += minlen\n",
    "                else:\n",
    "                    acc += '(' + ','.join(remind) + ')'\n",
    "                    llen += minlen\n",
    "            else:\n",
    "                assert False\n",
    "                #print('nothin from', source, 'to', target)\n",
    "            \n",
    "        #acc +='A'\n",
    "        #print(f'{indent} ... set acc{depth} way to do {seq} to ', acc)\n",
    "    return llen, acc\n",
    "            \n",
    "    \n",
    "    "
   ]
  },
  {
   "cell_type": "code",
   "execution_count": 352,
   "id": "80bdbef0-9a87-4ed9-bffb-69c65baf2b10",
   "metadata": {},
   "outputs": [
    {
     "data": {
      "text/plain": [
       "(8, '___A___A')"
      ]
     },
     "execution_count": 352,
     "metadata": {},
     "output_type": "execute_result"
    }
   ],
   "source": [
    "shortest('<', rob, 0)"
   ]
  },
  {
   "cell_type": "code",
   "execution_count": 139,
   "id": "e3331cb1-02e3-4eb4-b9f5-0ac35ef73c29",
   "metadata": {},
   "outputs": [
    {
     "data": {
      "text/plain": [
       "'([<v,v<]A(<)AA[>>^,>^>]A)A((v)AA[<^,^<]A(>)A)A'"
      ]
     },
     "execution_count": 139,
     "metadata": {},
     "output_type": "execute_result"
    }
   ],
   "source": [
    "shortest('<', rob, 1)"
   ]
  },
  {
   "cell_type": "markdown",
   "id": "d5dbbd84-6d00-4d7d-8a6a-40f6ebd74136",
   "metadata": {},
   "source": [
    "```\n",
    "< to move the arm from A (its initial position) to 0.\n",
    "A to push the 0 button.\n",
    "^A to move the arm to the 2 button and push it.\n",
    ">^^A to move the arm to the 9 button and push it.\n",
    "vvvA to move the arm to the A button and push it.\n",
    "```"
   ]
  },
  {
   "cell_type": "code",
   "execution_count": null,
   "id": "76990ed4-6c86-46f3-95ab-621c8ac55bb5",
   "metadata": {},
   "outputs": [],
   "source": []
  }
 ],
 "metadata": {
  "kernelspec": {
   "display_name": "Python 3 (ipykernel)",
   "language": "python",
   "name": "python3"
  },
  "language_info": {
   "codemirror_mode": {
    "name": "ipython",
    "version": 3
   },
   "file_extension": ".py",
   "mimetype": "text/x-python",
   "name": "python",
   "nbconvert_exporter": "python",
   "pygments_lexer": "ipython3",
   "version": "3.12.3"
  }
 },
 "nbformat": 4,
 "nbformat_minor": 5
}
