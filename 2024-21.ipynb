{
 "cells": [
  {
   "cell_type": "code",
   "execution_count": 1,
   "id": "c284a1c7-c930-4c36-b726-a1d441e3e45c",
   "metadata": {},
   "outputs": [],
   "source": [
    "data = \"\"\"789\n",
    "456\n",
    "123\n",
    ".0A\"\"\"\n",
    "\n",
    "data_robot = \"\"\".^A\n",
    "<v>\"\"\"\n",
    "\n",
    "\n",
    "def parse(data):\n",
    "\n",
    "    direct = {}\n",
    "    for (y,l) in  enumerate(data.splitlines()):\n",
    "        for (x,c) in enumerate(l):\n",
    "            if c == '.':\n",
    "                continue\n",
    "            direct[(x,y)] = c\n",
    "    return tuple((k,v) for k,v in direct.items())\n",
    "keypad = parse(data)\n",
    "rob = parse(data_robot)\n",
    "\n"
   ]
  },
  {
   "cell_type": "markdown",
   "id": "514c125c-b14c-4a0f-b5f9-5a4653c131c4",
   "metadata": {},
   "source": [
    "```\n",
    "789\n",
    "456\n",
    "123\n",
    ".0A\n",
    "```\n",
    "\n",
    "```\n",
    " ^A\n",
    "<v>\n",
    "```\n"
   ]
  },
  {
   "cell_type": "code",
   "execution_count": 2,
   "id": "1df4afa0-0492-4fbe-a635-5e926a2294ca",
   "metadata": {},
   "outputs": [],
   "source": [
    "from heapq import heappush as push, heappop as pop"
   ]
  },
  {
   "cell_type": "code",
   "execution_count": 3,
   "id": "f206c37e-b9f1-4b18-8510-33e57a12b9cf",
   "metadata": {},
   "outputs": [],
   "source": [
    "from functools import cache"
   ]
  },
  {
   "cell_type": "code",
   "execution_count": 4,
   "id": "9720feda-1e10-4f52-8f0a-903897b76248",
   "metadata": {},
   "outputs": [
    {
     "data": {
      "text/plain": [
       "{0: 1}"
      ]
     },
     "execution_count": 4,
     "metadata": {},
     "output_type": "execute_result"
    }
   ],
   "source": [
    "dict([(0,1)])"
   ]
  },
  {
   "cell_type": "code",
   "execution_count": 5,
   "id": "91c5530f-ef23-4c19-973d-cb509a1e3a67",
   "metadata": {},
   "outputs": [],
   "source": [
    "@cache\n",
    "def all_path(fmap, start, end):\n",
    "    map = dict(fmap)\n",
    "    revmap = {v:k for k,v in map.items()}\n",
    "    dir= {\n",
    "        \"^\":(0,-1),\n",
    "        \"v\":(0,1,),\n",
    "        \">\":(1,0),\n",
    "        \"<\":(-1,0),\n",
    "    }\n",
    "    open = [(0, start, '')]\n",
    "    minscore = float('inf')\n",
    "    paths = []\n",
    "    while open:\n",
    "        score, n, seq = pop(open)\n",
    "        import time\n",
    "        time.sleep(0.01)        \n",
    "        score = len(seq)\n",
    "        (x,y) = revmap[n]\n",
    "        if score > minscore:\n",
    "            return paths\n",
    "        if n == end:\n",
    "            paths.append(seq)\n",
    "            minscore = len(seq)\n",
    "            continue\n",
    "        neigh = [(x+dx, y+dy, d) for d,(dx,dy) in dir.items()]\n",
    "        #print(neigh)\n",
    "        for (nx,ny, d) in neigh:\n",
    "            if (nx, ny) in map:\n",
    "                push(open, (score +1, map[(nx,ny)], seq+d))\n",
    "    return []\n",
    "            \n",
    "            \n",
    "        "
   ]
  },
  {
   "cell_type": "code",
   "execution_count": 6,
   "id": "1fbba548-4a8e-40be-94b5-7bd35cc6206e",
   "metadata": {},
   "outputs": [
    {
     "data": {
      "text/plain": [
       "(((0, 0), '7'),\n",
       " ((1, 0), '8'),\n",
       " ((2, 0), '9'),\n",
       " ((0, 1), '4'),\n",
       " ((1, 1), '5'),\n",
       " ((2, 1), '6'),\n",
       " ((0, 2), '1'),\n",
       " ((1, 2), '2'),\n",
       " ((2, 2), '3'),\n",
       " ((1, 3), '0'),\n",
       " ((2, 3), 'A'))"
      ]
     },
     "execution_count": 6,
     "metadata": {},
     "output_type": "execute_result"
    }
   ],
   "source": [
    "keypad"
   ]
  },
  {
   "cell_type": "code",
   "execution_count": 19,
   "id": "cc958687-5daa-4a4d-84ff-7c2a2f6d1ef4",
   "metadata": {},
   "outputs": [
    {
     "data": {
      "text/plain": [
       "['>>vv', '>v>v', '>vv>', 'v>>v', 'v>v>']"
      ]
     },
     "execution_count": 19,
     "metadata": {},
     "output_type": "execute_result"
    }
   ],
   "source": [
    "all_path(keypad, '4', 'A')"
   ]
  },
  {
   "cell_type": "code",
   "execution_count": 20,
   "id": "d5ed751b-0d8b-413e-837d-0633c9c6f0f2",
   "metadata": {},
   "outputs": [
    {
     "data": {
      "text/plain": [
       "['<']"
      ]
     },
     "execution_count": 20,
     "metadata": {},
     "output_type": "execute_result"
    }
   ],
   "source": [
    "all_path(rob, 'A', '^')"
   ]
  },
  {
   "cell_type": "code",
   "execution_count": 21,
   "id": "5efc370d-7ab0-41f1-be76-f7f556198985",
   "metadata": {},
   "outputs": [],
   "source": []
  },
  {
   "cell_type": "code",
   "execution_count": 28,
   "id": "6e4a5686-c81e-4df0-bc8f-9536dacf4eab",
   "metadata": {},
   "outputs": [],
   "source": [
    "from itertools import pairwise"
   ]
  },
  {
   "cell_type": "code",
   "execution_count": 211,
   "id": "9f659220-ad49-4d64-97d8-aeb26e4a7341",
   "metadata": {},
   "outputs": [
    {
     "name": "stdout",
     "output_type": "stream",
     "text": [
      "On keypad: 0\n",
      "Final robot could type : <A to type final sequence\n",
      "---\n",
      "On keypad: 2\n",
      "Final robot could type : ^A to type final sequence\n",
      "---\n"
     ]
    }
   ],
   "source": [
    "target = '029A'\n",
    "target = '02'\n",
    "for source, target in pairwise(iter('A'+target)):\n",
    "    print('On keypad:', target)\n",
    "    for a in all_path(keypad, source, target):\n",
    "        print('Final robot could type :', a +'A', 'to type final sequence')\n",
    "        #l1 = shortest(a, rob, 0,0)\n",
    "        #print(' Level 2 robot should type 1', l1)\n",
    "    print('---')\n",
    "       "
   ]
  },
  {
   "cell_type": "markdown",
   "id": "327777a1-a5bc-451b-8a15-bf417c98a278",
   "metadata": {},
   "source": [
    "First: \n",
    "```\n",
    "         0\n",
    "     <   A| ^ A| >  ^^ A  vvv  A\n",
    "  v<<A>>^A|<A>A|vA<^AA>A<vAAA>^A\n",
    "```\n",
    "```\n",
    "                 0|           2|\n",
    "         <       A|       ^   A|\n",
    "  v <<   A >>  ^ A|   <   A > A|\n",
    "<vA<AA>>^AvAA<^A>A|<v<A>>^AvA^A|<vA>^A<v<A>^A>AAvA^A<v<A>A>^AAAvA<^A>A\n",
    "```"
   ]
  },
  {
   "cell_type": "markdown",
   "id": "4db94cad-a4cb-406d-a292-9b01a04b7264",
   "metadata": {},
   "source": [
    "<vA<AA>>^AvAA<^A>A<v<A>>^AvA^A<vA>^A<v<A>^A>AAvA^A<v<A>A>^AAAvA<^A>A\n",
    "v<<A>>^A<A>AvA<^AA>A<vAAA>^A\n",
    "<A^A>^^AvvvA"
   ]
  },
  {
   "cell_type": "code",
   "execution_count": 194,
   "id": "1704ed67-06a2-4f24-a331-b0d37b8eb377",
   "metadata": {},
   "outputs": [],
   "source": [
    "#@cache\n",
    "def shortest(seq, using, depth=0, maxdepth=0):\n",
    "    assert depth <= maxdepth, seq\n",
    "    indent = '  '* depth\n",
    "    print(indent,'at depth', depth, f'searching shortest way to type A: {seq} :A')\n",
    "    #print('looking for depth', depth, 'seq', seq)\n",
    "    assert not seq.startswith('A')\n",
    "    assert 'A' not in seq\n",
    "    acc = ''\n",
    "    for source, target in pairwise(iter('A'+seq+'A')):\n",
    "        if source == target:\n",
    "            print(f\"{indent} {source} -> {target} +A\")\n",
    "            acc += 'A'\n",
    "            continue\n",
    "        all = all_path(using, source, target)\n",
    "        print(f\"{indent} There are {len(all)} ways to go from {source} to {target} :{all}\")\n",
    "        if len(all) == 1:\n",
    "          acc += all[0]\n",
    "        elif depth == maxdepth:\n",
    "            acc += '['+','.join(all)+']'\n",
    "        else:\n",
    "            if all:\n",
    "                possibles = [shortest(a, using,depth+1, maxdepth) for a in all]\n",
    "                \n",
    "                lens = [len(s) for s in possibles]\n",
    "                minlen = min(lens)\n",
    "                remind= [s for s in possibles if len(s) == minlen]\n",
    "                acc += '(' + ','.join(remind) + ')'\n",
    "            else:\n",
    "                print('nothin from', source, 'to', target)\n",
    "            \n",
    "        acc +='A'\n",
    "    return acc\n",
    "            \n",
    "    \n",
    "    "
   ]
  },
  {
   "cell_type": "code",
   "execution_count": 138,
   "id": "80bdbef0-9a87-4ed9-bffb-69c65baf2b10",
   "metadata": {},
   "outputs": [
    {
     "data": {
      "text/plain": [
       "'[<v<,v<<]A[>>^,>^>]A'"
      ]
     },
     "execution_count": 138,
     "metadata": {},
     "output_type": "execute_result"
    }
   ],
   "source": [
    "shortest('<', rob, 0)"
   ]
  },
  {
   "cell_type": "code",
   "execution_count": 139,
   "id": "e3331cb1-02e3-4eb4-b9f5-0ac35ef73c29",
   "metadata": {},
   "outputs": [
    {
     "data": {
      "text/plain": [
       "'([<v,v<]A(<)AA[>>^,>^>]A)A((v)AA[<^,^<]A(>)A)A'"
      ]
     },
     "execution_count": 139,
     "metadata": {},
     "output_type": "execute_result"
    }
   ],
   "source": [
    "shortest('<', rob, 1)"
   ]
  },
  {
   "cell_type": "markdown",
   "id": "d5dbbd84-6d00-4d7d-8a6a-40f6ebd74136",
   "metadata": {},
   "source": [
    "```\n",
    "< to move the arm from A (its initial position) to 0.\n",
    "A to push the 0 button.\n",
    "^A to move the arm to the 2 button and push it.\n",
    ">^^A to move the arm to the 9 button and push it.\n",
    "vvvA to move the arm to the A button and push it.\n",
    "```"
   ]
  },
  {
   "cell_type": "code",
   "execution_count": null,
   "id": "76990ed4-6c86-46f3-95ab-621c8ac55bb5",
   "metadata": {},
   "outputs": [],
   "source": []
  }
 ],
 "metadata": {
  "kernelspec": {
   "display_name": "Python 3 (ipykernel)",
   "language": "python",
   "name": "python3"
  },
  "language_info": {
   "codemirror_mode": {
    "name": "ipython",
    "version": 3
   },
   "file_extension": ".py",
   "mimetype": "text/x-python",
   "name": "python",
   "nbconvert_exporter": "python",
   "pygments_lexer": "ipython3",
   "version": "3.12.3"
  }
 },
 "nbformat": 4,
 "nbformat_minor": 5
}
