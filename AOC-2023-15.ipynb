{
 "cells": [
  {
   "cell_type": "code",
   "execution_count": 23,
   "id": "4696263a-80f5-4882-8712-572686f6217c",
   "metadata": {},
   "outputs": [],
   "source": [
    "data_test = \"rn=1,cm-,qp=3,cm=2,qp-,pc=4,ot=9,ab=5,pc-,pc=6,ot=7\"\n",
    "from pathlib import Path\n",
    "data = data_test\n",
    "data = Path('2023-15-input.txt').read_text()"
   ]
  },
  {
   "cell_type": "code",
   "execution_count": 24,
   "id": "8fa66ae0-f14f-4fde-b4d7-88a8e4b2d41d",
   "metadata": {},
   "outputs": [],
   "source": [
    "assert '\\n' not in data"
   ]
  },
  {
   "cell_type": "code",
   "execution_count": 3,
   "id": "dba6e0d1-f789-4f76-8a5c-86512a7aa1e5",
   "metadata": {},
   "outputs": [],
   "source": [
    "codes = data.split(',')"
   ]
  },
  {
   "cell_type": "code",
   "execution_count": 5,
   "id": "af0b76f2-98e1-4948-a7e0-6534bae33b89",
   "metadata": {},
   "outputs": [
    {
     "data": {
      "text/plain": [
       "65"
      ]
     },
     "execution_count": 5,
     "metadata": {},
     "output_type": "execute_result"
    }
   ],
   "source": [
    "\n",
    "\n",
    "x+ord('A')+17"
   ]
  },
  {
   "cell_type": "code",
   "execution_count": 21,
   "id": "2489d3ac-cbfc-41fd-9b5c-d847f3f25243",
   "metadata": {},
   "outputs": [],
   "source": [
    "def hash(input):\n",
    "    acc = 0\n",
    "    for c in input:\n",
    "        acc = ((acc+ord(c))*17) % 256\n",
    "    return acc"
   ]
  },
  {
   "cell_type": "code",
   "execution_count": 29,
   "id": "ab6047fc-1759-4bf1-bb9f-e9d2338710df",
   "metadata": {},
   "outputs": [
    {
     "data": {
      "text/plain": [
       "519041"
      ]
     },
     "execution_count": 29,
     "metadata": {},
     "output_type": "execute_result"
    }
   ],
   "source": [
    "sum([hash(k) for k in data.split(',')])"
   ]
  },
  {
   "cell_type": "code",
   "execution_count": 32,
   "id": "e662d922-0ef9-45e6-b0dd-5b0d4bd4a3fc",
   "metadata": {},
   "outputs": [],
   "source": [
    "steps = data.split(',')"
   ]
  },
  {
   "cell_type": "code",
   "execution_count": 43,
   "id": "24e06433-ca1e-458f-b98b-2ac092ad2ab7",
   "metadata": {},
   "outputs": [],
   "source": [
    "l = list('ABCD')"
   ]
  },
  {
   "cell_type": "code",
   "execution_count": 48,
   "id": "71cf9d90-a443-4482-8a96-0edf55ff6a08",
   "metadata": {},
   "outputs": [
    {
     "data": {
      "text/plain": [
       "OrderedDict()"
      ]
     },
     "execution_count": 48,
     "metadata": {},
     "output_type": "execute_result"
    }
   ],
   "source": [
    "d = od()\n",
    "d"
   ]
  },
  {
   "cell_type": "code",
   "execution_count": 44,
   "id": "6ba7e44e-4c11-45c1-a63d-9eeec6124de8",
   "metadata": {},
   "outputs": [],
   "source": [
    "from collections import OrderedDict as od"
   ]
  },
  {
   "cell_type": "code",
   "execution_count": null,
   "id": "e7b278eb-873d-4063-8858-47c331207604",
   "metadata": {},
   "outputs": [],
   "source": []
  },
  {
   "cell_type": "code",
   "execution_count": null,
   "id": "bdbd2276-310a-44c5-97d1-b65b36145a6b",
   "metadata": {},
   "outputs": [],
   "source": []
  },
  {
   "cell_type": "code",
   "execution_count": 110,
   "id": "4cc58021-1ef9-4730-ace1-231f957d1254",
   "metadata": {},
   "outputs": [
    {
     "data": {
      "text/plain": [
       "260530"
      ]
     },
     "execution_count": 110,
     "metadata": {},
     "output_type": "execute_result"
    }
   ],
   "source": [
    "boxes = [od() for i in range(256)]\n",
    "boxes\n",
    "\n",
    "def minus(box, label):\n",
    "    if label in box:\n",
    "        del box[label]\n",
    "    else:\n",
    "        pass\n",
    "        #print('label', label,'not in box')\n",
    "\n",
    "def equal(box, label, focal):\n",
    "    box[label] = focal\n",
    "\n",
    "    \n",
    "def step(boxes, instruction):\n",
    "    if '=' in instruction:\n",
    "        label,focal = instruction.split('=')\n",
    "        box_n = hash(label)\n",
    "        equal(boxes[box_n], label, focal)\n",
    "    else:\n",
    "        assert instruction.endswith('-')\n",
    "        label = instruction[:-1]\n",
    "        box_n = hash(label)\n",
    "        minus(boxes[box_n], label)\n",
    "    \n",
    "import time\n",
    "steps = data.split(',')\n",
    "for s in steps:\n",
    "    #time.sleep(0.1)\n",
    "    step(boxes, s)\n",
    "    #print('\\nAfter', s)\n",
    "    #for bx, ct in [(i,list(b.items())) for (i,b) in enumerate(boxes) if len(b)]:\n",
    "    #    print('Box ', bx, ':', ct)\n",
    "from math import prod\n",
    "sum([sum([prod((e,sn,int(u))) for sn,(_,u) in enumerate(b.items(), start=1)]) for e,b in enumerate(boxes, start=1)])\n"
   ]
  },
  {
   "cell_type": "code",
   "execution_count": 81,
   "id": "f2e02595-2b47-48de-85d6-316df654478b",
   "metadata": {},
   "outputs": [
    {
     "data": {
      "text/plain": [
       "[(0, [('mqr', '5')]),\n",
       " (4, [('tvxgk', '5')]),\n",
       " (5, [('mx', '1')]),\n",
       " (6, [('rqs', '9')]),\n",
       " (8, [('zn', '6')]),\n",
       " (10, [('xqq', '3'), ('dmxmt', '7')]),\n",
       " (11, [('hs', '6')]),\n",
       " (13, [('cjp', '1')]),\n",
       " (15, [('htgl', '3')]),\n",
       " (16, [('fpz', '3')]),\n",
       " (19, [('dkbr', '6')]),\n",
       " (20, [('pd', '2')]),\n",
       " (21, [('phm', '3')]),\n",
       " (23, [('brs', '1')]),\n",
       " (24, [('ll', '8')]),\n",
       " (26, [('mjc', '3')]),\n",
       " (27, [('xs', '7')]),\n",
       " (30, [('ndl', '8'), ('cjq', '1')]),\n",
       " (32, [('tl', '7'), ('bkc', '1')]),\n",
       " (33, [('sgg', '1')]),\n",
       " (34, [('zgq', '8')]),\n",
       " (35, [('zqrv', '9')]),\n",
       " (36, [('rltr', '7'), ('ksv', '4')]),\n",
       " (37, [('mfpb', '3')]),\n",
       " (39, [('mz', '2'), ('crb', '1')]),\n",
       " (42, [('smz', '9')]),\n",
       " (43, [('jq', '9')]),\n",
       " (44, [('lzf', '5')]),\n",
       " (45, [('xzjnbq', '1')]),\n",
       " (50, [('qkf', '3'), ('jxp', '8')]),\n",
       " (51, [('szrnv', '6'), ('cp', '9')]),\n",
       " (52, [('qs', '8'), ('qxk', '3')]),\n",
       " (53, [('xqxd', '2')]),\n",
       " (54, [('clplnm', '8')]),\n",
       " (55, [('dps', '6')]),\n",
       " (56, [('gjg', '5'), ('qts', '3')]),\n",
       " (60, [('jr', '6')]),\n",
       " (62, [('kkx', '6')]),\n",
       " (63, [('gx', '3'), ('hg', '3')]),\n",
       " (64, [('fz', '3')]),\n",
       " (65, [('gbh', '9'), ('tqdfr', '5')]),\n",
       " (66, [('tfh', '5')]),\n",
       " (67, [('pdnq', '8')]),\n",
       " (68, [('hlp', '1'), ('ldt', '2')]),\n",
       " (69, [('rc', '5'), ('jjjst', '8'), ('gpmltq', '7')]),\n",
       " (70, [('bd', '8'), ('pv', '4')]),\n",
       " (71, [('pg', '1'), ('vzkl', '7')]),\n",
       " (72, [('nz', '6')]),\n",
       " (75, [('qrx', '1'), ('hfm', '5')]),\n",
       " (76, [('snk', '7'), ('kvzdm', '5')]),\n",
       " (77, [('mjgdjq', '5'), ('jknvzj', '9')]),\n",
       " (80, [('hh', '9')]),\n",
       " (81, [('qmlg', '5'), ('nlrlvs', '3')]),\n",
       " (82, [('rzf', '9'), ('bkmh', '8'), ('fl', '9')]),\n",
       " (84, [('htfr', '7')]),\n",
       " (85, [('cr', '5'), ('mbxdz', '9')]),\n",
       " (87, [('lqmm', '7')]),\n",
       " (89, [('csc', '7')]),\n",
       " (90, [('nkq', '8'), ('nxzdv', '6')]),\n",
       " (91, [('pgd', '7'), ('mn', '5')]),\n",
       " (94, [('gxgx', '3')]),\n",
       " (95, [('lkh', '9'), ('bsmzc', '7')]),\n",
       " (96, [('hx', '6')]),\n",
       " (98, [('lhn', '8'), ('bvhb', '3'), ('gqz', '6'), ('hqkjzj', '9')]),\n",
       " (101, [('tbgh', '8')]),\n",
       " (102, [('nddp', '6'), ('db', '1')]),\n",
       " (104, [('gmd', '4'), ('gqmc', '4'), ('px', '2')]),\n",
       " (105, [('hvsgnc', '9'), ('gnrb', '8')]),\n",
       " (106, [('hxj', '5')]),\n",
       " (108, [('qrhq', '1')]),\n",
       " (110, [('gfnc', '4'), ('hpqtq', '1')]),\n",
       " (112, [('hdd', '5'), ('jf', '9')]),\n",
       " (113, [('ljk', '4')]),\n",
       " (115, [('vm', '6')]),\n",
       " (116, [('qmf', '5'), ('fn', '6')]),\n",
       " (117, [('ncd', '1'), ('tq', '8'), ('rkxvj', '9')]),\n",
       " (118, [('ss', '6'), ('dr', '4')]),\n",
       " (119, [('dc', '4')]),\n",
       " (120, [('bv', '7')]),\n",
       " (121, [('bftkr', '7')]),\n",
       " (124, [('nn', '1')]),\n",
       " (125, [('gxn', '5')]),\n",
       " (128, [('jpf', '7')]),\n",
       " (129, [('jg', '5')]),\n",
       " (131, [('jrcpd', '4')]),\n",
       " (133, [('fdk', '5'), ('bxqz', '6')]),\n",
       " (134, [('dvl', '6')]),\n",
       " (135, [('st', '2')]),\n",
       " (137, [('xzg', '1'), ('qx', '1')]),\n",
       " (138, [('bh', '7')]),\n",
       " (140, [('pht', '4')]),\n",
       " (141, [('lbshgm', '3'), ('xrvgf', '5')]),\n",
       " (143, [('zqd', '8')]),\n",
       " (146, [('lkk', '3'), ('xz', '3'), ('tkc', '2')]),\n",
       " (147, [('rnc', '2')]),\n",
       " (148, [('hl', '4')]),\n",
       " (150, [('fp', '2')]),\n",
       " (151, [('lgd', '9'), ('fhvc', '7')]),\n",
       " (152, [('dt', '4'), ('sgn', '6')]),\n",
       " (153, [('ptmh', '2')]),\n",
       " (154, [('rh', '5'), ('cg', '2')]),\n",
       " (155, [('qj', '8')]),\n",
       " (156, [('bgc', '6')]),\n",
       " (158, [('nld', '1')]),\n",
       " (159, [('qtj', '5')]),\n",
       " (160, [('mc', '2')]),\n",
       " (161, [('knx', '6'), ('jthcx', '4'), ('bdqj', '2')]),\n",
       " (162, [('kg', '3'), ('zh', '5')]),\n",
       " (163, [('nxql', '8')]),\n",
       " (165, [('sjx', '9'), ('rmf', '6'), ('hm', '9')]),\n",
       " (167, [('jzs', '4'), ('fq', '6'), ('rzk', '4'), ('mllbp', '1')]),\n",
       " (168, [('zqgf', '1'), ('vqq', '1')]),\n",
       " (169, [('bjm', '5')]),\n",
       " (170, [('vcmt', '4'), ('sg', '4')]),\n",
       " (171, [('gnf', '9')]),\n",
       " (172, [('qk', '4')]),\n",
       " (173, [('pm', '5')]),\n",
       " (175, [('djnps', '3')]),\n",
       " (176, [('nb', '9')]),\n",
       " (177, [('md', '5'), ('jcd', '3')]),\n",
       " (178, [('zlvv', '1')]),\n",
       " (179, [('xcx', '5'), ('kh', '2')]),\n",
       " (180, [('lsqt', '7')]),\n",
       " (181, [('hmxx', '2'), ('gcppk', '3')]),\n",
       " (183, [('vsn', '4')]),\n",
       " (185, [('jkd', '8'), ('fc', '6')]),\n",
       " (187, [('mck', '2')]),\n",
       " (188, [('lsm', '4'), ('qskm', '5'), ('rj', '9')]),\n",
       " (189, [('dcv', '3'), ('vkkq', '9')]),\n",
       " (191, [('brhmv', '2'), ('gpmk', '6')]),\n",
       " (192, [('vjjv', '4'), ('bzvdgs', '1')]),\n",
       " (193, [('nc', '2')]),\n",
       " (195, [('hcbf', '3'), ('rxvs', '7')]),\n",
       " (199, [('czz', '4')]),\n",
       " (200, [('gq', '1')]),\n",
       " (201, [('vc', '6')]),\n",
       " (202, [('pvnrd', '6')]),\n",
       " (203, [('svr', '3')]),\n",
       " (205, [('nsth', '5'), ('zjqx', '3')]),\n",
       " (206, [('qm', '7')]),\n",
       " (207, [('rfg', '1'), ('tqj', '6')]),\n",
       " (210, [('nd', '4')]),\n",
       " (211, [('mf', '1')]),\n",
       " (213, [('glkqf', '6')]),\n",
       " (215, [('slh', '7')]),\n",
       " (216, [('bbqs', '4')]),\n",
       " (217, [('hpq', '2'), ('vs', '3')]),\n",
       " (218, [('mkxln', '2'), ('bnvt', '8'), ('gc', '6')]),\n",
       " (219, [('xsxh', '7'), ('gqc', '4'), ('hqnd', '9')]),\n",
       " (222, [('szgrfr', '7'), ('pcqrx', '6')]),\n",
       " (223, [('tpvgbl', '5'), ('rgf', '3')]),\n",
       " (225, [('gnbj', '5'), ('hxq', '8')]),\n",
       " (226, [('hxb', '6')]),\n",
       " (227, [('hgt', '7')]),\n",
       " (228, [('rcqmns', '4')]),\n",
       " (231, [('xvgr', '6')]),\n",
       " (233, [('hq', '7')]),\n",
       " (234, [('kqvh', '3')]),\n",
       " (235, [('bqbf', '6')]),\n",
       " (236, [('lfz', '7')]),\n",
       " (237, [('xqlh', '3'), ('cnrj', '6')]),\n",
       " (238, [('dj', '5')]),\n",
       " (239, [('sff', '5')]),\n",
       " (240, [('hzn', '3')]),\n",
       " (244, [('flb', '2')]),\n",
       " (245, [('bcp', '5'), ('lfpc', '5')]),\n",
       " (246, [('grxtq', '7'), ('nxp', '8')]),\n",
       " (247, [('mjp', '1'), ('zm', '7'), ('kl', '7')]),\n",
       " (251, [('nnsl', '9'), ('gt', '5'), ('kjv', '3'), ('bhsmq', '8')]),\n",
       " (253, [('bkp', '7'), ('pccg', '7')]),\n",
       " (254, [('nbn', '2'), ('mzkl', '3')]),\n",
       " (255, [('klxnr', '9'), ('dk', '3')])]"
      ]
     },
     "execution_count": 81,
     "metadata": {},
     "output_type": "execute_result"
    }
   ],
   "source": []
  }
 ],
 "metadata": {
  "kernelspec": {
   "display_name": "Python 3 (ipykernel)",
   "language": "python",
   "name": "python3"
  },
  "language_info": {
   "codemirror_mode": {
    "name": "ipython",
    "version": 3
   },
   "file_extension": ".py",
   "mimetype": "text/x-python",
   "name": "python",
   "nbconvert_exporter": "python",
   "pygments_lexer": "ipython3",
   "version": "3.11.0"
  }
 },
 "nbformat": 4,
 "nbformat_minor": 5
}
