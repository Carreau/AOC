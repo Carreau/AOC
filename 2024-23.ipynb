{
 "cells": [
  {
   "cell_type": "code",
   "execution_count": 3,
   "id": "d8941255-55e4-40e7-a33f-78b2649cfd86",
   "metadata": {},
   "outputs": [],
   "source": [
    "from pathlib import Path"
   ]
  },
  {
   "cell_type": "code",
   "execution_count": 99,
   "id": "66a6846a-3f36-4b1d-b18d-740386007c20",
   "metadata": {},
   "outputs": [],
   "source": [
    "data =\"\"\"kh-tc\n",
    "qp-kh\n",
    "de-cg\n",
    "ka-co\n",
    "yn-aq\n",
    "qp-ub\n",
    "cg-tb\n",
    "vc-aq\n",
    "tb-ka\n",
    "wh-tc\n",
    "yn-cg\n",
    "kh-ub\n",
    "ta-co\n",
    "de-co\n",
    "tc-td\n",
    "tb-wq\n",
    "wh-td\n",
    "ta-ka\n",
    "td-qp\n",
    "aq-cg\n",
    "wq-ub\n",
    "ub-vc\n",
    "de-ta\n",
    "wq-aq\n",
    "wq-vc\n",
    "wh-yn\n",
    "ka-de\n",
    "kh-ta\n",
    "co-tc\n",
    "wh-qp\n",
    "tb-vc\n",
    "td-yn\"\"\"\n",
    "data = Path('23.txt').read_text()"
   ]
  },
  {
   "cell_type": "code",
   "execution_count": 100,
   "id": "c6bb6daf-e103-4713-a1cd-2f12e6f0949b",
   "metadata": {},
   "outputs": [],
   "source": [
    "links =  set()\n",
    "neigh = {}\n",
    "for lk  in data.splitlines():\n",
    "    la, lb = lk.split('-')\n",
    "    links.add(frozenset((la, lb)))\n",
    "    neigh.setdefault(lb, set()).add(la)\n",
    "    neigh.setdefault(la, set()).add(lb)\n",
    "     \n",
    "    "
   ]
  },
  {
   "cell_type": "code",
   "execution_count": 101,
   "id": "f5099968-9d20-4fd2-b4a1-84651b65e72b",
   "metadata": {},
   "outputs": [
    {
     "data": {
      "text/plain": [
       "11012"
      ]
     },
     "execution_count": 101,
     "metadata": {},
     "output_type": "execute_result"
    }
   ],
   "source": [
    "triplets = set()\n",
    "\n",
    "for source, others in neigh.items():\n",
    "    for o in others:\n",
    "        for t in neigh[o]:\n",
    "            if source in neigh[t]:\n",
    "                triplets.add(frozenset((source, o, t)))\n",
    "            \n",
    "len(triplets) # 11012"
   ]
  },
  {
   "cell_type": "code",
   "execution_count": 102,
   "id": "dc2559dd-0ec3-4fd2-824d-60f04a0ef205",
   "metadata": {},
   "outputs": [
    {
     "data": {
      "text/plain": [
       "998"
      ]
     },
     "execution_count": 102,
     "metadata": {},
     "output_type": "execute_result"
    }
   ],
   "source": [
    "startt_triplets = {t for t in triplets if any(i.startswith('t') for i in t)}\n",
    "len(startt_triplets) #998"
   ]
  },
  {
   "cell_type": "code",
   "execution_count": 111,
   "id": "62ad566e-0af9-4f52-8fd2-f3a0ff4a825a",
   "metadata": {},
   "outputs": [],
   "source": [
    "#[len(v) for v in neigh.values()] # 13,..."
   ]
  },
  {
   "cell_type": "code",
   "execution_count": 141,
   "id": "188e9481-1a7d-409b-8282-204929baca33",
   "metadata": {},
   "outputs": [],
   "source": [
    "#numba.jit\n",
    "def nplus(kuplets:set[str], neigh:dict[str, set[str]]):\n",
    "    kplusone = set()\n",
    "    for np in (set(neigh.keys()) - kuplets):\n",
    "        if kuplets.issubset(neigh[np]):\n",
    "            kplusone.add(kuplets.union({np}))\n",
    "    return kplusone\n",
    "            \n",
    "        "
   ]
  },
  {
   "cell_type": "code",
   "execution_count": 142,
   "id": "07a04465-85bc-4991-b253-897fd752e349",
   "metadata": {},
   "outputs": [],
   "source": [
    "kup = triplets"
   ]
  },
  {
   "cell_type": "code",
   "execution_count": 143,
   "id": "e73d52f5-f7d9-4caf-99b6-b4a1b48bfa65",
   "metadata": {},
   "outputs": [],
   "source": [
    "import numba"
   ]
  },
  {
   "cell_type": "code",
   "execution_count": null,
   "id": "3ef01889-3314-4afb-883b-5ab86aeeb0cb",
   "metadata": {},
   "outputs": [],
   "source": []
  },
  {
   "cell_type": "code",
   "execution_count": 144,
   "id": "4074163e-d5c7-4cfc-89d4-4e78d354f1ab",
   "metadata": {
    "scrolled": true
   },
   "outputs": [],
   "source": [
    "#@numba.jit\n",
    "def kp1(kup, neigh:dict[str, set[str]]):\n",
    "    kup_1 = set()\n",
    "    for k in kup:\n",
    "        kup_1 = kup_1.union(nplus(k, neigh))\n",
    "    return kup_1\n"
   ]
  },
  {
   "cell_type": "code",
   "execution_count": 154,
   "id": "b93f3db4-af3b-41de-8116-f71b10a15663",
   "metadata": {},
   "outputs": [
    {
     "data": {
      "text/plain": [
       "1"
      ]
     },
     "execution_count": 154,
     "metadata": {},
     "output_type": "execute_result"
    }
   ],
   "source": [
    "kup = kp1(kup, neigh)\n",
    "len(kup)"
   ]
  },
  {
   "cell_type": "code",
   "execution_count": 155,
   "id": "c0b7ccd8-8d94-480a-ba7a-96bedb9845dc",
   "metadata": {},
   "outputs": [
    {
     "data": {
      "text/plain": [
       "frozenset({'cc',\n",
       "           'ff',\n",
       "           'fh',\n",
       "           'fr',\n",
       "           'ny',\n",
       "           'oa',\n",
       "           'pl',\n",
       "           'rg',\n",
       "           'uj',\n",
       "           'wd',\n",
       "           'xn',\n",
       "           'xs',\n",
       "           'zw'})"
      ]
     },
     "execution_count": 155,
     "metadata": {},
     "output_type": "execute_result"
    }
   ],
   "source": [
    "sg = next(iter(kup))\n",
    "sg"
   ]
  },
  {
   "cell_type": "code",
   "execution_count": 156,
   "id": "3169ed10-1f87-49bf-88d6-8a8df4a6a972",
   "metadata": {},
   "outputs": [
    {
     "data": {
      "text/plain": [
       "'cc,ff,fh,fr,ny,oa,pl,rg,uj,wd,xn,xs,zw'"
      ]
     },
     "execution_count": 156,
     "metadata": {},
     "output_type": "execute_result"
    }
   ],
   "source": [
    "','.join(sorted(sg))"
   ]
  },
  {
   "cell_type": "code",
   "execution_count": null,
   "id": "129aaf84-a3ce-40ee-b9f0-ab1fb467f5c1",
   "metadata": {},
   "outputs": [],
   "source": []
  }
 ],
 "metadata": {
  "kernelspec": {
   "display_name": "Python 3 (ipykernel)",
   "language": "python",
   "name": "python3"
  },
  "language_info": {
   "codemirror_mode": {
    "name": "ipython",
    "version": 3
   },
   "file_extension": ".py",
   "mimetype": "text/x-python",
   "name": "python",
   "nbconvert_exporter": "python",
   "pygments_lexer": "ipython3",
   "version": "3.12.3"
  }
 },
 "nbformat": 4,
 "nbformat_minor": 5
}
