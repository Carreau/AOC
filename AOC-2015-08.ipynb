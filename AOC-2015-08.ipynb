{
 "cells": [
  {
   "cell_type": "code",
   "execution_count": 115,
   "id": "e04f9cbe-55c3-446d-bf47-5b73b23f0cd3",
   "metadata": {},
   "outputs": [],
   "source": [
    "!vimr 2015-8.txt"
   ]
  },
  {
   "cell_type": "code",
   "execution_count": 135,
   "id": "7f20efd9-8459-4985-a35b-ffec05979221",
   "metadata": {},
   "outputs": [],
   "source": [
    "from pathlib import Path\n",
    "data = Path('2015-8.txt').read_text().splitlines()\n",
    "# data = [\n",
    "# r'\"\"',\n",
    "# r'\"abc\"',\n",
    "# r'\"aaa\\\"aaa\"',\n",
    "# r'\"\\x27\"'\n",
    "# ]"
   ]
  },
  {
   "cell_type": "code",
   "execution_count": 171,
   "id": "534bbf77-1626-4f99-9e2d-2ae8abe136b8",
   "metadata": {},
   "outputs": [],
   "source": [
    "import re"
   ]
  },
  {
   "cell_type": "code",
   "execution_count": 172,
   "id": "97b99386-b097-4447-b0c6-73490dcb1554",
   "metadata": {},
   "outputs": [],
   "source": [
    "code = 0\n",
    "mem = 0\n",
    "for line in data:\n",
    "    ll = len(line)\n",
    "    code += ll\n",
    "    mem += len(eval(line))\n",
    "    "
   ]
  },
  {
   "cell_type": "code",
   "execution_count": 173,
   "id": "f741aa3e-9b0a-4d31-8ba0-0bec98b98ede",
   "metadata": {},
   "outputs": [
    {
     "data": {
      "text/plain": [
       "1350"
      ]
     },
     "execution_count": 173,
     "metadata": {},
     "output_type": "execute_result"
    }
   ],
   "source": [
    "code- mem # 7562 is too high, 7577 too high, 4833 too high"
   ]
  },
  {
   "cell_type": "code",
   "execution_count": 174,
   "id": "e38b40ca-7b97-47a4-8120-9a7af67e9f57",
   "metadata": {},
   "outputs": [
    {
     "data": {
      "text/plain": [
       "1350"
      ]
     },
     "execution_count": 174,
     "metadata": {},
     "output_type": "execute_result"
    }
   ],
   "source": [
    "sum([(len(s)- len(eval(s))) for s in data])"
   ]
  },
  {
   "cell_type": "code",
   "execution_count": 179,
   "id": "500365a0-00d7-45e7-9375-438dca561aaf",
   "metadata": {},
   "outputs": [],
   "source": [
    "code = 0\n",
    "mem = 0\n",
    "for line in data:\n",
    "    ll = len(line)\n",
    "    code += ll\n",
    "    mem += line.count(\"\\\\\")+line.count('\"')+2\n",
    "    "
   ]
  },
  {
   "cell_type": "code",
   "execution_count": 180,
   "id": "704a4d35-e4ee-4698-a16b-ba9382f4d076",
   "metadata": {},
   "outputs": [
    {
     "data": {
      "text/plain": [
       "(2085, 6195)"
      ]
     },
     "execution_count": 180,
     "metadata": {},
     "output_type": "execute_result"
    }
   ],
   "source": [
    "mem,code # 7680 too high"
   ]
  },
  {
   "cell_type": "code",
   "execution_count": 169,
   "id": "643fd32b-634a-4290-a37e-01d0d7e24943",
   "metadata": {},
   "outputs": [
    {
     "data": {
      "text/plain": [
       "2085"
      ]
     },
     "execution_count": 169,
     "metadata": {},
     "output_type": "execute_result"
    }
   ],
   "source": [
    "sum(2+s.count('\\\\')+s.count('\"') for s in data)"
   ]
  },
  {
   "cell_type": "code",
   "execution_count": null,
   "id": "f547f2ea-aa67-4e56-ba59-5e45930830d1",
   "metadata": {},
   "outputs": [],
   "source": []
  }
 ],
 "metadata": {
  "kernelspec": {
   "display_name": "Python 3 (ipykernel)",
   "language": "python",
   "name": "python3"
  },
  "language_info": {
   "codemirror_mode": {
    "name": "ipython",
    "version": 3
   },
   "file_extension": ".py",
   "mimetype": "text/x-python",
   "name": "python",
   "nbconvert_exporter": "python",
   "pygments_lexer": "ipython3",
   "version": "3.12.3"
  }
 },
 "nbformat": 4,
 "nbformat_minor": 5
}
