{
 "cells": [
  {
   "cell_type": "code",
   "execution_count": 1,
   "id": "3c6e890c-e647-496b-9684-037844df9432",
   "metadata": {},
   "outputs": [],
   "source": [
    "data_test = \"\"\"Sabqponm\n",
    "abcryxxl\n",
    "accszExk\n",
    "acctuvwj\n",
    "abdefghi\"\"\".splitlines()\n",
    "data = data_test"
   ]
  },
  {
   "cell_type": "code",
   "execution_count": 8,
   "id": "01f220ae-e194-4900-8105-4396e4069072",
   "metadata": {},
   "outputs": [
    {
     "data": {
      "text/plain": [
       "((0, 0), (2, 5))"
      ]
     },
     "execution_count": 8,
     "metadata": {},
     "output_type": "execute_result"
    }
   ],
   "source": [
    "from string import ascii_lowercase\n",
    "import numpy as np\n",
    "import matplotlib.pyplot as plt\n",
    "\n",
    "map = np.array([[u for u in d] for d in data_test])\n",
    "start = np.where(map=='S')\n",
    "start = (start[0][0], start[1][0])\n",
    "end  = np.where(map=='E')\n",
    "end = (end[0][0], end[1][0])\n",
    "height = np.vectorize(lambda d:ascii_lowercase.index(d.replace('S','a').replace('E', 'z')))(map)\n",
    "start, end"
   ]
  },
  {
   "cell_type": "code",
   "execution_count": 9,
   "id": "39cbc9eb-b7df-4ef8-ad14-080469aed74f",
   "metadata": {},
   "outputs": [
    {
     "data": {
      "text/plain": [
       "(array([0]), array([0]))"
      ]
     },
     "execution_count": 9,
     "metadata": {},
     "output_type": "execute_result"
    }
   ],
   "source": [
    "np.where(map=='S')"
   ]
  },
  {
   "cell_type": "code",
   "execution_count": 10,
   "id": "2be5ae32-fbf2-459d-b942-af84361cc56b",
   "metadata": {},
   "outputs": [
    {
     "data": {
      "text/plain": [
       "<matplotlib.image.AxesImage at 0x107c37550>"
      ]
     },
     "execution_count": 10,
     "metadata": {},
     "output_type": "execute_result"
    },
    {
     "data": {
      "image/png": "[encoded data removed]",
      "text/plain": [
       "<Figure size 768x480 with 1 Axes>"
      ]
     },
     "metadata": {},
     "output_type": "display_data"
    }
   ],
   "source": [
    "plt.matshow(height)"
   ]
  },
  {
   "cell_type": "code",
   "execution_count": 11,
   "id": "824553df-c174-4d15-b173-9ab4e4b0d8f0",
   "metadata": {},
   "outputs": [],
   "source": [
    "steps = np.full_like(height, -10000)"
   ]
  },
  {
   "cell_type": "code",
   "execution_count": 12,
   "id": "39e63a47-159c-44bb-941b-a7b2f06fac37",
   "metadata": {},
   "outputs": [
    {
     "data": {
      "text/plain": [
       "array([[     0, -10000, -10000, -10000, -10000, -10000, -10000, -10000],\n",
       "       [-10000, -10000, -10000, -10000, -10000, -10000, -10000, -10000],\n",
       "       [-10000, -10000, -10000, -10000, -10000, -10000, -10000, -10000],\n",
       "       [-10000, -10000, -10000, -10000, -10000, -10000, -10000, -10000],\n",
       "       [-10000, -10000, -10000, -10000, -10000, -10000, -10000, -10000]])"
      ]
     },
     "execution_count": 12,
     "metadata": {},
     "output_type": "execute_result"
    }
   ],
   "source": [
    "steps[*start] = 0\n",
    "steps\n",
    "\n",
    "for i in range(1\n"
   ]
  },
  {
   "cell_type": "code",
   "execution_count": null,
   "id": "00f9a434-efb5-4b0c-a159-ec168d43404b",
   "metadata": {},
   "outputs": [],
   "source": []
  }
 ],
 "metadata": {
  "kernelspec": {
   "display_name": "Python 3 (ipykernel)",
   "language": "python",
   "name": "python3"
  },
  "language_info": {
   "codemirror_mode": {
    "name": "ipython",
    "version": 3
   },
   "file_extension": ".py",
   "mimetype": "text/x-python",
   "name": "python",
   "nbconvert_exporter": "python",
   "pygments_lexer": "ipython3",
   "version": "3.11.0"
  }
 },
 "nbformat": 4,
 "nbformat_minor": 5
}
