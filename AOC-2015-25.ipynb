{
 "cells": [
  {
   "cell_type": "code",
   "execution_count": 3,
   "id": "1fff10ee-56ba-4a62-b8aa-fd383d0ebb97",
   "metadata": {},
   "outputs": [],
   "source": [
    "import numpy as np\n",
    "def prev_coord(coord):\n",
    "    x,y = coord\n",
    "    assert x >= 1\n",
    "    assert y >= 1\n",
    "    if x == 1:\n",
    "       nx = y-1\n",
    "       ny = 1\n",
    "    else:\n",
    "       nx, ny = x-1, y+1\n",
    "    return nx, ny\n",
    "        \n",
    "from functools import lru_cache\n",
    "\n",
    "A = np.zeros((6000,6000), int)\n",
    "\n",
    "@lru_cache(500000)\n",
    "def code(coord):\n",
    "    if coord == (1,1):\n",
    "        A[0,0] = 20151125\n",
    "        return 20151125\n",
    "    prev = prev_coord(coord)\n",
    "    res =  (code(prev)*252533)%33554393\n",
    "    x,y = coord[1]-1, coord[0]-1\n",
    "    if x < 6 and y<6:\n",
    "        A[x,y] = res\n",
    "    return res\n",
    "    \n",
    "\n"
   ]
  },
  {
   "cell_type": "code",
   "execution_count": 4,
   "id": "69fa59c8-6913-4060-adf5-fc574c49e61c",
   "metadata": {},
   "outputs": [],
   "source": [
    "np.set_printoptions(linewidth=120)"
   ]
  },
  {
   "cell_type": "code",
   "execution_count": 5,
   "id": "e823c0d9-f86f-4e39-8a93-c3b464f97cfd",
   "metadata": {},
   "outputs": [
    {
     "data": {
      "text/plain": [
       "8926463"
      ]
     },
     "execution_count": 5,
     "metadata": {},
     "output_type": "execute_result"
    }
   ],
   "source": [
    "2947*3029"
   ]
  },
  {
   "cell_type": "code",
   "execution_count": 46,
   "id": "415feab6-1cd1-4517-a04e-44b01b310d2f",
   "metadata": {},
   "outputs": [],
   "source": [
    "N=2947+3029+2\n",
    "B = np.zeros((N,N), int)\n",
    "C = 20151125\n",
    "idx = 1\n",
    "for j in range(1, N):\n",
    "    for i in range(1, j):\n",
    "        idx +=1\n",
    "        y,x = j-i,i\n",
    "        B[y-1,x-1] = C\n",
    "        C = (C*252533)%33554393\n",
    "        \n",
    "        \n",
    "        "
   ]
  },
  {
   "cell_type": "code",
   "execution_count": 47,
   "id": "fbe97460-d539-4ab1-a48a-067491ac2990",
   "metadata": {},
   "outputs": [
    {
     "data": {
      "text/plain": [
       "19980801"
      ]
     },
     "execution_count": 47,
     "metadata": {},
     "output_type": "execute_result"
    }
   ],
   "source": [
    "B[2947-1,3029-1] # 29037876 too high"
   ]
  },
  {
   "cell_type": "code",
   "execution_count": null,
   "id": "52471ca7-efb7-4cb5-aa6a-8e43b0c835e2",
   "metadata": {},
   "outputs": [],
   "source": []
  }
 ],
 "metadata": {
  "kernelspec": {
   "display_name": "Python 3 (ipykernel)",
   "language": "python",
   "name": "python3"
  },
  "language_info": {
   "codemirror_mode": {
    "name": "ipython",
    "version": 3
   },
   "file_extension": ".py",
   "mimetype": "text/x-python",
   "name": "python",
   "nbconvert_exporter": "python",
   "pygments_lexer": "ipython3",
   "version": "3.11.0"
  }
 },
 "nbformat": 4,
 "nbformat_minor": 5
}
